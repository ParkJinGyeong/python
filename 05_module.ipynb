{
 "cells": [
  {
   "cell_type": "markdown",
   "id": "75eb354a-281b-4c26-ae4f-7dc5df1e0aa6",
   "metadata": {},
   "source": [
    "- 라이브러리, 패키지랑 같은 말\n",
    "### 모듈"
   ]
  },
  {
   "cell_type": "code",
   "execution_count": 2,
   "id": "a14f405c-2dac-43c9-a57c-e6075c6526b4",
   "metadata": {},
   "outputs": [],
   "source": [
    "import fact"
   ]
  },
  {
   "cell_type": "code",
   "execution_count": 3,
   "id": "f852b9d6-ecb1-43be-9100-43267a6aa13f",
   "metadata": {},
   "outputs": [
    {
     "name": "stdout",
     "output_type": "stream",
     "text": [
      "<module 'fact' from 'C:\\\\Users\\\\2-23\\\\Desktop\\\\DMF\\\\python\\\\fact.py'>\n"
     ]
    }
   ],
   "source": [
    "print(fact)"
   ]
  },
  {
   "cell_type": "code",
   "execution_count": 5,
   "id": "98f41631-bccb-4e39-b00f-f64e05cd8541",
   "metadata": {},
   "outputs": [
    {
     "data": {
      "text/plain": [
       "120"
      ]
     },
     "execution_count": 5,
     "metadata": {},
     "output_type": "execute_result"
    }
   ],
   "source": [
    "fact.fact(5)"
   ]
  },
  {
   "cell_type": "code",
   "execution_count": 7,
   "id": "a36a75f6-aa4e-4f0b-939c-86e79ecfc749",
   "metadata": {},
   "outputs": [
    {
     "name": "stdout",
     "output_type": "stream",
     "text": [
      "4\n"
     ]
    }
   ],
   "source": [
    "print(fact.my_max(2,4))"
   ]
  },
  {
   "cell_type": "code",
   "execution_count": 8,
   "id": "d5d1a092-4a4f-44a3-a15d-f8d0a3de6967",
   "metadata": {},
   "outputs": [
    {
     "data": {
      "text/plain": [
       "['__builtins__',\n",
       " '__cached__',\n",
       " '__doc__',\n",
       " '__file__',\n",
       " '__loader__',\n",
       " '__name__',\n",
       " '__package__',\n",
       " '__spec__',\n",
       " 'fact',\n",
       " 'my_max']"
      ]
     },
     "execution_count": 8,
     "metadata": {},
     "output_type": "execute_result"
    }
   ],
   "source": [
    "dir(fact) #fact라는 함수가 가지고 있는 기능들을 알려줌 "
   ]
  },
  {
   "cell_type": "markdown",
   "id": "9a30fe60-e7d2-47f2-aa2d-f23b6b962147",
   "metadata": {},
   "source": [
    "### 패키지 \n",
    "- 모듈을 합쳐놓은 st "
   ]
  },
  {
   "cell_type": "code",
   "execution_count": 23,
   "id": "3340a453-e3ba-4f66-a082-01cbb0e10439",
   "metadata": {},
   "outputs": [],
   "source": [
    "import myPackage"
   ]
  },
  {
   "cell_type": "code",
   "execution_count": 24,
   "id": "38220fcb-940d-4b34-a645-fd6c549ceebc",
   "metadata": {},
   "outputs": [
    {
     "name": "stdout",
     "output_type": "stream",
     "text": [
      "<module 'myPackage' from 'C:\\\\Users\\\\2-23\\\\Desktop\\\\DMF\\\\python\\\\myPackage\\\\__init__.py'>\n"
     ]
    }
   ],
   "source": [
    "print(myPackage)"
   ]
  },
  {
   "cell_type": "code",
   "execution_count": 25,
   "id": "06758e40-22a8-4dc3-baf0-864e5bbe9f22",
   "metadata": {},
   "outputs": [],
   "source": [
    "from myPackage import math"
   ]
  },
  {
   "cell_type": "code",
   "execution_count": 35,
   "id": "9b91a4ed-c11c-48a6-be17-b4c05f3b3759",
   "metadata": {},
   "outputs": [
    {
     "ename": "AttributeError",
     "evalue": "'int' object has no attribute 'my_max'",
     "output_type": "error",
     "traceback": [
      "\u001b[1;31m---------------------------------------------------------------------------\u001b[0m",
      "\u001b[1;31mAttributeError\u001b[0m                            Traceback (most recent call last)",
      "Cell \u001b[1;32mIn[35], line 1\u001b[0m\n\u001b[1;32m----> 1\u001b[0m \u001b[43mformula\u001b[49m\u001b[38;5;241;43m.\u001b[39;49m\u001b[43mmy_max\u001b[49m(\u001b[38;5;241m1\u001b[39m, \u001b[38;5;241m2\u001b[39m)\n",
      "\u001b[1;31mAttributeError\u001b[0m: 'int' object has no attribute 'my_max'"
     ]
    }
   ],
   "source": [
    "formula.my_max(1, 2)"
   ]
  },
  {
   "cell_type": "code",
   "execution_count": 36,
   "id": "cb15678f-6db7-4691-8994-06f72e35188a",
   "metadata": {},
   "outputs": [
    {
     "ename": "AttributeError",
     "evalue": "'int' object has no attribute 'pi'",
     "output_type": "error",
     "traceback": [
      "\u001b[1;31m---------------------------------------------------------------------------\u001b[0m",
      "\u001b[1;31mAttributeError\u001b[0m                            Traceback (most recent call last)",
      "Cell \u001b[1;32mIn[36], line 1\u001b[0m\n\u001b[1;32m----> 1\u001b[0m \u001b[43mformula\u001b[49m\u001b[38;5;241;43m.\u001b[39;49m\u001b[43mpi\u001b[49m\n",
      "\u001b[1;31mAttributeError\u001b[0m: 'int' object has no attribute 'pi'"
     ]
    }
   ],
   "source": [
    "formula.pi"
   ]
  },
  {
   "cell_type": "code",
   "execution_count": 29,
   "id": "5dfb511d-b815-417b-8209-88d870d97c70",
   "metadata": {},
   "outputs": [
    {
     "name": "stdout",
     "output_type": "stream",
     "text": [
      "2\n",
      "3.14\n"
     ]
    }
   ],
   "source": [
    "from myPackage.math.formula import my_max, fact, pi\n",
    "print(my_max(1, 2))\n",
    "print(pi)"
   ]
  },
  {
   "cell_type": "code",
   "execution_count": 31,
   "id": "dd5d011e-76d2-4ac1-b3c2-b6f996f521c2",
   "metadata": {},
   "outputs": [],
   "source": [
    "from myPackage.math.formula import *   #* 의 뜻은 다 가져와라는 뜻  # . 으로 하위 폴더 간다는 것 "
   ]
  },
  {
   "cell_type": "code",
   "execution_count": 33,
   "id": "7ca80bb8-bfb6-4701-8f40-09090bfbe8e8",
   "metadata": {},
   "outputs": [
    {
     "name": "stdout",
     "output_type": "stream",
     "text": [
      "1234\n"
     ]
    }
   ],
   "source": [
    "formula = 1234 \n",
    "print(formula)"
   ]
  },
  {
   "cell_type": "code",
   "execution_count": 34,
   "id": "cf4121fa-a713-49ce-b7d3-c51ffd79951c",
   "metadata": {},
   "outputs": [
    {
     "name": "stdout",
     "output_type": "stream",
     "text": [
      "1234\n",
      "<module 'myPackage.math.formula' from 'C:\\\\Users\\\\2-23\\\\Desktop\\\\DMF\\\\python\\\\myPackage\\\\math\\\\formula.py'>\n"
     ]
    }
   ],
   "source": [
    "formula = 1234\n",
    "from myPackage.math import formula as f\n",
    "print(formula)\n",
    "print(f)"
   ]
  },
  {
   "cell_type": "markdown",
   "id": "434b019e-8f3d-460a-9f64-f51161709319",
   "metadata": {},
   "source": [
    "### 파이썬 내장 패키지 "
   ]
  },
  {
   "cell_type": "code",
   "execution_count": 38,
   "id": "5112d101-cb73-4fda-858e-5895667deffd",
   "metadata": {},
   "outputs": [],
   "source": [
    "import math"
   ]
  },
  {
   "cell_type": "code",
   "execution_count": 40,
   "id": "daf1aa6d-bfbc-4dad-bd3a-f4514d1d38cc",
   "metadata": {},
   "outputs": [
    {
     "data": {
      "text/plain": [
       "3.141592653589793"
      ]
     },
     "execution_count": 40,
     "metadata": {},
     "output_type": "execute_result"
    }
   ],
   "source": [
    "math.pi"
   ]
  },
  {
   "cell_type": "code",
   "execution_count": 41,
   "id": "d8365871-a1c8-40cf-8a59-f4c89e2a916f",
   "metadata": {},
   "outputs": [
    {
     "data": {
      "text/plain": [
       "2.718281828459045"
      ]
     },
     "execution_count": 41,
     "metadata": {},
     "output_type": "execute_result"
    }
   ],
   "source": [
    "math.e"
   ]
  },
  {
   "cell_type": "code",
   "execution_count": 44,
   "id": "1657ca2c-378a-4d2c-b760-975b03b7ef97",
   "metadata": {},
   "outputs": [
    {
     "data": {
      "text/plain": [
       "4"
      ]
     },
     "execution_count": 44,
     "metadata": {},
     "output_type": "execute_result"
    }
   ],
   "source": [
    "math.ceil(math.pi)"
   ]
  },
  {
   "cell_type": "code",
   "execution_count": 46,
   "id": "500af1b5-43e9-4baf-8370-a8f0bbbf7d7d",
   "metadata": {},
   "outputs": [
    {
     "data": {
      "text/plain": [
       "3"
      ]
     },
     "execution_count": 46,
     "metadata": {},
     "output_type": "execute_result"
    }
   ],
   "source": [
    "math.floor(math.pi)"
   ]
  },
  {
   "cell_type": "code",
   "execution_count": 50,
   "id": "a1fcddf9-2d56-42d0-ab58-6ea36cb62925",
   "metadata": {},
   "outputs": [
    {
     "data": {
      "text/plain": [
       "6"
      ]
     },
     "execution_count": 50,
     "metadata": {},
     "output_type": "execute_result"
    }
   ],
   "source": [
    "math.factorial(3)\n",
    "## math.factorial 함수는 정수 인수만 받을 수 있음"
   ]
  },
  {
   "cell_type": "markdown",
   "id": "6b61edf5-32da-4435-8f7e-ae5e91a246e4",
   "metadata": {},
   "source": [
    "### random\n"
   ]
  },
  {
   "cell_type": "code",
   "execution_count": 52,
   "id": "54b60e8b-de01-4871-a34e-a127bffbff8d",
   "metadata": {},
   "outputs": [],
   "source": [
    "import random"
   ]
  },
  {
   "cell_type": "code",
   "execution_count": 54,
   "id": "355b81d0-5c5d-41a9-aca8-2c7994ad4891",
   "metadata": {},
   "outputs": [
    {
     "data": {
      "text/plain": [
       "0.7113544323013967"
      ]
     },
     "execution_count": 54,
     "metadata": {},
     "output_type": "execute_result"
    }
   ],
   "source": [
    "random.random()"
   ]
  },
  {
   "cell_type": "code",
   "execution_count": 56,
   "id": "302228d8-acdb-472b-a595-c66ebd863be8",
   "metadata": {},
   "outputs": [
    {
     "data": {
      "text/plain": [
       "2"
      ]
     },
     "execution_count": 56,
     "metadata": {},
     "output_type": "execute_result"
    }
   ],
   "source": [
    "random.randint(1, 10)"
   ]
  },
  {
   "cell_type": "code",
   "execution_count": 61,
   "id": "acefd4c3-aae3-4f9a-9e28-95dbe6265b94",
   "metadata": {},
   "outputs": [
    {
     "data": {
      "text/plain": [
       "0.13436424411240122"
      ]
     },
     "execution_count": 61,
     "metadata": {},
     "output_type": "execute_result"
    }
   ],
   "source": [
    "random.seed(1)\n",
    "random.random()\n",
    "#씨딩 작업을 먼저 해주고 랜덤을 돌려주면 똑같은 조건일 때, 랜덤이더라도 똑같은 값이 나옴 "
   ]
  },
  {
   "cell_type": "code",
   "execution_count": 62,
   "id": "58f6582e-f688-4827-b672-4756cb492758",
   "metadata": {},
   "outputs": [
    {
     "name": "stdout",
     "output_type": "stream",
     "text": [
      "[4, 2, 5, 3, 1]\n"
     ]
    }
   ],
   "source": [
    "numbers = [1, 2, 3, 4, 5]\n",
    "random.shuffle(numbers)\n",
    "print(numbers)\n",
    "#무작위로 섞기 "
   ]
  },
  {
   "cell_type": "code",
   "execution_count": 63,
   "id": "b24d9bb5-162e-4096-867b-fbf8585d5e4d",
   "metadata": {},
   "outputs": [
    {
     "data": {
      "text/plain": [
       "3"
      ]
     },
     "execution_count": 63,
     "metadata": {},
     "output_type": "execute_result"
    }
   ],
   "source": [
    "#무작위로 뽑기. 복원 추출 (원본은 유지되면서 뽑기)\n",
    "random.choice(numbers)"
   ]
  },
  {
   "cell_type": "code",
   "execution_count": 65,
   "id": "81dd6716-84b8-497a-a15f-292a455a4a15",
   "metadata": {},
   "outputs": [
    {
     "data": {
      "text/plain": [
       "[2, 4]"
      ]
     },
     "execution_count": 65,
     "metadata": {},
     "output_type": "execute_result"
    }
   ],
   "source": [
    "#비복원 추출, 몇개를 뽑을지 적어야함 \n",
    "random.sample(numbers, 2)\n",
    "#2개를 뽑아서 리스트로 만들어줘 "
   ]
  },
  {
   "cell_type": "markdown",
   "id": "83f60276-b3d9-4ce6-af1c-24b4d0b57eb3",
   "metadata": {},
   "source": [
    "### datetime"
   ]
  },
  {
   "cell_type": "code",
   "execution_count": 66,
   "id": "faec572c-adbc-4a0b-afbe-4868766f59ee",
   "metadata": {},
   "outputs": [],
   "source": [
    "from datetime import datetime "
   ]
  },
  {
   "cell_type": "code",
   "execution_count": 67,
   "id": "0bb50719-3efb-4521-9a39-031ffa07895e",
   "metadata": {},
   "outputs": [
    {
     "data": {
      "text/plain": [
       "datetime.datetime(2024, 7, 2, 10, 44, 37, 973150)"
      ]
     },
     "execution_count": 67,
     "metadata": {},
     "output_type": "execute_result"
    }
   ],
   "source": [
    "datetime.now()"
   ]
  },
  {
   "cell_type": "code",
   "execution_count": 69,
   "id": "8ec87992-1b97-4c96-8e0c-f2256ae659cc",
   "metadata": {},
   "outputs": [
    {
     "name": "stderr",
     "output_type": "stream",
     "text": [
      "C:\\Users\\2-23\\AppData\\Local\\Temp\\ipykernel_3600\\2671090429.py:1: DeprecationWarning: datetime.datetime.utcnow() is deprecated and scheduled for removal in a future version. Use timezone-aware objects to represent datetimes in UTC: datetime.datetime.now(datetime.UTC).\n",
      "  datetime.utcnow() #앞으로 datetime.now(datetime.UTC)\n"
     ]
    },
    {
     "data": {
      "text/plain": [
       "datetime.datetime(2024, 7, 2, 1, 48, 39, 412137)"
      ]
     },
     "execution_count": 69,
     "metadata": {},
     "output_type": "execute_result"
    }
   ],
   "source": [
    "datetime.utcnow() #앞으로 datetime.now(datetime.UTC)"
   ]
  },
  {
   "cell_type": "code",
   "execution_count": 71,
   "id": "c8f1fad3-39b3-4e5e-99d2-4e3cb6fa0364",
   "metadata": {},
   "outputs": [
    {
     "name": "stdout",
     "output_type": "stream",
     "text": [
      "2024-07-02 10:56:25.945018\n"
     ]
    },
    {
     "data": {
      "text/plain": [
       "'2024년 07월 02일'"
      ]
     },
     "execution_count": 71,
     "metadata": {},
     "output_type": "execute_result"
    }
   ],
   "source": [
    "now = datetime.now()\n",
    "print(now)\n",
    "now.strftime(\"%Y년 %m월 %d일\")"
   ]
  },
  {
   "cell_type": "code",
   "execution_count": 72,
   "id": "a10be2f3-f3a3-46cc-bd83-eb688ca94a95",
   "metadata": {},
   "outputs": [
    {
     "data": {
      "text/plain": [
       "1"
      ]
     },
     "execution_count": 72,
     "metadata": {},
     "output_type": "execute_result"
    }
   ],
   "source": [
    "now.weekday()\n"
   ]
  },
  {
   "cell_type": "code",
   "execution_count": 74,
   "id": "9694e099-91d9-4116-9c8d-da0fae87e262",
   "metadata": {},
   "outputs": [
    {
     "name": "stdout",
     "output_type": "stream",
     "text": [
      "2024-12-25 00:00:00\n"
     ]
    }
   ],
   "source": [
    "xmas = datetime(2024, 12, 25)\n",
    "print(xmas)\n",
    "#직접 지정도 가능 "
   ]
  },
  {
   "cell_type": "code",
   "execution_count": 76,
   "id": "aa612f6b-eb77-44f1-b20b-2079bd1963b2",
   "metadata": {},
   "outputs": [],
   "source": [
    "from datetime import timedelta"
   ]
  },
  {
   "cell_type": "code",
   "execution_count": 77,
   "id": "902c5fbe-4932-473a-b66c-8aef80b1f193",
   "metadata": {},
   "outputs": [
    {
     "name": "stdout",
     "output_type": "stream",
     "text": [
      "3 days, 0:00:00\n"
     ]
    }
   ],
   "source": [
    "future = timedelta(days=3)\n",
    "print(future)"
   ]
  },
  {
   "cell_type": "code",
   "execution_count": 78,
   "id": "ea53ad31-d0b1-4172-97cd-b86ff61ea75c",
   "metadata": {},
   "outputs": [
    {
     "data": {
      "text/plain": [
       "datetime.datetime(2024, 12, 28, 0, 0)"
      ]
     },
     "execution_count": 78,
     "metadata": {},
     "output_type": "execute_result"
    }
   ],
   "source": [
    "xmas + future "
   ]
  },
  {
   "cell_type": "code",
   "execution_count": 80,
   "id": "7cb4c909-b3e6-4fea-9855-8f01c2095dca",
   "metadata": {},
   "outputs": [
    {
     "name": "stdout",
     "output_type": "stream",
     "text": [
      "182 days, 12:54:30.285525\n"
     ]
    }
   ],
   "source": [
    "new_year = datetime(2025, 1, 1)\n",
    "now = datetime.now()\n",
    "\n",
    "print(new_year - now)\n",
    "#datetime 객체끼리 계산할수 있음 "
   ]
  },
  {
   "cell_type": "code",
   "execution_count": 82,
   "id": "d33239dc-a474-4d94-9b06-7b63da0d9b4d",
   "metadata": {},
   "outputs": [
    {
     "name": "stdout",
     "output_type": "stream",
     "text": [
      "2024-10-10 11:06:58.580963\n"
     ]
    }
   ],
   "source": [
    "now = datetime.now()\n",
    "d100 = timedelta(days = 100)\n",
    "\n",
    "print(now + d100)"
   ]
  },
  {
   "cell_type": "code",
   "execution_count": 84,
   "id": "c8076f38-14ef-479f-bf9e-09c4fb3322ad",
   "metadata": {},
   "outputs": [
    {
     "data": {
      "text/plain": [
       "datetime.timedelta(0)"
      ]
     },
     "execution_count": 84,
     "metadata": {},
     "output_type": "execute_result"
    }
   ],
   "source": [
    "import datetime\n",
    "\n",
    "datetime.datetime.now()\n",
    "datetime.timedelta()\n",
    "\n",
    "#datetime이라는 폴더 안에 datetime과 timedelta가 같은 계급으로 있는 느낌 "
   ]
  },
  {
   "cell_type": "markdown",
   "id": "b4e3187d-20f9-4eab-a36c-4603019423cb",
   "metadata": {},
   "source": [
    "### 라이브러리"
   ]
  },
  {
   "cell_type": "code",
   "execution_count": 85,
   "id": "5eae1a30-b82b-4a8f-ac9b-af828228964b",
   "metadata": {},
   "outputs": [],
   "source": [
    "import requests"
   ]
  },
  {
   "cell_type": "code",
   "execution_count": 86,
   "id": "d5b815bd-f0b8-4a47-af23-80224c85cca5",
   "metadata": {},
   "outputs": [
    {
     "name": "stdout",
     "output_type": "stream",
     "text": [
      "<Response [200]>\n"
     ]
    }
   ],
   "source": [
    "r = requests.get('https://api.github.com/events')\n",
    "print(r)"
   ]
  },
  {
   "cell_type": "code",
   "execution_count": 90,
   "id": "04739a75-e0ea-45bd-9720-734cb4cb9341",
   "metadata": {},
   "outputs": [
    {
     "ename": "SyntaxError",
     "evalue": "incomplete input (626668224.py, line 6)",
     "output_type": "error",
     "traceback": [
      "\u001b[1;36m  Cell \u001b[1;32mIn[90], line 6\u001b[1;36m\u001b[0m\n\u001b[1;33m    #파라미터 값에 넣는 st\u001b[0m\n\u001b[1;37m                  ^\u001b[0m\n\u001b[1;31mSyntaxError\u001b[0m\u001b[1;31m:\u001b[0m incomplete input\n"
     ]
    }
   ],
   "source": [
    "payload = {'query': '야구'}\n",
    "r = requests.get('https://search.naver.com/search.naver', params=payload)\n",
    "print(r.text\n",
    "      \n",
    "#주소창에 원하는 것을 집어넣는 방법 \n",
    "#파라미터 값에 넣는 st"
   ]
  },
  {
   "cell_type": "code",
   "execution_count": 92,
   "id": "6c49aaae-55f4-42af-9a1f-e4796d2b72d2",
   "metadata": {},
   "outputs": [
    {
     "ename": "SyntaxError",
     "evalue": "incomplete input (3592404642.py, line 3)",
     "output_type": "error",
     "traceback": [
      "\u001b[1;36m  Cell \u001b[1;32mIn[92], line 3\u001b[1;36m\u001b[0m\n\u001b[1;33m    print(r.text\u001b[0m\n\u001b[1;37m                ^\u001b[0m\n\u001b[1;31mSyntaxError\u001b[0m\u001b[1;31m:\u001b[0m incomplete input\n"
     ]
    }
   ],
   "source": [
    "payload = {'q': '야구'}\n",
    "r = requests.get('https://www.google.com/search', params=payload)\n",
    "print(r.text"
   ]
  },
  {
   "cell_type": "code",
   "execution_count": 96,
   "id": "46568710-553f-4c80-a231-9b23075e8729",
   "metadata": {},
   "outputs": [
    {
     "name": "stdout",
     "output_type": "stream",
     "text": [
      "{'totSellamnt': 111998191000, 'returnValue': 'success', 'drwNoDate': '2024-06-29', 'firstWinamnt': 2386382421, 'drwtNo6': 40, 'drwtNo4': 11, 'firstPrzwnerCo': 11, 'drwtNo5': 37, 'bnusNo': 7, 'firstAccumamnt': 26250206631, 'drwNo': 1126, 'drwtNo2': 5, 'drwtNo3': 9, 'drwtNo1': 4}\n",
      "<class 'dict'>\n",
      "{\"totSellamnt\":111998191000,\"returnValue\":\"success\",\"drwNoDate\":\"2024-06-29\",\"firstWinamnt\":2386382421,\"drwtNo6\":40,\"drwtNo4\":11,\"firstPrzwnerCo\":11,\"drwtNo5\":37,\"bnusNo\":7,\"firstAccumamnt\":26250206631,\"drwNo\":1126,\"drwtNo2\":5,\"drwtNo3\":9,\"drwtNo1\":4}\n",
      "<class 'str'>\n"
     ]
    }
   ],
   "source": [
    "r = requests.get('https://www.dhlottery.co.kr/common.do?method=getLottoNumber&drwNo=1126')\n",
    "print(r.json())\n",
    "print(type(r.json()))\n",
    "print(r.text)\n",
    "#데이터만 있는 주소이긴 함 , 원래는 크롤링을 해서 필요한 데이터를 뽑아내야함 \n",
    "print(type(r.text)) "
   ]
  },
  {
   "cell_type": "code",
   "execution_count": 99,
   "id": "f2260687-c8a1-43b8-a453-2d2e268f3f22",
   "metadata": {},
   "outputs": [
    {
     "name": "stdout",
     "output_type": "stream",
     "text": [
      "4\n",
      "5\n"
     ]
    }
   ],
   "source": [
    "lotto_dict = r.json()\n",
    "print(lotto_dict['drwtNo1'])\n",
    "print(lotto_dict['drwtNo2'])\n",
    "#파이썬이 알아듣기 쉽게 딕셔너리로 바꿔서 원하는 것을 찾는 것 "
   ]
  },
  {
   "cell_type": "code",
   "execution_count": 101,
   "id": "264085e0-e823-4931-b14f-873ba2b0f425",
   "metadata": {},
   "outputs": [
    {
     "name": "stdout",
     "output_type": "stream",
     "text": [
      "4\n"
     ]
    }
   ],
   "source": [
    "payload = {'method' : 'getLottoNumber', 'dwrtNO': 1126,}\n",
    "r = requests.get('https://www.dhlottery.co.kr/common.do?method=getLottoNumber&drwNo=1126', params=payload)\n",
    "lotto_dict = r.json()\n",
    "print(lotto_dict['drwtNo1'])"
   ]
  },
  {
   "cell_type": "code",
   "execution_count": 160,
   "id": "3d405c1a-06fb-4b7f-8bc9-4fa8a49713d1",
   "metadata": {},
   "outputs": [
    {
     "name": "stdout",
     "output_type": "stream",
     "text": [
      "4\n",
      "5\n",
      "9\n",
      "11\n",
      "37\n",
      "40\n",
      "7\n",
      "[4, 5, 9, 11, 37, 40]\n"
     ]
    }
   ],
   "source": [
    "print(lotto_dict['drwtNo1'])\n",
    "print(lotto_dict['drwtNo2'])\n",
    "print(lotto_dict['drwtNo3'])\n",
    "print(lotto_dict['drwtNo4'])\n",
    "print(lotto_dict['drwtNo5'])\n",
    "print(lotto_dict['drwtNo6'])\n",
    "print(lotto_dict['bnusNo'])\n",
    "\n",
    "week_lotto = [lotto_dict['drwtNo1'], lotto_dict['drwtNo2'], lotto_dict['drwtNo3'], lotto_dict['drwtNo4'], lotto_dict['drwtNo5'], lotto_dict['drwtNo6']]\n",
    "print(week_lotto)"
   ]
  },
  {
   "cell_type": "code",
   "execution_count": 162,
   "id": "0e6ec15e-94f2-4066-975a-e335718c692a",
   "metadata": {},
   "outputs": [
    {
     "name": "stdout",
     "output_type": "stream",
     "text": [
      "꽝\n"
     ]
    }
   ],
   "source": [
    "List1 = a\n",
    "List2 = week_lotto\n",
    "\n",
    "if List1 == List2 :\n",
    "    print(\"당첨됐습니다\")\n",
    "else: \n",
    "    print(\"꽝\")"
   ]
  },
  {
   "cell_type": "code",
   "execution_count": 136,
   "id": "721ba377-9702-4160-9fc8-d68c2c295675",
   "metadata": {},
   "outputs": [
    {
     "name": "stdout",
     "output_type": "stream",
     "text": [
      "[{'totSellamnt': 111998191000, 'returnValue': 'success', 'drwNoDate': '2024-06-29', 'firstWinamnt': 2386382421, 'drwtNo6': 40, 'drwtNo4': 11, 'firstPrzwnerCo': 11, 'drwtNo5': 37, 'bnusNo': 7, 'firstAccumamnt': 26250206631, 'drwNo': 1126, 'drwtNo2': 5, 'drwtNo3': 9, 'drwtNo1': 4}]\n"
     ]
    }
   ],
   "source": [
    "test_list = [r.json()]\n",
    "print(test_list)\n"
   ]
  },
  {
   "cell_type": "code",
   "execution_count": 103,
   "id": "1b3f8006-88c0-4644-8626-9e4e91eae283",
   "metadata": {},
   "outputs": [],
   "source": [
    "import random"
   ]
  },
  {
   "cell_type": "code",
   "execution_count": 112,
   "id": "a7f2931c-c607-44c1-b8d5-b55eb7810af4",
   "metadata": {},
   "outputs": [],
   "source": [
    "a = random.randint(1, 45)"
   ]
  },
  {
   "cell_type": "code",
   "execution_count": 113,
   "id": "67ff580d-0441-41a2-9b06-1e0a248eb464",
   "metadata": {},
   "outputs": [
    {
     "name": "stdout",
     "output_type": "stream",
     "text": [
      "[25, 14, 7, 32, 2, 25]\n"
     ]
    }
   ],
   "source": [
    "result = []\n",
    "i=0\n",
    "while i < 6: \n",
    "    a = random.randint(1,45)\n",
    "    result.append(a)\n",
    "    i+=1\n",
    "print(result)\n"
   ]
  },
  {
   "cell_type": "code",
   "execution_count": null,
   "id": "88291b7e-dd20-4941-b60c-8d8bf70845eb",
   "metadata": {},
   "outputs": [],
   "source": [
    "random.sample(numbers, 2)"
   ]
  },
  {
   "cell_type": "code",
   "execution_count": 163,
   "id": "7a09effd-8262-4d01-a3d9-6d2895269126",
   "metadata": {},
   "outputs": [
    {
     "name": "stdout",
     "output_type": "stream",
     "text": [
      "[3, 2, 1, 19, 39, 21]\n"
     ]
    }
   ],
   "source": [
    "result = []\n",
    "i=0\n",
    "while i < 6: \n",
    "    a = random.sample(range(1,46), 6)\n",
    "    i+=1\n",
    "print(a)"
   ]
  },
  {
   "cell_type": "code",
   "execution_count": 167,
   "id": "8abb6d0b-5d6d-4510-9a04-0bc9b703e031",
   "metadata": {},
   "outputs": [
    {
     "name": "stdout",
     "output_type": "stream",
     "text": [
      "0\n"
     ]
    }
   ],
   "source": [
    "set1 = set(a)\n",
    "set2 = set(week_lotto)\n",
    "set_number = len(set1.intersection(set2))\n",
    "print(set_number)"
   ]
  },
  {
   "cell_type": "code",
   "execution_count": null,
   "id": "47b9f5da-0d94-4bb7-a48d-49d2fdb0275e",
   "metadata": {},
   "outputs": [],
   "source": [
    "for n in range(5)"
   ]
  },
  {
   "cell_type": "code",
   "execution_count": 168,
   "id": "38d12004-61e9-46b9-ac2f-e6c2afb03fd7",
   "metadata": {},
   "outputs": [
    {
     "name": "stdout",
     "output_type": "stream",
     "text": [
      "{'1회차': [29, 26, 21, 44, 5, 41], '2회차': [21, 39, 30, 8, 17, 14], '3회차': [40, 35, 31, 23, 17, 12], '4회차': [35, 14, 20, 13, 16, 24], '5회차': [6, 18, 45, 29, 43, 37]}\n"
     ]
    }
   ],
   "source": [
    "# 비교 \n",
    "import random\n",
    "\n",
    "my_numbers = {}\n",
    "\n",
    "for i in range(1, 6):\n",
    "    random_number = random.sample(range(1, 46), 6)\n",
    "    my_numbers[f'{i}회차'] = random_number\n",
    "\n",
    "print(my_numbers)"
   ]
  },
  {
   "cell_type": "code",
   "execution_count": 169,
   "id": "20719781-f01a-40bb-a48a-b59606d6c854",
   "metadata": {},
   "outputs": [
    {
     "name": "stdout",
     "output_type": "stream",
     "text": [
      "{'totSellamnt': 111998191000, 'returnValue': 'success', 'drwNoDate': '2024-06-29', 'firstWinamnt': 2386382421, 'drwtNo6': 40, 'drwtNo4': 11, 'firstPrzwnerCo': 11, 'drwtNo5': 37, 'bnusNo': 7, 'firstAccumamnt': 26250206631, 'drwNo': 1126, 'drwtNo2': 5, 'drwtNo3': 9, 'drwtNo1': 4}\n"
     ]
    }
   ],
   "source": [
    "LOTTO_URL = 'https://www.dhlottery.co.kr/common.do'\n",
    "params = {\n",
    "    'method': 'getLottoNumber',\n",
    "    'drwNo': 1126,\n",
    "}\n",
    "\n",
    "r = requests.get(LOTTO_URL, params=params)\n",
    "#print(r.url)\n",
    "lotto_dict = r.json()\n",
    "\n",
    "print(lotto_dict)"
   ]
  },
  {
   "cell_type": "code",
   "execution_count": 170,
   "id": "84ef31d3-7901-4d7c-8eff-671759766722",
   "metadata": {},
   "outputs": [
    {
     "name": "stdout",
     "output_type": "stream",
     "text": [
      "이번주 당첨번호 : [40, 11, 37, 5, 9, 4], BN: 7\n"
     ]
    }
   ],
   "source": [
    "lucky_number = []\n",
    "bonus_number = lotto_dict['bnusNo']\n",
    "\n",
    "for key, value in lotto_dict.items():\n",
    "    if 'drwtNo' in key:\n",
    "        lucky_number.append(value)\n",
    "\n",
    "print(f'이번주 당첨번호 : {lucky_number}, BN: {bonus_number}')"
   ]
  },
  {
   "cell_type": "code",
   "execution_count": 171,
   "id": "d9c212f5-8b34-4fbf-837a-6479d6424a63",
   "metadata": {},
   "outputs": [
    {
     "name": "stdout",
     "output_type": "stream",
     "text": [
      "{'1회차': [29, 26, 21, 44, 5, 41],\n",
      " '2회차': [21, 39, 30, 8, 17, 14],\n",
      " '3회차': [40, 35, 31, 23, 17, 12],\n",
      " '4회차': [35, 14, 20, 13, 16, 24],\n",
      " '5회차': [6, 18, 45, 29, 43, 37]}\n",
      "꽝\n",
      "꽝\n",
      "꽝\n",
      "꽝\n",
      "꽝\n"
     ]
    }
   ],
   "source": [
    "from pprint import pprint\n",
    "pprint(my_numbers)\n",
    "\n",
    "for my_number in my_numbers.values():\n",
    "    my_number_set = set(my_number)\n",
    "    lucky_number_set = set(lucky_number)\n",
    "\n",
    "    match_count = len(my_number_set & lucky_number_set)\n",
    "    if match_count == 6:\n",
    "        print('1등! 10억')\n",
    "    elif match_count == 5 and (bonus_number in my_number):\n",
    "        print('2등! 2천만원')\n",
    "    elif match_count == 5:\n",
    "        print('3등! 3백만원')\n",
    "    elif match_count == 4:\n",
    "        print('4등! 4만원')\n",
    "    elif match_count == 3:\n",
    "        print('5등! 5천원')\n",
    "    else:\n",
    "        print('꽝')"
   ]
  },
  {
   "cell_type": "code",
   "execution_count": 172,
   "id": "16312b3e-5945-4d4b-aaa7-a6cc8170d7b1",
   "metadata": {},
   "outputs": [
    {
     "name": "stdout",
     "output_type": "stream",
     "text": [
      "3\n"
     ]
    }
   ],
   "source": [
    "numbers_a = [1, 2, 3, 4, 5, 6]\n",
    "numbers_b = [4, 5, 6, 7, 8, 9]\n",
    "\n",
    "count = 0\n",
    "\n",
    "for num_a in numbers_a:\n",
    "    for num_b in numbers_b:\n",
    "        #print(num_a, num_b)\n",
    "        if num_a == num_b:\n",
    "            count += 1\n",
    "\n",
    "print(count)"
   ]
  },
  {
   "cell_type": "code",
   "execution_count": 173,
   "id": "c062a957-5722-40e8-a1d3-2aabeb35e118",
   "metadata": {},
   "outputs": [
    {
     "data": {
      "text/plain": [
       "3"
      ]
     },
     "execution_count": 173,
     "metadata": {},
     "output_type": "execute_result"
    }
   ],
   "source": [
    "numbers_a = [1, 2, 3, 4, 5, 6]\n",
    "numbers_b = [4, 5, 6, 7, 8, 9]\n",
    "\n",
    "set_a = set(numbers_a)\n",
    "set_b = set(numbers_b)\n",
    "\n",
    "len(set_a & set_b)"
   ]
  }
 ],
 "metadata": {
  "kernelspec": {
   "display_name": "Python 3 (ipykernel)",
   "language": "python",
   "name": "python3"
  },
  "language_info": {
   "codemirror_mode": {
    "name": "ipython",
    "version": 3
   },
   "file_extension": ".py",
   "mimetype": "text/x-python",
   "name": "python",
   "nbconvert_exporter": "python",
   "pygments_lexer": "ipython3",
   "version": "3.12.4"
  }
 },
 "nbformat": 4,
 "nbformat_minor": 5
}

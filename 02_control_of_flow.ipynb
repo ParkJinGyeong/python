{
 "cells": [
  {
   "cell_type": "markdown",
   "id": "eedb0b4e-6628-4fe2-81f6-19e4407b2dd5",
   "metadata": {},
   "source": [
    "# 제어문 \n",
    "## 조건문 (if문)\n",
    "1. if문은 반드시 일정한 참/거짓을 판단 할 수 있는 \"조건식\"과 함께 사용된다\n",
    "   - (if <조건식>:)\n",
    "2. <조건식> 참인경우 `:` 이후의 문장을 실행 (참일 때 콜론 이후의 문장을 실행한다는 뜻)\n",
    "3. <조건식> 거짓인 경우 `else` 이후의 문장을 실행\n",
    "\n",
    "    if <조건식> :\n",
    "       if의 조건식이 참인 경우 실행\n",
    "   else:\n",
    "       if의 조건식이 거짓인 경우 실행"
   ]
  },
  {
   "cell_type": "code",
   "execution_count": 5,
   "id": "d93e3dfc-611a-4e7c-9be6-66e0cc2c525f",
   "metadata": {},
   "outputs": [
    {
     "name": "stdin",
     "output_type": "stream",
     "text": [
      " ㅓㅓ\n"
     ]
    },
    {
     "name": "stdout",
     "output_type": "stream",
     "text": [
      "크리스마스 아닙니다\n"
     ]
    }
   ],
   "source": [
    "my_string = input()\n",
    "\n",
    "if my_string == \"12/25\" :\n",
    "    print(\"크리스마스입니다\")\n",
    "else:\n",
    "    print(\"크리스마스 아닙니다\")"
   ]
  },
  {
   "cell_type": "code",
   "execution_count": 12,
   "id": "75d6c3b1-e875-40bb-b1ef-78be1acce2a2",
   "metadata": {},
   "outputs": [
    {
     "name": "stdin",
     "output_type": "stream",
     "text": [
      "숫자를 입력해주세요 123\n"
     ]
    },
    {
     "name": "stdout",
     "output_type": "stream",
     "text": [
      "홀수 입니다\n"
     ]
    }
   ],
   "source": [
    "num = input(\"숫자를 입력해주세요\")\n",
    "result = int(num) % 2\n",
    "#퍼센트 기호는 나머지를 뽑아 내는 것, 슬래쉬 두개는 몫만 뽑아내기 \n",
    "# 2로 나눈 나머지를 result라는 곳에 저장\n",
    "# string formatitng : 지금 스트링으로 인식해서 에러가 나는 것\n",
    "if bool(result): \n",
    "    print(\"홀수 입니다\")\n",
    "else:\n",
    "    print(\"짝수 입니다\")"
   ]
  },
  {
   "cell_type": "code",
   "execution_count": 13,
   "id": "6dd43677-be20-496a-8d71-147dded55313",
   "metadata": {
    "scrolled": true
   },
   "outputs": [
    {
     "name": "stdin",
     "output_type": "stream",
     "text": [
      " 123\n"
     ]
    },
    {
     "name": "stdout",
     "output_type": "stream",
     "text": [
      "홀수\n"
     ]
    }
   ],
   "source": [
    "num=int(input())\n",
    "if num % 2 == 1:\n",
    "    print(\"홀수\")\n",
    "else: \n",
    "    print(\"짝수\")"
   ]
  },
  {
   "cell_type": "code",
   "execution_count": 16,
   "id": "fff1a4c4-1841-4367-9d2a-3c820a484403",
   "metadata": {},
   "outputs": [
    {
     "name": "stdin",
     "output_type": "stream",
     "text": [
      " 123\n"
     ]
    },
    {
     "name": "stdout",
     "output_type": "stream",
     "text": [
      "홀수\n"
     ]
    }
   ],
   "source": [
    "num = int(input())\n",
    "if num % 2 == 0 : \n",
    "    print(\"짝수\")\n",
    "else : \n",
    "    print(\"홀수\")"
   ]
  },
  {
   "cell_type": "code",
   "execution_count": 17,
   "id": "1cc72ece-6426-4b07-a81e-795f7fe77536",
   "metadata": {
    "scrolled": true
   },
   "outputs": [
    {
     "name": "stdin",
     "output_type": "stream",
     "text": [
      " 123\n"
     ]
    },
    {
     "name": "stdout",
     "output_type": "stream",
     "text": [
      "홀수\n"
     ]
    }
   ],
   "source": [
    "# 더 간단하게 \n",
    "num = int(input())\n",
    "if num % 2 : \n",
    "    print(\"홀수\")\n",
    "else :\n",
    "    print(\"짝수\n",
    "\n",
    "          #if 는 true 값이니까 1로 나오면 당연히 true로 봄"
   ]
  },
  {
   "cell_type": "markdown",
   "id": "5863b4b7-6595-4eb5-89f6-13b916bb7089",
   "metadata": {},
   "source": [
    "### elif"
   ]
  },
  {
   "cell_type": "code",
   "execution_count": 26,
   "id": "2159f22d-4146-4999-adeb-49c91ac99c71",
   "metadata": {},
   "outputs": [
    {
     "name": "stdin",
     "output_type": "stream",
     "text": [
      " 99\n"
     ]
    }
   ],
   "source": [
    "score = int(input())"
   ]
  },
  {
   "cell_type": "code",
   "execution_count": 23,
   "id": "161396e1-8763-4b11-bd83-91203c5a48ee",
   "metadata": {},
   "outputs": [
    {
     "name": "stdout",
     "output_type": "stream",
     "text": [
      "F\n"
     ]
    }
   ],
   "source": [
    "if score >= 90:\n",
    "    print(\"A\")\n",
    "elif score >= 80 and score <= 89:\n",
    "    print(\"B\")\n",
    "elif 70 <= score <= 79:   #거의 파이썬에서만 가능\n",
    "    print(\"C\")\n",
    "\n",
    "else: \n",
    "    print(\"F\")"
   ]
  },
  {
   "cell_type": "code",
   "execution_count": 29,
   "id": "5b9b3610-6891-462b-8bfc-77a741428a2f",
   "metadata": {},
   "outputs": [
    {
     "name": "stdout",
     "output_type": "stream",
     "text": [
      "A\n",
      "참잘했어요\n"
     ]
    }
   ],
   "source": [
    "if score >= 90:\n",
    "    print(\"A\")\n",
    "    if score >= 95:\n",
    "        print(\"참잘했어요\")\n",
    "elif score >= 80:\n",
    "    print(\"B\")"
   ]
  },
  {
   "cell_type": "markdown",
   "id": "e656cc49-6592-4c48-9687-341ba305686f",
   "metadata": {},
   "source": [
    "### 조건표현식\n",
    "\n",
    "true_value if <조건식> else false_value\n",
    "- 배우는 입장에서 지양하되, 읽을줄 알아야함\n",
    "- 한줄에 쭉 쓰는 방법 "
   ]
  },
  {
   "cell_type": "code",
   "execution_count": 31,
   "id": "c3faf42c-37ca-4b31-81ea-24138e7124fb",
   "metadata": {},
   "outputs": [
    {
     "name": "stdout",
     "output_type": "stream",
     "text": [
      "False\n"
     ]
    }
   ],
   "source": [
    "print(\"Truee\") if 1 < 0 else print(\"False\")"
   ]
  },
  {
   "cell_type": "code",
   "execution_count": 35,
   "id": "7240df76-0bd4-4cb3-9e40-2ef58d239958",
   "metadata": {},
   "outputs": [
    {
     "name": "stdout",
     "output_type": "stream",
     "text": [
      "짝수\n"
     ]
    }
   ],
   "source": [
    "num = 2 \n",
    "\n",
    "if num % 2 : \n",
    "    result = \"홀수\" \n",
    "else: \n",
    "    result = \"짝수\"\n",
    "\n",
    "print(result)"
   ]
  },
  {
   "cell_type": "code",
   "execution_count": 37,
   "id": "9d5ca68b-7e60-41b2-94cc-1794ee010221",
   "metadata": {},
   "outputs": [
    {
     "name": "stdout",
     "output_type": "stream",
     "text": [
      "홀수\n"
     ]
    }
   ],
   "source": [
    "num = 3 \n",
    "result = \"홀수\" if num % 2 else \"짝수\"\n",
    "print(result)"
   ]
  },
  {
   "cell_type": "markdown",
   "id": "b738a967-bb2f-4b9e-b360-d8eda31e5b36",
   "metadata": {},
   "source": [
    "### 반복문\n",
    "\n",
    "### while문 \n",
    "- 조건이 참일 경우에 코드를 계속 작성하는 것\n",
    "- 어떻게 언제까지 계속 작성 시킬건지 조건이 필요함\n",
    "- 잘 안 쓰긴 함 \n"
   ]
  },
  {
   "cell_type": "code",
   "execution_count": 41,
   "id": "babe2519-48ce-4520-8fb5-5b762cb7afd7",
   "metadata": {},
   "outputs": [
    {
     "ename": "KeyboardInterrupt",
     "evalue": "Interrupted by user",
     "output_type": "error",
     "traceback": [
      "\u001b[1;31m---------------------------------------------------------------------------\u001b[0m",
      "\u001b[1;31mKeyboardInterrupt\u001b[0m                         Traceback (most recent call last)",
      "Cell \u001b[1;32mIn[41], line 4\u001b[0m\n\u001b[0;32m      1\u001b[0m greeting \u001b[38;5;241m=\u001b[39m \u001b[38;5;124m\"\u001b[39m\u001b[38;5;124m \u001b[39m\u001b[38;5;124m\"\u001b[39m \u001b[38;5;66;03m#str이지만 데이터가 없는 것. none과 완전 다른 상태 \u001b[39;00m\n\u001b[0;32m      3\u001b[0m \u001b[38;5;28;01mwhile\u001b[39;00m greeting \u001b[38;5;241m!=\u001b[39m \u001b[38;5;124m\"\u001b[39m\u001b[38;5;124m안녕\u001b[39m\u001b[38;5;124m\"\u001b[39m:  \u001b[38;5;66;03m#!= 왼쪽과 오른쪽이 같나요 ?를 물어보는 것.\u001b[39;00m\n\u001b[1;32m----> 4\u001b[0m     greeting \u001b[38;5;241m=\u001b[39m \u001b[38;5;28;43minput\u001b[39;49m\u001b[43m(\u001b[49m\u001b[38;5;124;43m\"\u001b[39;49m\u001b[38;5;124;43m안녕이라고 말해줘\u001b[39;49m\u001b[38;5;124;43m\"\u001b[39;49m\u001b[43m)\u001b[49m\n",
      "File \u001b[1;32m~\\AppData\\Local\\Programs\\Python\\Python312\\Lib\\site-packages\\ipykernel\\kernelbase.py:1282\u001b[0m, in \u001b[0;36mKernel.raw_input\u001b[1;34m(self, prompt)\u001b[0m\n\u001b[0;32m   1280\u001b[0m     msg \u001b[38;5;241m=\u001b[39m \u001b[38;5;124m\"\u001b[39m\u001b[38;5;124mraw_input was called, but this frontend does not support input requests.\u001b[39m\u001b[38;5;124m\"\u001b[39m\n\u001b[0;32m   1281\u001b[0m     \u001b[38;5;28;01mraise\u001b[39;00m StdinNotImplementedError(msg)\n\u001b[1;32m-> 1282\u001b[0m \u001b[38;5;28;01mreturn\u001b[39;00m \u001b[38;5;28;43mself\u001b[39;49m\u001b[38;5;241;43m.\u001b[39;49m\u001b[43m_input_request\u001b[49m\u001b[43m(\u001b[49m\n\u001b[0;32m   1283\u001b[0m \u001b[43m    \u001b[49m\u001b[38;5;28;43mstr\u001b[39;49m\u001b[43m(\u001b[49m\u001b[43mprompt\u001b[49m\u001b[43m)\u001b[49m\u001b[43m,\u001b[49m\n\u001b[0;32m   1284\u001b[0m \u001b[43m    \u001b[49m\u001b[38;5;28;43mself\u001b[39;49m\u001b[38;5;241;43m.\u001b[39;49m\u001b[43m_parent_ident\u001b[49m\u001b[43m[\u001b[49m\u001b[38;5;124;43m\"\u001b[39;49m\u001b[38;5;124;43mshell\u001b[39;49m\u001b[38;5;124;43m\"\u001b[39;49m\u001b[43m]\u001b[49m\u001b[43m,\u001b[49m\n\u001b[0;32m   1285\u001b[0m \u001b[43m    \u001b[49m\u001b[38;5;28;43mself\u001b[39;49m\u001b[38;5;241;43m.\u001b[39;49m\u001b[43mget_parent\u001b[49m\u001b[43m(\u001b[49m\u001b[38;5;124;43m\"\u001b[39;49m\u001b[38;5;124;43mshell\u001b[39;49m\u001b[38;5;124;43m\"\u001b[39;49m\u001b[43m)\u001b[49m\u001b[43m,\u001b[49m\n\u001b[0;32m   1286\u001b[0m \u001b[43m    \u001b[49m\u001b[43mpassword\u001b[49m\u001b[38;5;241;43m=\u001b[39;49m\u001b[38;5;28;43;01mFalse\u001b[39;49;00m\u001b[43m,\u001b[49m\n\u001b[0;32m   1287\u001b[0m \u001b[43m\u001b[49m\u001b[43m)\u001b[49m\n",
      "File \u001b[1;32m~\\AppData\\Local\\Programs\\Python\\Python312\\Lib\\site-packages\\ipykernel\\kernelbase.py:1325\u001b[0m, in \u001b[0;36mKernel._input_request\u001b[1;34m(self, prompt, ident, parent, password)\u001b[0m\n\u001b[0;32m   1322\u001b[0m \u001b[38;5;28;01mexcept\u001b[39;00m \u001b[38;5;167;01mKeyboardInterrupt\u001b[39;00m:\n\u001b[0;32m   1323\u001b[0m     \u001b[38;5;66;03m# re-raise KeyboardInterrupt, to truncate traceback\u001b[39;00m\n\u001b[0;32m   1324\u001b[0m     msg \u001b[38;5;241m=\u001b[39m \u001b[38;5;124m\"\u001b[39m\u001b[38;5;124mInterrupted by user\u001b[39m\u001b[38;5;124m\"\u001b[39m\n\u001b[1;32m-> 1325\u001b[0m     \u001b[38;5;28;01mraise\u001b[39;00m \u001b[38;5;167;01mKeyboardInterrupt\u001b[39;00m(msg) \u001b[38;5;28;01mfrom\u001b[39;00m \u001b[38;5;28;01mNone\u001b[39;00m\n\u001b[0;32m   1326\u001b[0m \u001b[38;5;28;01mexcept\u001b[39;00m \u001b[38;5;167;01mException\u001b[39;00m:\n\u001b[0;32m   1327\u001b[0m     \u001b[38;5;28mself\u001b[39m\u001b[38;5;241m.\u001b[39mlog\u001b[38;5;241m.\u001b[39mwarning(\u001b[38;5;124m\"\u001b[39m\u001b[38;5;124mInvalid Message:\u001b[39m\u001b[38;5;124m\"\u001b[39m, exc_info\u001b[38;5;241m=\u001b[39m\u001b[38;5;28;01mTrue\u001b[39;00m)\n",
      "\u001b[1;31mKeyboardInterrupt\u001b[0m: Interrupted by user"
     ]
    }
   ],
   "source": [
    "greeting = \" \" #str이지만 데이터가 없는 것. none과 완전 다른 상태 \n",
    "\n",
    "while greeting != \"안녕\":  #!= 왼쪽과 오른쪽이 같나요 ?를 물어보는 것.\n",
    "    greeting = input(\"안녕이라고 말해줘\")"
   ]
  },
  {
   "cell_type": "markdown",
   "id": "f33814ed-f39d-46a2-87a2-81be8dac74d3",
   "metadata": {},
   "source": [
    "### for\n",
    "정해진 범위 내의 반복 \n",
    "for 문은 시퀀스 자료들이 가능\n",
    "시퀀스(보통 여러개가 있다고 가정)\n",
    "꾸러미 안에서 하나하나 꺼내오는 과정\n",
    "```\n",
    "for variable (시퀀스 내의 값 같은 느낌) in sequnce:"
   ]
  },
  {
   "cell_type": "code",
   "execution_count": null,
   "id": "b8e40ca5-62a3-44d5-bc81-6f771e3bde91",
   "metadata": {},
   "outputs": [],
   "source": [
    "numbers = [1, 2, 3, 4, 5]\n",
    "\n",
    "for number in numbers: #numbers에서 number를 꺼내온다"
   ]
  },
  {
   "cell_type": "code",
   "execution_count": 43,
   "id": "6ecc10f3-a761-4fd2-9f90-5bba0d1b1d66",
   "metadata": {},
   "outputs": [
    {
     "name": "stdin",
     "output_type": "stream",
     "text": [
      "단어를 입력해주세요 appple\n"
     ]
    },
    {
     "name": "stdout",
     "output_type": "stream",
     "text": [
      "a\n",
      "p\n",
      "p\n",
      "p\n",
      "l\n",
      "e\n"
     ]
    }
   ],
   "source": [
    "word = input(\"단어를 입력해주세요\")\n",
    "\n",
    "for char in word:\n",
    "    print(char)"
   ]
  },
  {
   "cell_type": "code",
   "execution_count": 44,
   "id": "9b352cb1-6fd3-4b7f-b705-43afe237238e",
   "metadata": {},
   "outputs": [
    {
     "name": "stdout",
     "output_type": "stream",
     "text": [
      "0\n",
      "1\n",
      "2\n",
      "3\n",
      "4\n"
     ]
    }
   ],
   "source": [
    "#가장 많이 쓰일 예제 \n",
    "for i in range(5):\n",
    "    print(i) "
   ]
  },
  {
   "cell_type": "code",
   "execution_count": 47,
   "id": "61779486-3771-4375-bb14-64b816dd4281",
   "metadata": {},
   "outputs": [
    {
     "name": "stdout",
     "output_type": "stream",
     "text": [
      "1\n",
      "2\n",
      "3\n",
      "4\n",
      "5\n"
     ]
    }
   ],
   "source": [
    "for i in (1, 2, 3, 4, 5):\n",
    "    print(i)\n"
   ]
  },
  {
   "cell_type": "code",
   "execution_count": 52,
   "id": "942854e5-72ba-4906-8639-95b008166e10",
   "metadata": {},
   "outputs": [
    {
     "name": "stdout",
     "output_type": "stream",
     "text": [
      "1\n",
      "3\n",
      "5\n",
      "7\n",
      "9\n",
      "11\n",
      "13\n",
      "15\n",
      "17\n",
      "19\n",
      "21\n",
      "23\n",
      "25\n",
      "27\n",
      "29\n"
     ]
    }
   ],
   "source": [
    "i- int(i)\n",
    "\n",
    "for i in range(31):\n",
    "    if i % 2 == 1:\n",
    "        print(i)\n",
    "\n",
    "# if 를 먼저 쓰면 왜 안 되는지 ?  - for 라는거 자체가 range 안에 모든 데이터를 꺼내오고, 그 데이터 하나하나 if문으로 조건 걸어서 뽑아내는 순서라서 그런거임"
   ]
  },
  {
   "cell_type": "code",
   "execution_count": 53,
   "id": "69ab9663-f598-47a4-bad3-0e30abaf30cf",
   "metadata": {},
   "outputs": [
    {
     "name": "stdout",
     "output_type": "stream",
     "text": [
      "1\n",
      "3\n",
      "5\n",
      "7\n",
      "9\n",
      "11\n",
      "13\n",
      "15\n",
      "17\n",
      "19\n",
      "21\n",
      "23\n",
      "25\n",
      "27\n",
      "29\n"
     ]
    }
   ],
   "source": [
    "numbers = range(31)\n",
    "\n",
    "for number in numbers:\n",
    "    if number % 2 :\n",
    "        print(number)\n",
    "    "
   ]
  },
  {
   "cell_type": "code",
   "execution_count": 56,
   "id": "d727d322-dfa9-4ac5-967a-1b81998ca1a7",
   "metadata": {},
   "outputs": [
    {
     "name": "stdout",
     "output_type": "stream",
     "text": [
      "(0, '라면')\n",
      "(1, '김밥')\n",
      "(2, '백반')\n"
     ]
    }
   ],
   "source": [
    "menus = [\"라면\", \"김밥\", \"백반\"]\n",
    "for menu in enumerate(menus):   #메모리 주소 같은 것임\n",
    "    print(menu)\n",
    "\n",
    "#enumerate로 감싸면, 튜플로 나오는 것을 알수 있다. index 붙여서 같이 나옴 "
   ]
  },
  {
   "cell_type": "code",
   "execution_count": 58,
   "id": "c1a597a4-3eb7-4b73-820d-b3bd28e1bf36",
   "metadata": {},
   "outputs": [
    {
     "name": "stdout",
     "output_type": "stream",
     "text": [
      "0\n",
      "라면\n",
      "1\n",
      "김밥\n",
      "2\n",
      "백반\n"
     ]
    }
   ],
   "source": [
    "for index, menu in enumerate(menus):\n",
    "    print(index)\n",
    "    print(menu)"
   ]
  },
  {
   "cell_type": "markdown",
   "id": "f6a42c4f-1627-45c2-b245-9af67aa91b6d",
   "metadata": {},
   "source": [
    "### dictionary 반복\n",
    "values, key를 유의 "
   ]
  },
  {
   "cell_type": "code",
   "execution_count": 68,
   "id": "b8b866ea-70a7-479d-abfd-75060a369a80",
   "metadata": {},
   "outputs": [],
   "source": [
    "info = {\"name\" : \"gildong\", \"location\" : \"seoul\", \"phone\" : \"010-2483-0593\", \"age\" : 20,} #쉼표를 미리 찍어 놓는건 미리 찍어서 그 후에 추가될수도 있다 ~ 이런 의미ㅁ"
   ]
  },
  {
   "cell_type": "code",
   "execution_count": 69,
   "id": "1c45470d-2543-4e41-b46a-51734fa560a6",
   "metadata": {},
   "outputs": [
    {
     "name": "stdout",
     "output_type": "stream",
     "text": [
      "name\n",
      "gildong\n",
      "location\n",
      "seoul\n",
      "phone\n",
      "010-2483-0593\n",
      "age\n",
      "20\n"
     ]
    }
   ],
   "source": [
    "for cat in info:\n",
    "    print(cat) #key\n",
    "    print(info[cat])\n",
    "\n",
    "#일반적으로 dic을 for 로 돌리면 key먄 나옴 "
   ]
  },
  {
   "cell_type": "code",
   "execution_count": 74,
   "id": "a2b8bfa1-a252-4d39-a685-1d440ef87785",
   "metadata": {},
   "outputs": [
    {
     "name": "stdout",
     "output_type": "stream",
     "text": [
      "name\n",
      "gildong\n",
      "location\n",
      "seoul\n",
      "phone\n",
      "010-2483-0593\n",
      "age\n",
      "20\n"
     ]
    }
   ],
   "source": [
    "for key in info.keys():\n",
    "    print(key)\n",
    "    print(info[key])\n",
    "\n",
    "#대괄호 조심"
   ]
  },
  {
   "cell_type": "code",
   "execution_count": 77,
   "id": "8b948742-745d-4977-861c-ad8d282c3818",
   "metadata": {},
   "outputs": [
    {
     "name": "stdout",
     "output_type": "stream",
     "text": [
      "gildong\n",
      "seoul\n",
      "010-2483-0593\n",
      "20\n"
     ]
    },
    {
     "data": {
      "text/plain": [
       "dict_values(['gildong', 'seoul', '010-2483-0593', 20])"
      ]
     },
     "execution_count": 77,
     "metadata": {},
     "output_type": "execute_result"
    }
   ],
   "source": [
    "for value in info.values():\n",
    "    print(value)\n",
    "info.values()"
   ]
  },
  {
   "cell_type": "code",
   "execution_count": 78,
   "id": "299a5a53-bc94-4142-8a28-40fb4a96fbcc",
   "metadata": {},
   "outputs": [
    {
     "name": "stdout",
     "output_type": "stream",
     "text": [
      "name gildong\n",
      "location seoul\n",
      "phone 010-2483-0593\n",
      "age 20\n"
     ]
    }
   ],
   "source": [
    "for key, value in info.items():\n",
    "    print(key, value)"
   ]
  },
  {
   "cell_type": "code",
   "execution_count": 85,
   "id": "75c4ae74-d514-4c37-96ea-4c6cd68cfad4",
   "metadata": {},
   "outputs": [],
   "source": [
    "blood_type = {\"A\":5, \"B\":3, \"O\":2, \"AB\":2}"
   ]
  },
  {
   "cell_type": "code",
   "execution_count": 89,
   "id": "53069fb9-59d5-4de5-89de-005114ff9773",
   "metadata": {},
   "outputs": [
    {
     "name": "stdout",
     "output_type": "stream",
     "text": [
      "혈액형의 종류는  A B O AB 가 있습니다.\n"
     ]
    }
   ],
   "source": [
    "print(\"혈액형의 종류는 \", end=\" \")\n",
    "for key in blood_type.keys():\n",
    "    print(key, end=\" \")\n",
    "print(\"가 있습니다.\")"
   ]
  },
  {
   "cell_type": "code",
   "execution_count": 95,
   "id": "8939fdf0-a79a-47b7-81ef-f17620e5ab97",
   "metadata": {},
   "outputs": [
    {
     "name": "stdout",
     "output_type": "stream",
     "text": [
      "총 12명 입니다\n"
     ]
    }
   ],
   "source": [
    "result = 0\n",
    "for value in blood_type.values():\n",
    "    result = result + value\n",
    "print(f\"총 {result}명 입니다\")\n",
    "#합을 구하려면 임의적인 변수를 하나 더 만들어서 총합을 더할수 있음 \n",
    "#result를 정의하지 않으면 에러가 뜸 \n",
    "#value는 자동적으로 딕셔너리의 value인 것."
   ]
  },
  {
   "cell_type": "code",
   "execution_count": 109,
   "id": "7d018501-441b-4b64-bd46-1fde2b7ee332",
   "metadata": {},
   "outputs": [
    {
     "name": "stdout",
     "output_type": "stream",
     "text": [
      "쌀\n",
      "살\n",
      "보리\n",
      "잡았다\n"
     ]
    }
   ],
   "source": [
    "rice = [\"쌀\", \"살\", \"보리\", \"쌀\", \"보리\"]\n",
    "for r in rice:\n",
    "    print(r) #list에 있는 값을 다 print해라 \n",
    "    if r==\"보리\": # 이 중에 if 가 있는가 ? \n",
    "        print(\"잡았다\") # 잡았다를 print 하고 \n",
    "        break # 끝내라 \n",
    "#강사님 코드와 비교 필요 \n",
    "#print(r)이 있으니까 if에 보리 값을 찾아도, 보리를 print 하는 것임\n"
   ]
  },
  {
   "cell_type": "markdown",
   "id": "42f9803e-3f65-41b5-8ffa-8341e7493543",
   "metadata": {},
   "source": [
    "### continue\n",
    "continue이후의 코드를 실행하지 않고 다음 반복을 진행\n"
   ]
  },
  {
   "cell_type": "code",
   "execution_count": 111,
   "id": "fe3e22d8-d75a-4c93-893d-1cfd875c3939",
   "metadata": {},
   "outputs": [
    {
     "name": "stdout",
     "output_type": "stream",
     "text": [
      "38살은 성인입니다\n",
      "82살은 성인입니다\n",
      "39살은 성인입니다\n"
     ]
    }
   ],
   "source": [
    "ages = [10, 20, 38, 82, 11, 13, 39]\n",
    "\n",
    "for age in ages:\n",
    "    if age <= 20:\n",
    "        continue\n",
    "    print(f\"{age}살은 성인입니다\")"
   ]
  },
  {
   "cell_type": "markdown",
   "id": "e4198a55-caba-4fd0-92e1-e30ba16b4fe6",
   "metadata": {},
   "source": [
    "### else\n",
    "else문은 끝까지 반복된 후 실행 됩니다\n",
    "### pass"
   ]
  },
  {
   "cell_type": "code",
   "execution_count": null,
   "id": "5787fbbb-a776-4a8d-bfd2-984004ed49d9",
   "metadata": {},
   "outputs": [],
   "source": [
    "status = 123 \n",
    "match status:\n",
    "    case 123 \n"
   ]
  },
  {
   "cell_type": "code",
   "execution_count": null,
   "id": "8cd36b26-121d-49c4-ae68-05249da23699",
   "metadata": {},
   "outputs": [],
   "source": []
  }
 ],
 "metadata": {
  "kernelspec": {
   "display_name": "Python 3 (ipykernel)",
   "language": "python",
   "name": "python3"
  },
  "language_info": {
   "codemirror_mode": {
    "name": "ipython",
    "version": 3
   },
   "file_extension": ".py",
   "mimetype": "text/x-python",
   "name": "python",
   "nbconvert_exporter": "python",
   "pygments_lexer": "ipython3",
   "version": "3.12.4"
  }
 },
 "nbformat": 4,
 "nbformat_minor": 5
}

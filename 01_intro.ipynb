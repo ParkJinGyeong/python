{
 "cells": [
  {
   "cell_type": "markdown",
   "id": "6dd87d60-d7ed-4152-8724-d09c42bb3d44",
   "metadata": {},
   "source": [
    "# 01.intro\n",
    "\n",
    "## shortcut\n",
    "- ctrl+enter\n",
    "- alt+enter\n",
    "- shift+enter\n",
    "## 주의사항 \n",
    "\n",
    "1. Apple / apple (대문자 소문자 확실히 구분)\n",
    "2. git add./ git add . (띄어쓰기 확실히 구분)\n",
    "3. message / massage "
   ]
  },
  {
   "cell_type": "code",
   "execution_count": 5,
   "id": "3f54f7d3-a179-4bcb-8941-ca3eec2d305d",
   "metadata": {},
   "outputs": [],
   "source": [
    "# 코드 안에서 주석을 쓰는 방법. 샵을 쓰면 됩니다. "
   ]
  },
  {
   "cell_type": "markdown",
   "id": "fe932abb-0850-47e4-ad74-01b6b35defe5",
   "metadata": {},
   "source": [
    "## 1. 변수 \n",
    "\n",
    "변수이름 = 값\n",
    "\n",
    "- 변수이름은 어떤 이름이든 사용가능하지만 영어, 숫자, _ 을 사용해야함\n",
    "- 키워드는 사용 불가 "
   ]
  },
  {
   "cell_type": "code",
   "execution_count": 6,
   "id": "12a1c8b4-4609-43b7-908b-26e1a8140f81",
   "metadata": {},
   "outputs": [],
   "source": [
    "a=20"
   ]
  },
  {
   "cell_type": "code",
   "execution_count": 7,
   "id": "7b066b06-eee1-4363-9525-eaf1b178116e",
   "metadata": {},
   "outputs": [
    {
     "data": {
      "text/plain": [
       "20"
      ]
     },
     "execution_count": 7,
     "metadata": {},
     "output_type": "execute_result"
    }
   ],
   "source": [
    "a\n",
    "#a 라는 박스에 20을 넣었기 때문에 a만 입력해도 20이 나옴"
   ]
  },
  {
   "cell_type": "markdown",
   "id": "ab00aff5-fe94-4a6e-adda-1f17de14bd76",
   "metadata": {},
   "source": [
    "## 1.1 number "
   ]
  },
  {
   "cell_type": "code",
   "execution_count": 8,
   "id": "c8e2830c-2ae0-4e24-9bb9-402fa7f1bb17",
   "metadata": {},
   "outputs": [],
   "source": [
    "a = 100000"
   ]
  },
  {
   "cell_type": "code",
   "execution_count": 10,
   "id": "a38b9121-f9c2-4dd9-9813-da8579cfc291",
   "metadata": {},
   "outputs": [
    {
     "data": {
      "text/plain": [
       "100000"
      ]
     },
     "execution_count": 10,
     "metadata": {},
     "output_type": "execute_result"
    }
   ],
   "source": [
    "a"
   ]
  },
  {
   "cell_type": "code",
   "execution_count": 12,
   "id": "b23f385e-9e32-4cbd-a9f3-619c7937985f",
   "metadata": {},
   "outputs": [
    {
     "data": {
      "text/plain": [
       "int"
      ]
     },
     "execution_count": 12,
     "metadata": {},
     "output_type": "execute_result"
    }
   ],
   "source": [
    "type(a)"
   ]
  },
  {
   "cell_type": "code",
   "execution_count": 14,
   "id": "255c5d67-7716-40c0-b8b7-152811bbd3d9",
   "metadata": {},
   "outputs": [],
   "source": [
    "b=1.2"
   ]
  },
  {
   "cell_type": "code",
   "execution_count": 16,
   "id": "4a865831-2fb8-432c-b77a-ddb2a9cc3097",
   "metadata": {},
   "outputs": [
    {
     "data": {
      "text/plain": [
       "float"
      ]
     },
     "execution_count": 16,
     "metadata": {},
     "output_type": "execute_result"
    }
   ],
   "source": [
    "type(b)"
   ]
  },
  {
   "cell_type": "code",
   "execution_count": 17,
   "id": "15ed7eda-6fce-47f8-bed2-0d37299e637f",
   "metadata": {},
   "outputs": [],
   "source": [
    "c=1-4j"
   ]
  },
  {
   "cell_type": "code",
   "execution_count": 19,
   "id": "58c0554b-85dc-4568-a73a-4be040fe9f45",
   "metadata": {},
   "outputs": [
    {
     "data": {
      "text/plain": [
       "(1-4j)"
      ]
     },
     "execution_count": 19,
     "metadata": {},
     "output_type": "execute_result"
    }
   ],
   "source": [
    "c"
   ]
  },
  {
   "cell_type": "code",
   "execution_count": 20,
   "id": "c94ebd99-e57f-4abe-acb6-ff507b5bb736",
   "metadata": {},
   "outputs": [
    {
     "data": {
      "text/plain": [
       "complex"
      ]
     },
     "execution_count": 20,
     "metadata": {},
     "output_type": "execute_result"
    }
   ],
   "source": [
    "type(c)"
   ]
  },
  {
   "cell_type": "markdown",
   "id": "1a9b99aa-a6c0-44e7-aa62-289abdc6ea76",
   "metadata": {},
   "source": [
    " ## 1.2 boolean\n",
    " true false로 이루어진 타입\n",
    " (컴퓨터가 이해하기 좋은 0과 1로 이루어진 것) \n",
    " 조건문에서 많이 사용하게 됨"
   ]
  },
  {
   "cell_type": "markdown",
   "id": "050c0805-b5b5-40b2-8131-80b1dec74b19",
   "metadata": {},
   "source": [
    "1.3 None (애초에 데이터가 없는 경우) null과 같고 empty string은 데이터가 0을 말하는 것으로, 둘이 명백히 다른 것임"
   ]
  },
  {
   "cell_type": "code",
   "execution_count": 22,
   "id": "6d1a2ed4-c8c1-46d6-a812-0f7ad66146ee",
   "metadata": {},
   "outputs": [],
   "source": [
    "a=None"
   ]
  },
  {
   "cell_type": "code",
   "execution_count": 24,
   "id": "fc897f7f-ca6d-4a38-bcb6-e2c2c0f89d12",
   "metadata": {},
   "outputs": [
    {
     "data": {
      "text/plain": [
       "NoneType"
      ]
     },
     "execution_count": 24,
     "metadata": {},
     "output_type": "execute_result"
    }
   ],
   "source": [
    "type(a)"
   ]
  },
  {
   "cell_type": "markdown",
   "id": "c17d4be9-df99-421e-b0da-e551768865de",
   "metadata": {},
   "source": [
    "## 1.4 String\n",
    "문자열은 \"\" 로 / 작은 따옴표도 가능한데 일관성은 있어야 함"
   ]
  },
  {
   "cell_type": "code",
   "execution_count": 25,
   "id": "2f1096e3-866b-4cd1-8b90-bdf3697c7e0e",
   "metadata": {},
   "outputs": [],
   "source": [
    "a=\"hello\""
   ]
  },
  {
   "cell_type": "code",
   "execution_count": 26,
   "id": "ae346f1d-bab8-4cf0-b6fb-dcf078580c94",
   "metadata": {},
   "outputs": [
    {
     "data": {
      "text/plain": [
       "str"
      ]
     },
     "execution_count": 26,
     "metadata": {},
     "output_type": "execute_result"
    }
   ],
   "source": [
    "type(a)"
   ]
  },
  {
   "cell_type": "code",
   "execution_count": 27,
   "id": "30c91150-1e73-4c10-9f79-a1a22d1b4b54",
   "metadata": {},
   "outputs": [
    {
     "name": "stdin",
     "output_type": "stream",
     "text": [
      " 123\n"
     ]
    }
   ],
   "source": [
    "age = input()\n",
    "#input으로 실행한 데이터를 age라는 박스 안에 넣어줘 \n",
    "#input은 사용자의 데이터를 받는 함수 \n",
    "#input이라는 함수를 실행하면, 입력할수 있는 공간이 뜸"
   ]
  },
  {
   "cell_type": "code",
   "execution_count": 28,
   "id": "740fcc24-f146-4286-9b90-db4105100614",
   "metadata": {},
   "outputs": [
    {
     "name": "stdout",
     "output_type": "stream",
     "text": [
      "123\n"
     ]
    }
   ],
   "source": [
    "print(age)"
   ]
  },
  {
   "cell_type": "code",
   "execution_count": 29,
   "id": "39edcee7-a891-4e0d-bcd3-f178d9b15e05",
   "metadata": {},
   "outputs": [
    {
     "name": "stdout",
     "output_type": "stream",
     "text": [
      "<class 'str'>\n"
     ]
    }
   ],
   "source": [
    "print(type(age))\n",
    "# input 함수에 숫자 형식으로 넣어도 str 형식으로 저장됨"
   ]
  },
  {
   "cell_type": "code",
   "execution_count": 30,
   "id": "7a7eecb1-1c70-4a71-b6cb-a59efb7f419a",
   "metadata": {},
   "outputs": [
    {
     "name": "stdout",
     "output_type": "stream",
     "text": [
      "안녕하세요 '박진경'입니다\n"
     ]
    }
   ],
   "source": [
    "print(\"안녕하세요 '박진경'입니다\")"
   ]
  },
  {
   "cell_type": "code",
   "execution_count": 31,
   "id": "364af113-6b5a-49bd-9ca1-6ea33f5a5f35",
   "metadata": {},
   "outputs": [
    {
     "name": "stdout",
     "output_type": "stream",
     "text": [
      "안녕하세요 \"박진경\"입니다.\n"
     ]
    }
   ],
   "source": [
    "print('안녕하세요 \"박진경\"입니다.')"
   ]
  },
  {
   "cell_type": "code",
   "execution_count": 32,
   "id": "c0eafa3d-03ca-4333-a219-d092bdee83de",
   "metadata": {},
   "outputs": [
    {
     "name": "stdout",
     "output_type": "stream",
     "text": [
      "안녕하세요 '박진경'입니다.\n"
     ]
    }
   ],
   "source": [
    "print(\"안녕하세요 \\'박진경\\'입니다.\")\n",
    "# \\데이터 정리를 도와주는 것 (여러줄도 한번에 작성 가능한 등,) "
   ]
  },
  {
   "cell_type": "code",
   "execution_count": 36,
   "id": "8f150b6a-8acc-41c9-8895-72670dfe31d4",
   "metadata": {},
   "outputs": [
    {
     "name": "stdout",
     "output_type": "stream",
     "text": [
      "안녕하세요 \n",
      " 박진경입니다\n"
     ]
    }
   ],
   "source": [
    "print(\"안녕하세요 \\n 박진경입니다\")"
   ]
  },
  {
   "cell_type": "code",
   "execution_count": 39,
   "id": "4f921b2c-5f90-4fb6-bc6a-02f5f605b6ae",
   "metadata": {},
   "outputs": [],
   "source": [
    "age2 = 10"
   ]
  },
  {
   "cell_type": "code",
   "execution_count": 40,
   "id": "f4974dcd-a738-4c2c-86dc-8191aebf8223",
   "metadata": {},
   "outputs": [
    {
     "name": "stdout",
     "output_type": "stream",
     "text": [
      "박진경은 10살입니다.\n"
     ]
    }
   ],
   "source": [
    "##문자열 안에 변수를 넣는 방법 - f string\n",
    "print(f\"박진경은 {age2}살입니다.\")"
   ]
  },
  {
   "cell_type": "markdown",
   "id": "81da0d82-db25-4726-9129-a229b8c5290c",
   "metadata": {},
   "source": [
    "2. 연산자\n",
    "   2.1 산술연산자 "
   ]
  },
  {
   "cell_type": "code",
   "execution_count": 49,
   "id": "5e50481c-c7f4-4e87-8a2a-b7501ee900b3",
   "metadata": {},
   "outputs": [],
   "source": [
    "a=7\n",
    "b=3"
   ]
  },
  {
   "cell_type": "code",
   "execution_count": 44,
   "id": "239af43f-40e7-4e08-b1bb-8b1086e77e4f",
   "metadata": {},
   "outputs": [
    {
     "data": {
      "text/plain": [
       "4"
      ]
     },
     "execution_count": 44,
     "metadata": {},
     "output_type": "execute_result"
    }
   ],
   "source": [
    "a**2"
   ]
  },
  {
   "cell_type": "code",
   "execution_count": 45,
   "id": "3db61351-7aad-479c-969b-d428e08f48de",
   "metadata": {},
   "outputs": [
    {
     "data": {
      "text/plain": [
       "8"
      ]
     },
     "execution_count": 45,
     "metadata": {},
     "output_type": "execute_result"
    }
   ],
   "source": [
    "a**3"
   ]
  },
  {
   "cell_type": "code",
   "execution_count": 52,
   "id": "31e1b332-2a79-44a0-b890-59e744e74eac",
   "metadata": {},
   "outputs": [
    {
     "name": "stdout",
     "output_type": "stream",
     "text": [
      "2\n",
      "1\n"
     ]
    }
   ],
   "source": [
    "print(a//b) #a를 b로 나눈 몫\n",
    "print(a%b)  #a를 b로 나눈 나머지"
   ]
  },
  {
   "cell_type": "markdown",
   "id": "8c426486-6d0d-4f8a-9cfe-94fefb357794",
   "metadata": {},
   "source": [
    "2.2 비교연산자 (등호, 연산자 사이에 띄우는게 관례상 맞음) "
   ]
  },
  {
   "cell_type": "code",
   "execution_count": 58,
   "id": "2f92eb38-0d86-44f0-9ab0-94cc8d28a316",
   "metadata": {},
   "outputs": [],
   "source": [
    "a = 10\n",
    "b = 30"
   ]
  },
  {
   "cell_type": "code",
   "execution_count": 57,
   "id": "a2d245f8-9f35-4b11-b730-179fc214157b",
   "metadata": {},
   "outputs": [
    {
     "name": "stdout",
     "output_type": "stream",
     "text": [
      "False\n",
      "True\n"
     ]
    }
   ],
   "source": [
    "print(a > b)\n",
    "print(a < b)"
   ]
  },
  {
   "cell_type": "code",
   "execution_count": 60,
   "id": "eca73cad-cade-496f-85d4-3119e6fc0260",
   "metadata": {},
   "outputs": [
    {
     "name": "stdout",
     "output_type": "stream",
     "text": [
      "True\n",
      "False\n"
     ]
    }
   ],
   "source": [
    "#문자열도 비교 가능 \n",
    "print(\"hi\" == \"hi\")\n",
    "print(\"Hi\" == \"hi\") "
   ]
  },
  {
   "cell_type": "markdown",
   "id": "592832b1-7ffa-4653-9e7c-1417c18f1a15",
   "metadata": {},
   "source": [
    "2.3 논리 연산자\n",
    "- and : 양쪽 모두 true 일 때 TRUE를 반환 \n",
    "- or  : 양쪽 모두 False 일 때 FALSE를 반환 \n",
    "- not : \n"
   ]
  },
  {
   "cell_type": "code",
   "execution_count": 62,
   "id": "6961acaa-c2dd-4bd0-977f-f0bb3b3d1d1e",
   "metadata": {},
   "outputs": [
    {
     "name": "stdout",
     "output_type": "stream",
     "text": [
      "False\n"
     ]
    }
   ],
   "source": [
    "print(not True)"
   ]
  },
  {
   "cell_type": "code",
   "execution_count": 63,
   "id": "a14a6303-78f8-4a32-8649-2c0aa41419c7",
   "metadata": {},
   "outputs": [
    {
     "name": "stdout",
     "output_type": "stream",
     "text": [
      "5\n",
      "0\n",
      "0\n",
      "0\n"
     ]
    }
   ],
   "source": [
    "print(3 and 5) #true and true(앞이 T니, 뒤에 값<-- and라서 / OR 면 앞의 값)\n",
    "print(3 and 0) #true and false (앞이 T니, 뒤에 값)\n",
    "print(0 and 1) #false and true(앞이 0이니 볼것도 없이 0)\n",
    "print(0 and 0) #false and true (앞이 0이니 볼것도 없이 0)"
   ]
  },
  {
   "cell_type": "code",
   "execution_count": 64,
   "id": "5dbd84ba-c933-4cb0-ac33-f4fd1fe9f088",
   "metadata": {},
   "outputs": [
    {
     "name": "stdout",
     "output_type": "stream",
     "text": [
      "3\n"
     ]
    }
   ],
   "source": [
    "print(3 or 5)"
   ]
  },
  {
   "cell_type": "markdown",
   "id": "dd5c2a3b-6392-4816-83aa-4e297b0fcdbc",
   "metadata": {},
   "source": [
    "2.4 복합 연산자 "
   ]
  },
  {
   "cell_type": "code",
   "execution_count": null,
   "id": "f6e150ab-295a-402a-b4ef-6f74d59a5e75",
   "metadata": {},
   "outputs": [],
   "source": [
    "+= : 덧셈과 대입 \n",
    "-= : 빼기와 대입 \n",
    "*= : 곱셈과 대입 \n",
    "/= : 나누기 및 대입\n",
    "//= : 층 분할 및 할당\n",
    "%= : 계수 및 대입\n",
    "**= : 거듭제곱 및 대입\n"
   ]
  },
  {
   "cell_type": "markdown",
   "id": "99c340ec-8a6d-4035-80e6-60d16f2f8a1f",
   "metadata": {},
   "source": [
    "3.5 기타 연산자 "
   ]
  },
  {
   "cell_type": "code",
   "execution_count": 65,
   "id": "eab2c836-82bf-4a94-ad42-f46752800b78",
   "metadata": {},
   "outputs": [],
   "source": [
    "a = \"hello\"\n",
    "b = \"hi\""
   ]
  },
  {
   "cell_type": "code",
   "execution_count": 66,
   "id": "4b3827bc-48a0-4da0-b49a-c3b40bacde4a",
   "metadata": {},
   "outputs": [
    {
     "name": "stdout",
     "output_type": "stream",
     "text": [
      "hellohi\n"
     ]
    }
   ],
   "source": [
    "print(a+b) "
   ]
  },
  {
   "cell_type": "code",
   "execution_count": 74,
   "id": "548ae605-a0c7-492a-af51-54bd6e36bdb3",
   "metadata": {},
   "outputs": [],
   "source": [
    "c = [1, 2, 3]\n",
    "d = [4, 5, 6]"
   ]
  },
  {
   "cell_type": "code",
   "execution_count": 75,
   "id": "eab4789b-7b15-414a-8003-e6013bea593b",
   "metadata": {},
   "outputs": [
    {
     "name": "stdout",
     "output_type": "stream",
     "text": [
      "[1, 2, 3, 4, 5, 6]\n"
     ]
    }
   ],
   "source": [
    "print(c + d) #중괄호 쓰면 오류 남"
   ]
  },
  {
   "cell_type": "code",
   "execution_count": 76,
   "id": "3721c9fe-95d4-46c1-85b0-2433deeaaa2c",
   "metadata": {},
   "outputs": [
    {
     "name": "stdout",
     "output_type": "stream",
     "text": [
      "True\n",
      "False\n"
     ]
    }
   ],
   "source": [
    "print(1 in c)\n",
    "print (6 in c)"
   ]
  },
  {
   "cell_type": "markdown",
   "id": "31b7bd1f-7548-46be-9398-c4d232015586",
   "metadata": {},
   "source": [
    "### 우선순위\n",
    "0. ()를 통해 그룹\n",
    "1. **\n",
    "2. 산술연산자(*,/)\n",
    "3. 산술연산자(+,-)\n",
    "4. 비교연산자(in, is)\n",
    "5. not\n",
    "6. and\n",
    "7. or"
   ]
  },
  {
   "cell_type": "code",
   "execution_count": 78,
   "id": "700e1d91-0c35-41b9-8fb2-bd456731c2dc",
   "metadata": {},
   "outputs": [
    {
     "name": "stdout",
     "output_type": "stream",
     "text": [
      "-81\n",
      "81\n"
     ]
    }
   ],
   "source": [
    "print(-3**4) # 마이너스를 먼저 계산하는 구조이기 때문에 마이너스 81\n",
    "print((-3)**4)"
   ]
  },
  {
   "cell_type": "markdown",
   "id": "2faed3b2-88aa-4a41-8090-b929603733b6",
   "metadata": {},
   "source": [
    "# 3. 형변환\n",
    "## 3.1 암시적 형변환 \n",
    "ex) true, false를 0과 1로 변환해주는 것 "
   ]
  },
  {
   "cell_type": "code",
   "execution_count": 79,
   "id": "6931105b-3ba2-40e4-9d67-37e897460005",
   "metadata": {},
   "outputs": [],
   "source": [
    "a = True \n",
    "b = False \n",
    "c = 1"
   ]
  },
  {
   "cell_type": "code",
   "execution_count": 81,
   "id": "8557ba49-1f2d-45f2-ae11-29fa8b7a5310",
   "metadata": {},
   "outputs": [
    {
     "name": "stdout",
     "output_type": "stream",
     "text": [
      "1\n"
     ]
    }
   ],
   "source": [
    "print(a + b) #파이썬이 알아서 숫자로 TF를 0과 1로 알아서 바꿔서 계산함. ,print는 숫자만 넣어서 "
   ]
  },
  {
   "cell_type": "code",
   "execution_count": 82,
   "id": "7353d640-6964-4196-aa49-28c41fb25f7b",
   "metadata": {},
   "outputs": [
    {
     "name": "stdout",
     "output_type": "stream",
     "text": [
      "-1\n"
     ]
    }
   ],
   "source": [
    "print(b - c)"
   ]
  },
  {
   "cell_type": "code",
   "execution_count": 84,
   "id": "b35a61b3-9fb6-4a14-b0e4-445628d893ae",
   "metadata": {},
   "outputs": [],
   "source": [
    "int_num = 3\n",
    "float_num = 3.3\n",
    "complex_num = 3+3j"
   ]
  },
  {
   "cell_type": "code",
   "execution_count": 89,
   "id": "aaa82437-4791-4f73-9914-615406975c91",
   "metadata": {},
   "outputs": [
    {
     "name": "stdout",
     "output_type": "stream",
     "text": [
      "<class 'float'>\n"
     ]
    }
   ],
   "source": [
    "print(type(int_num + float_num)) #int를 float로 확장해서 자동으로 덧셈으로 보여주는 것 \n",
    "#더 범주가 큰 것으로 확장이 되어서 int를 float로 확장하는 것"
   ]
  },
  {
   "cell_type": "code",
   "execution_count": 90,
   "id": "d5b2f18a-1a03-492f-b77c-fb67617e286b",
   "metadata": {},
   "outputs": [],
   "source": [
    "e=1\n",
    "f=\"기\""
   ]
  },
  {
   "cell_type": "code",
   "execution_count": 91,
   "id": "94a8ce6e-1487-49b1-8348-b7b17afa2a99",
   "metadata": {},
   "outputs": [
    {
     "ename": "TypeError",
     "evalue": "unsupported operand type(s) for +: 'int' and 'str'",
     "output_type": "error",
     "traceback": [
      "\u001b[1;31m---------------------------------------------------------------------------\u001b[0m",
      "\u001b[1;31mTypeError\u001b[0m                                 Traceback (most recent call last)",
      "Cell \u001b[1;32mIn[91], line 1\u001b[0m\n\u001b[1;32m----> 1\u001b[0m \u001b[38;5;28mprint\u001b[39m(\u001b[43me\u001b[49m\u001b[38;5;241;43m+\u001b[39;49m\u001b[43mf\u001b[49m)\n",
      "\u001b[1;31mTypeError\u001b[0m: unsupported operand type(s) for +: 'int' and 'str'"
     ]
    }
   ],
   "source": [
    "print(e+f)"
   ]
  },
  {
   "cell_type": "code",
   "execution_count": 92,
   "id": "2821d75a-dc33-487a-8529-36acac1085ff",
   "metadata": {
    "scrolled": true
   },
   "outputs": [
    {
     "ename": "TypeError",
     "evalue": "can only concatenate str (not \"int\") to str",
     "output_type": "error",
     "traceback": [
      "\u001b[1;31m---------------------------------------------------------------------------\u001b[0m",
      "\u001b[1;31mTypeError\u001b[0m                                 Traceback (most recent call last)",
      "Cell \u001b[1;32mIn[92], line 1\u001b[0m\n\u001b[1;32m----> 1\u001b[0m \u001b[38;5;28mprint\u001b[39m(\u001b[43mf\u001b[49m\u001b[38;5;241;43m+\u001b[39;49m\u001b[43me\u001b[49m)\n",
      "\u001b[1;31mTypeError\u001b[0m: can only concatenate str (not \"int\") to str"
     ]
    }
   ],
   "source": [
    "print(f+e)"
   ]
  },
  {
   "cell_type": "code",
   "execution_count": 94,
   "id": "c3963d76-2754-4067-8469-07b00cbccfb4",
   "metadata": {},
   "outputs": [
    {
     "name": "stdout",
     "output_type": "stream",
     "text": [
      "1기\n"
     ]
    }
   ],
   "source": [
    "print(str(e)+f) #str 끼리 더해야해서 숫자 형태를str로 바꿔줘야함"
   ]
  },
  {
   "cell_type": "code",
   "execution_count": 96,
   "id": "391ba105-9828-4358-a66c-84300fe5dcbc",
   "metadata": {},
   "outputs": [
    {
     "name": "stdout",
     "output_type": "stream",
     "text": [
      "True\n",
      "False\n"
     ]
    }
   ],
   "source": [
    "a = 1 \n",
    "b = 0 \n",
    "\n",
    "print(bool(a))\n",
    "print(bool(b))"
   ]
  },
  {
   "cell_type": "markdown",
   "id": "1e718456-b152-4119-abb4-a4b3ff2f76da",
   "metadata": {},
   "source": [
    "##4. 시퀀스 자료형 \n",
    "시퀀스는 데이터의 순서대로 나열된 자료구조 (순서대로 나열되었다는 것은 정렬된 것과 다름)\n",
    "1. List (상관관계 데이터를 연속적으로 저장할 때)\n",
    "2. Tuple\n",
    "3. Range\n",
    "4. String\n",
    "\n",
    "*대괄호를 쓰기 \n",
    "값과 값 사이를 쉼표로. \n",
    "* 선언 : 변수이름 = [value1, value2]\n",
    "* 접근 : 변수이름[index]"
   ]
  },
  {
   "cell_type": "code",
   "execution_count": 98,
   "id": "4e3c714d-17d8-4fca-812e-996a93369079",
   "metadata": {},
   "outputs": [],
   "source": [
    "location = [\"진주\", \"인천\", \"서울\"]"
   ]
  },
  {
   "cell_type": "code",
   "execution_count": 100,
   "id": "0bfc6693-1efe-4a5f-94ae-8616677a0857",
   "metadata": {},
   "outputs": [
    {
     "name": "stdout",
     "output_type": "stream",
     "text": [
      "['진주', '인천', '서울']\n"
     ]
    }
   ],
   "source": [
    "print(location)"
   ]
  },
  {
   "cell_type": "code",
   "execution_count": 102,
   "id": "ea0a93fd-35c3-4aba-ba67-b9cb5917e088",
   "metadata": {},
   "outputs": [
    {
     "name": "stdout",
     "output_type": "stream",
     "text": [
      "진주\n"
     ]
    }
   ],
   "source": [
    "print(location[0])"
   ]
  },
  {
   "cell_type": "code",
   "execution_count": 104,
   "id": "788776eb-0761-4b4b-9cee-dc4e499f0606",
   "metadata": {},
   "outputs": [
    {
     "name": "stdout",
     "output_type": "stream",
     "text": [
      "['광주', '인천', '서울']\n"
     ]
    }
   ],
   "source": [
    "location[0] = \"광주\" \n",
    "print(location)\n",
    "# 0에 있는 위치를 광주로 재구성 하는 것임"
   ]
  },
  {
   "cell_type": "code",
   "execution_count": 106,
   "id": "e2a7f437-8940-4665-ba8d-73343ab9af8d",
   "metadata": {},
   "outputs": [],
   "source": [
    "#Tuple - 데이터 assignment를 지원하지 않음 / 리스트와 유사하지만 수정 불가능합니다. 튜플은 처음 만든대로 유지하게 함 \n",
    "#소괄호 \n",
    "# 연산결과를 뭉쳐서 사용할 때 \n",
    "# 잘 다루지는 않음\n",
    "numbers = (123, 456)"
   ]
  },
  {
   "cell_type": "code",
   "execution_count": 108,
   "id": "cc7d120b-fbd9-4b0e-bb21-1905f2049f4b",
   "metadata": {},
   "outputs": [
    {
     "name": "stdout",
     "output_type": "stream",
     "text": [
      "range(0, 45)\n",
      "[0, 1, 2, 3, 4, 5, 6, 7, 8, 9, 10, 11, 12, 13, 14, 15, 16, 17, 18, 19, 20, 21, 22, 23, 24, 25, 26, 27, 28, 29, 30, 31, 32, 33, 34, 35, 36, 37, 38, 39, 40, 41, 42, 43, 44]\n"
     ]
    }
   ],
   "source": [
    "lotto = range(45)\n",
    "print(lotto)\n",
    "print(list(lotto))"
   ]
  },
  {
   "cell_type": "code",
   "execution_count": 111,
   "id": "d2f3d4af-252c-4be5-87b3-9b66defd2346",
   "metadata": {},
   "outputs": [],
   "source": [
    "#range(n) : 0부터 n-1까지 범위 \n",
    "#range(n, m, s) : n부터 m-1까지 s만큼 증가하는 범위\n",
    "#마이너스로 내려가는 구조도 가능 "
   ]
  },
  {
   "cell_type": "code",
   "execution_count": 114,
   "id": "38799bfb-8de5-48fb-b836-d19fa4cab17c",
   "metadata": {},
   "outputs": [
    {
     "name": "stdout",
     "output_type": "stream",
     "text": [
      "range(5, 10)\n",
      "[5, 6, 7, 8, 9]\n"
     ]
    }
   ],
   "source": [
    "numbers = range(5,10) \n",
    "print(numbers)\n",
    "print(list(numbers))"
   ]
  },
  {
   "cell_type": "code",
   "execution_count": 115,
   "id": "cceb378d-8756-4fc2-8b54-baf3e9af1740",
   "metadata": {},
   "outputs": [
    {
     "name": "stdout",
     "output_type": "stream",
     "text": [
      "range(2, 20, 2)\n",
      "[2, 4, 6, 8, 10, 12, 14, 16, 18]\n"
     ]
    }
   ],
   "source": [
    "even = range(2, 20, 2)\n",
    "print(even)\n",
    "print(list(even))"
   ]
  },
  {
   "cell_type": "code",
   "execution_count": 118,
   "id": "7c4834bd-68dd-47af-8622-bf2f38a87441",
   "metadata": {
    "scrolled": true
   },
   "outputs": [
    {
     "name": "stdout",
     "output_type": "stream",
     "text": [
      "range(2, -10, -2)\n",
      "[2, 0, -2, -4, -6, -8]\n"
     ]
    }
   ],
   "source": [
    "even2 = range(2, -10, -2)\n",
    "print(even2)\n",
    "print(list(even2))\n",
    "#마이너스로 내려갈때 수평선 기준으로 n-1을 양수 기준으로 생각해야함"
   ]
  },
  {
   "cell_type": "markdown",
   "id": "cdebd9e3-5ee3-4d8e-9be3-3d7cd4a59a91",
   "metadata": {},
   "source": [
    "### 4.4 string "
   ]
  },
  {
   "cell_type": "markdown",
   "id": "adaa24b4-8d94-4aff-9f8e-31fc7b8deafd",
   "metadata": {},
   "source": [
    "### 4.5 시퀀스에서 활용가능한 연산/함수"
   ]
  },
  {
   "cell_type": "code",
   "execution_count": 122,
   "id": "a93896f6-daee-452c-a36d-d002db915705",
   "metadata": {},
   "outputs": [],
   "source": [
    "my_list=[1,2,3,4,5]\n",
    "my_tuple=(1,2,3,4,5)\n",
    "my_range=range(5)\n",
    "my_string=\"5\""
   ]
  },
  {
   "cell_type": "code",
   "execution_count": 124,
   "id": "2888e0aa-dcd6-44ec-9cc5-4205a33df708",
   "metadata": {},
   "outputs": [
    {
     "name": "stdout",
     "output_type": "stream",
     "text": [
      "1\n",
      "1\n",
      "0\n",
      "5\n"
     ]
    }
   ],
   "source": [
    "#indexing\n",
    "print(my_list[0])\n",
    "print(my_tuple[0])\n",
    "print(my_range[0])\n",
    "print(my_string[0])\n",
    "#string도 시퀀스에 포함되는 이유는 인덱싱을 할수 있기 때문"
   ]
  },
  {
   "cell_type": "code",
   "execution_count": 129,
   "id": "26453190-b795-41d0-8dc5-3a16a1ea4c1b",
   "metadata": {},
   "outputs": [
    {
     "name": "stdout",
     "output_type": "stream",
     "text": [
      "[2, 3]\n"
     ]
    }
   ],
   "source": [
    "print(my_list[1:3])"
   ]
  },
  {
   "cell_type": "code",
   "execution_count": 131,
   "id": "83118460-428d-446b-b6e6-d4bb85e61669",
   "metadata": {},
   "outputs": [],
   "source": [
    "#컴퓨터는 ~이상 ~미만으로 숫자를 세어서 3의 자리가 4인데 3 값이 나오는 것임 "
   ]
  },
  {
   "cell_type": "code",
   "execution_count": 133,
   "id": "c45608c6-d1a9-4e30-a7d7-950b38ec15d4",
   "metadata": {},
   "outputs": [
    {
     "name": "stdout",
     "output_type": "stream",
     "text": [
      "True\n",
      "True\n",
      "False\n"
     ]
    }
   ],
   "source": [
    "#in \n",
    "print(1 in my_list)\n",
    "print(1 in my_tuple)\n",
    "print(\"1\" in my_string) #string은 문자형태여서 str 형태로 설정해야함 "
   ]
  },
  {
   "cell_type": "code",
   "execution_count": 139,
   "id": "11e8208e-dc00-4fac-bba6-82879364087f",
   "metadata": {
    "scrolled": true
   },
   "outputs": [
    {
     "name": "stdout",
     "output_type": "stream",
     "text": [
      "[1, 2, 3, 4, 5, 6, 7, 8]\n",
      "(1, 2, 3, 4, 5, 6, 7, 8)\n",
      "5 ,6, 7, 8\n"
     ]
    }
   ],
   "source": [
    "#concatenation \n",
    "print(my_list+[6, 7, 8])\n",
    "print(my_tuple+(6, 7, 8))\n",
    "print(my_string+\" ,6, 7, 8\")"
   ]
  },
  {
   "cell_type": "code",
   "execution_count": 144,
   "id": "eef5696d-edb8-4a9d-b8ff-5ca51f3576c4",
   "metadata": {},
   "outputs": [
    {
     "name": "stdout",
     "output_type": "stream",
     "text": [
      "#\n",
      "##########\n"
     ]
    }
   ],
   "source": [
    "#*\n",
    "print('#')\n",
    "#샵을 열 번 출력하고 싶으면 ? \n",
    "print('#' *10)"
   ]
  },
  {
   "cell_type": "code",
   "execution_count": 147,
   "id": "8c701726-185b-4b5a-bcf3-1e4545c0c98a",
   "metadata": {},
   "outputs": [
    {
     "name": "stdout",
     "output_type": "stream",
     "text": [
      "5\n",
      "5\n"
     ]
    }
   ],
   "source": [
    "print(len(my_list))\n",
    "#다섯개의 데이터가 있습니다\n",
    "print(max(my_list))\n",
    "#숫자 데이터 중에서 가장 높은 숫자 \n",
    "#min은 최솟값"
   ]
  },
  {
   "cell_type": "markdown",
   "id": "be5332ce-2bad-46bd-b90d-bc054c00d4b5",
   "metadata": {},
   "source": [
    "### 5. 시퀀스가 아닌 자료구조 (순서가 상관이 없다, 그냥 집합 안에 들어있는 값들)\n",
    "수학에서 사용하는 집합과 동일한 개념\n",
    "집합은 서로 더할수 있고 뺄 수 있음"
   ]
  },
  {
   "cell_type": "code",
   "execution_count": null,
   "id": "7ad31e17-3d18-424c-ae8d-232fa9380938",
   "metadata": {},
   "outputs": [],
   "source": []
  },
  {
   "cell_type": "code",
   "execution_count": 149,
   "id": "08a2eb9d-f04f-42b7-8471-2da4b26a9c40",
   "metadata": {},
   "outputs": [],
   "source": [
    "my_set_a = {1, 3, 5, 7, 9}\n",
    "my_set_b = {1, 2, 3, 4, 5}"
   ]
  },
  {
   "cell_type": "code",
   "execution_count": 153,
   "id": "9ebc7071-5588-44b3-809f-946b6e7c7047",
   "metadata": {},
   "outputs": [
    {
     "name": "stdout",
     "output_type": "stream",
     "text": [
      "{9, 7}\n",
      "{1, 2, 3, 4, 5, 7, 9}\n",
      "{1, 3, 5}\n"
     ]
    }
   ],
   "source": [
    "print(my_set_a-my_set_b) \n",
    "print(my_set_a|my_set_b)\n",
    "print(my_set_a & my_set_b)"
   ]
  },
  {
   "cell_type": "code",
   "execution_count": 155,
   "id": "0614a17c-4d4e-4e33-8bcf-6f4a4781fa8d",
   "metadata": {},
   "outputs": [
    {
     "name": "stdout",
     "output_type": "stream",
     "text": [
      "{1, 2, 3}\n"
     ]
    }
   ],
   "source": [
    "test_set = {1, 2, 3, 1, 2, 2,}\n",
    "print(test_set)"
   ]
  },
  {
   "cell_type": "markdown",
   "id": "4ee9a6e4-4c0e-4d9a-9f2a-c455f4bbe170",
   "metadata": {},
   "source": [
    "### 5.2 Dictionary\n",
    "- 선언 : 변수이름 = {key1: value1, key2: value2}\n",
    "- 접근 : 변수이름(key)"
   ]
  },
  {
   "cell_type": "code",
   "execution_count": 158,
   "id": "0699935f-6992-4275-be13-361310c90160",
   "metadata": {},
   "outputs": [
    {
     "name": "stdout",
     "output_type": "stream",
     "text": [
      "{'서울': '02', '경기': '031'}\n",
      "02\n"
     ]
    }
   ],
   "source": [
    "my_dict={\"서울\": \"02\", \"경기\": \"031\"}\n",
    "print(my_dict)\n",
    "#딕셔너리를 선언하는 방법\n",
    "#서울의 값을 알고 싶어! 사전으로 생각하고, key를 입력하면 됨\n",
    "print(my_dict[\"서울\"])"
   ]
  },
  {
   "cell_type": "code",
   "execution_count": 161,
   "id": "002c75bf-966b-49e2-bf2e-7dd2eac40929",
   "metadata": {},
   "outputs": [
    {
     "name": "stdout",
     "output_type": "stream",
     "text": [
      "10\n"
     ]
    }
   ],
   "source": [
    "my_info={\"지역\":\"서울\", \"나이\":10, \"키\":160}\n",
    "print(my_info[\"나이\"])"
   ]
  },
  {
   "cell_type": "code",
   "execution_count": null,
   "id": "0ccfd622-fc17-439f-999d-2145c1c67256",
   "metadata": {},
   "outputs": [],
   "source": [
    "keys를 모르는 경우가 있음 \n",
    "key들의 목록을 보고 싶을 때, values들의 목록을 보고 싶을 때 \n"
   ]
  },
  {
   "cell_type": "code",
   "execution_count": 162,
   "id": "e094da67-4cc9-473b-b983-7b6cebc2b346",
   "metadata": {},
   "outputs": [
    {
     "data": {
      "text/plain": [
       "dict_keys(['지역', '나이', '키'])"
      ]
     },
     "execution_count": 162,
     "metadata": {},
     "output_type": "execute_result"
    }
   ],
   "source": [
    "my_info.keys()"
   ]
  },
  {
   "cell_type": "code",
   "execution_count": null,
   "id": "f4174665-caa5-4903-9fa7-262305d2484b",
   "metadata": {},
   "outputs": [],
   "source": []
  }
 ],
 "metadata": {
  "kernelspec": {
   "display_name": "Python 3 (ipykernel)",
   "language": "python",
   "name": "python3"
  },
  "language_info": {
   "codemirror_mode": {
    "name": "ipython",
    "version": 3
   },
   "file_extension": ".py",
   "mimetype": "text/x-python",
   "name": "python",
   "nbconvert_exporter": "python",
   "pygments_lexer": "ipython3",
   "version": "3.12.4"
  }
 },
 "nbformat": 4,
 "nbformat_minor": 5
}

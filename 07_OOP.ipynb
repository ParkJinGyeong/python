{
 "cells": [
  {
   "cell_type": "markdown",
   "id": "eda3726c-01f7-4c5e-b2e5-f6d327982f44",
   "metadata": {},
   "source": [
    "### 객체지향 프로그램 \n",
    "- 하나의 객체 (같은 기준으로 바라보기 위해서 만든 것) ex) animal에서 시작해서 브레인이 있는지 ? 다리가 각각 몇개인지 ? 같은 관점 / 앞으로 사용할 것에 대해 정의를 선언, 똑같은 틀로 복제 무한 가능 (인스턴스화)\n",
    "- 클래스 class : 같은 종류의 집단에 속하는 속성과 행위를 정의한 것 ex) 붕어빵 틀과 붕어빵의 관계 / 포유류라면 이런 특징들이 있어야 하고 파충류면 이런 특징들이 있어야해 \n",
    "- 인스턴스 instance : 클래스를 실제로 메모리상에 할당한 것 (붕어빵 틀에 팥과 밀가루)\n",
    "- 속성 attribute : 클래스/ 인스턴스가 가지고 있는 데이터/값\n",
    "- 행위 method : 클래스/ 인스턴스가 가지고 있는 함수/값"
   ]
  },
  {
   "cell_type": "code",
   "execution_count": null,
   "id": "3a469575-32ab-49ba-bfc1-d81d1ae33356",
   "metadata": {},
   "outputs": [],
   "source": []
  },
  {
   "cell_type": "code",
   "execution_count": 2,
   "id": "ace037f8-b51f-47e0-89d9-810d54241a2a",
   "metadata": {},
   "outputs": [
    {
     "data": {
      "text/plain": [
       "complex"
      ]
     },
     "execution_count": 2,
     "metadata": {},
     "output_type": "execute_result"
    }
   ],
   "source": [
    "number = 1+2j\n",
    "type(number)\n",
    "complex"
   ]
  },
  {
   "cell_type": "code",
   "execution_count": 3,
   "id": "d5d39cb0-826e-4893-aacb-1a33e94f8913",
   "metadata": {},
   "outputs": [
    {
     "name": "stdout",
     "output_type": "stream",
     "text": [
      "1.0\n",
      "2.0\n"
     ]
    }
   ],
   "source": [
    "print(number.real)\n",
    "print(number.imag)"
   ]
  },
  {
   "cell_type": "code",
   "execution_count": 8,
   "id": "ca90b88c-d58b-4a52-902a-e92ea2ce838f",
   "metadata": {},
   "outputs": [
    {
     "name": "stdout",
     "output_type": "stream",
     "text": [
      "[3, 2, 1]\n"
     ]
    }
   ],
   "source": [
    "numbers = [1, 2, 3]\n",
    "numbers.reverse() #점을 통해서 기능을 실행시키거나 데이터에 접근해서 메소드(행위)를 함 \n",
    "print(numbers)"
   ]
  },
  {
   "cell_type": "code",
   "execution_count": 10,
   "id": "7a52de66-4c78-4c3a-8e6a-c7d7e78cb821",
   "metadata": {},
   "outputs": [],
   "source": [
    "power = False\n",
    "number = '010-2483-0593'\n",
    "book = {'kim': '1234', 'kang': '4567'}"
   ]
  },
  {
   "cell_type": "code",
   "execution_count": 11,
   "id": "0c270093-70ea-453c-a13f-4d499c3c622f",
   "metadata": {},
   "outputs": [
    {
     "name": "stdout",
     "output_type": "stream",
     "text": [
      "(from_number)에서 (to_number)로 전화\n"
     ]
    }
   ],
   "source": [
    "def call(from_number, to_number):\n",
    "    print(f'(from_number)에서 (to_number)로 전화')\n",
    "\n",
    "call(number,book['kim'])"
   ]
  },
  {
   "cell_type": "markdown",
   "id": "b30ba4f1-a773-4360-be91-3c853cdefbd9",
   "metadata": {},
   "source": [
    "## 객체라는 데이터로 만들어보기 \n",
    "- 클래스 선언\n",
    "```python\n",
    "class ClassName():\n",
    "    attribute = value1\n",
    "    attribute = value2\n",
    "    ```\n",
    "    def method_name1(self):\n",
    "        code\n",
    "    def method_name2(self):\n",
    "        code\n",
    "    ```\n",
    "c = Classname()"
   ]
  },
  {
   "cell_type": "code",
   "execution_count": 19,
   "id": "32be4eed-67f8-4fe1-a935-103276d50a60",
   "metadata": {},
   "outputs": [],
   "source": [
    "#선언\n",
    "class MyClass():\n",
    "    name = 'kim'\n",
    "    def hello(self):\n",
    "        return 'hello'"
   ]
  },
  {
   "cell_type": "code",
   "execution_count": 20,
   "id": "a552fb43-e83a-4598-975a-70fbd7e92ff9",
   "metadata": {},
   "outputs": [
    {
     "name": "stdout",
     "output_type": "stream",
     "text": [
      "<__main__.MyClass object at 0x00000274833A2630>\n",
      "<class '__main__.MyClass'>\n"
     ]
    }
   ],
   "source": [
    "#인스턴스화 \n",
    "m = MyClass()\n",
    "print(m)\n",
    "print(type(m))"
   ]
  },
  {
   "cell_type": "code",
   "execution_count": 21,
   "id": "56770a45-d852-48d3-b27d-79f7f3adacdb",
   "metadata": {},
   "outputs": [
    {
     "name": "stdout",
     "output_type": "stream",
     "text": [
      "kim\n",
      "hello\n"
     ]
    }
   ],
   "source": [
    "print(m.name) #선언하면서 넣어놨던 데이터\n",
    "print(m.hello())"
   ]
  },
  {
   "cell_type": "code",
   "execution_count": 22,
   "id": "79f11b22-29af-40ec-8fbc-f64c1b477a6e",
   "metadata": {},
   "outputs": [
    {
     "name": "stdout",
     "output_type": "stream",
     "text": [
      "<__main__.MyClass object at 0x0000027484F125A0>\n"
     ]
    }
   ],
   "source": [
    "m2 = MyClass()\n",
    "print(m2)"
   ]
  },
  {
   "cell_type": "code",
   "execution_count": 23,
   "id": "e83d394c-8eff-4eac-b6e8-a9dd46aa0cfb",
   "metadata": {},
   "outputs": [
    {
     "name": "stdout",
     "output_type": "stream",
     "text": [
      "park\n",
      "hello\n"
     ]
    }
   ],
   "source": [
    "m2.name = 'park'\n",
    "print(m2.name)\n",
    "print(m2.hello())\n",
    "\n",
    "#MC라는 클래스에 m1, m2라는게 있고, 각각 또 MC라는 클래스와 같은 틀을 가지고 있음 "
   ]
  },
  {
   "cell_type": "code",
   "execution_count": 25,
   "id": "5e752d5d-63c5-4282-954d-df2678fc9eb7",
   "metadata": {},
   "outputs": [],
   "source": [
    "class Phone(): #실제 핸드폰이 아니라, 핸드폰이라면 이런 기능들이 있어야 해 \n",
    "    power = False\n",
    "    number = '010-0000-0000'\n",
    "    book = {}\n",
    "    model = ''\n",
    "    def on(self): #일련의 기능들을 함수\n",
    "        if self.power == False:\n",
    "            self.power == True\n",
    "    def off(self):\n",
    "        if self.power == True:\n",
    "            self.power == False\n",
    "    def call(self,target):\n",
    "        if self.power == True:\n",
    "            print(f'{self.number}에서 {target}로 전화거는 중')\n",
    "        else:\n",
    "            print('핸드폰이 꺼져있습니다')"
   ]
  },
  {
   "cell_type": "code",
   "execution_count": 28,
   "id": "662c2511-06d6-4635-bd90-1cda63021d62",
   "metadata": {},
   "outputs": [
    {
     "name": "stdout",
     "output_type": "stream",
     "text": [
      "010-1234-1234\n"
     ]
    }
   ],
   "source": [
    "my_phone = Phone()\n",
    "your_phone = Phone()\n",
    "\n",
    "my_phone.number = '010-1234-1234' #myphone 내용을 바꿔줌 \n",
    "print(my_phone.number)"
   ]
  },
  {
   "cell_type": "code",
   "execution_count": 31,
   "id": "7cf433e3-0435-405a-89fa-664b946b3928",
   "metadata": {},
   "outputs": [
    {
     "name": "stdout",
     "output_type": "stream",
     "text": [
      "010-2424-2424\n"
     ]
    }
   ],
   "source": [
    "your_phone.number = '010-2424-2424'\n",
    "print(your_phone.number)"
   ]
  },
  {
   "cell_type": "code",
   "execution_count": 34,
   "id": "064dba61-173f-44af-bb45-c158719ad810",
   "metadata": {},
   "outputs": [
    {
     "name": "stdout",
     "output_type": "stream",
     "text": [
      "핸드폰이 꺼져있습니다\n"
     ]
    }
   ],
   "source": [
    "my_phone.call(your_phone.number)"
   ]
  },
  {
   "cell_type": "code",
   "execution_count": 40,
   "id": "fc1c02b1-515e-4c6c-81ba-4c1b919565e3",
   "metadata": {},
   "outputs": [],
   "source": [
    "my_phone.on() #true로 변환"
   ]
  },
  {
   "cell_type": "code",
   "execution_count": 42,
   "id": "1d23026a-3e65-4fcb-af36-5e652e87d9bc",
   "metadata": {},
   "outputs": [
    {
     "name": "stdout",
     "output_type": "stream",
     "text": [
      "핸드폰이 꺼져있습니다\n"
     ]
    }
   ],
   "source": [
    "my_phone.call(your_phone.number)"
   ]
  },
  {
   "cell_type": "code",
   "execution_count": 77,
   "id": "a945a645-1a03-45e2-8343-7d0df6e6ed02",
   "metadata": {},
   "outputs": [],
   "source": [
    "class MyList():\n",
    "    data = []\n",
    "    def append(self, item):\n",
    "        self.data = self.data + [item]\n",
    "    def pop(self):\n",
    "        result = self.data[-1]\n",
    "        self.data = self.data[:-1]\n",
    "        return result"
   ]
  },
  {
   "cell_type": "code",
   "execution_count": 78,
   "id": "2943898c-2135-459b-a959-29b97b5c051e",
   "metadata": {},
   "outputs": [
    {
     "ename": "SyntaxError",
     "evalue": "cannot assign to function call here. Maybe you meant '==' instead of '='? (2975777004.py, line 3)",
     "output_type": "error",
     "traceback": [
      "\u001b[1;36m  Cell \u001b[1;32mIn[78], line 3\u001b[1;36m\u001b[0m\n\u001b[1;33m    print(list_a.data) = []\u001b[0m\n\u001b[1;37m    ^\u001b[0m\n\u001b[1;31mSyntaxError\u001b[0m\u001b[1;31m:\u001b[0m cannot assign to function call here. Maybe you meant '==' instead of '='?\n"
     ]
    }
   ],
   "source": [
    "list_a = MyList()\n",
    "\n",
    "print(list_a.data) = []\n",
    "\n",
    "list_a.append(5)\n",
    "print(list_a.data)\n",
    "\n",
    "list_a.pop()\n",
    "print(list_a.data)"
   ]
  },
  {
   "cell_type": "code",
   "execution_count": 79,
   "id": "07b1bc7e-fb00-4349-884a-0b88a3d29db7",
   "metadata": {},
   "outputs": [
    {
     "name": "stdout",
     "output_type": "stream",
     "text": [
      "<__main__.MyList object at 0x0000027484F8D520>\n"
     ]
    }
   ],
   "source": [
    "list_b = MyList()\n"
   ]
  },
  {
   "cell_type": "code",
   "execution_count": 81,
   "id": "6bb1330c-64b1-4ec4-9be1-ce941993eff2",
   "metadata": {},
   "outputs": [
    {
     "name": "stdout",
     "output_type": "stream",
     "text": [
      "['일', '이', '일', '이', '일', '이']\n"
     ]
    }
   ],
   "source": [
    "list_b.append(\"일\")\n",
    "list_b.append(\"이\")\n",
    "print(list_b.data)\n",
    "\n",
    "#?? 얘 왜이래 "
   ]
  },
  {
   "cell_type": "code",
   "execution_count": null,
   "id": "520d2b8d-7427-4bc9-9058-01150cc5d00a",
   "metadata": {},
   "outputs": [],
   "source": [
    "# 생성자, 조력자 # 특별한 기능을 가진 함수 \n",
    "\n",
    "```python\n",
    "class MyClass():\n",
    "    def __init__(self):\n",
    "        pass\n",
    "    def __def__(self): \n",
    "        pass \n",
    "```\n"
   ]
  },
  {
   "cell_type": "code",
   "execution_count": 91,
   "id": "7f2e27d8-a90c-4b51-826b-aba15c65afc3",
   "metadata": {},
   "outputs": [],
   "source": [
    "class Person():\n",
    "    name = ''\n",
    "    def __init__(self, name='익명'): #초기화 될때 값 설정 해주는 느낌 \n",
    "        self.name = name\n",
    "        print('생성됨')\n",
    "        \n",
    "    def __def__(self): \n",
    "        print('소멸됨')"
   ]
  },
  {
   "cell_type": "code",
   "execution_count": 92,
   "id": "1f819c50-089c-4046-a205-cf5b7994841a",
   "metadata": {},
   "outputs": [
    {
     "name": "stdout",
     "output_type": "stream",
     "text": [
      "생성됨\n",
      "kim\n"
     ]
    }
   ],
   "source": [
    "p1 = Person('kim') #p1을 만들 때부터 kim을 먼저 넣은 것 \n",
    "print(p1.name)"
   ]
  },
  {
   "cell_type": "code",
   "execution_count": 93,
   "id": "1e504cad-08b6-413e-b20e-3364ac704410",
   "metadata": {},
   "outputs": [
    {
     "name": "stdout",
     "output_type": "stream",
     "text": [
      "생성됨\n",
      "익명\n"
     ]
    }
   ],
   "source": [
    "p2 = Person()\n",
    "print(p2.name)"
   ]
  },
  {
   "cell_type": "code",
   "execution_count": 125,
   "id": "ae74439d-8548-46eb-9128-d2433829e6f5",
   "metadata": {},
   "outputs": [],
   "source": [
    "class Circle():\n",
    "    pi = 3.14 #모든 원의 고정 값이라서 \n",
    "    def __init__(self, r, x=0, y=0): #생성될때마다 달라서 init 밑에 써줌 \n",
    "        self.r = r\n",
    "        self.x = x\n",
    "        self.y = y\n",
    "    def area(self):\n",
    "        return self.pi * self.r ** 2        \n",
    "    def center(self):\n",
    "        return(self.x, self.y)\n",
    "    def move(self, x, y):\n",
    "        self.x = x\n",
    "        self.y = y\n",
    "        print(f'원의 중심이 {x}와 {y}로 이동했습니다')\n",
    "    def round(self):\n",
    "        return self.r * self.pi * 2\n"
   ]
  },
  {
   "cell_type": "code",
   "execution_count": 127,
   "id": "732911d7-557a-4e46-9e11-2315551c04fb",
   "metadata": {},
   "outputs": [],
   "source": [
    "c1 = Circle(4)\n",
    "#Circle.__init__() missing 3 required positional arguments: 'r', 'x', and 'y' 실행하려고 하는데 세개의 인자가 부족하다 "
   ]
  },
  {
   "cell_type": "code",
   "execution_count": 129,
   "id": "dc368e9c-6d1c-400d-8063-270f80819348",
   "metadata": {},
   "outputs": [],
   "source": [
    "c2 = Circle(6, 1, 2)"
   ]
  },
  {
   "cell_type": "code",
   "execution_count": 130,
   "id": "bf065475-3843-459d-a797-b869d1add8a8",
   "metadata": {
    "scrolled": true
   },
   "outputs": [
    {
     "name": "stdout",
     "output_type": "stream",
     "text": [
      "50.24\n",
      "(1, 2)\n"
     ]
    }
   ],
   "source": [
    "print(c1.area())\n",
    "print(c2.center())"
   ]
  },
  {
   "cell_type": "code",
   "execution_count": 131,
   "id": "ca3e9bf4-ace4-40d0-b9df-e07827c92011",
   "metadata": {
    "scrolled": true
   },
   "outputs": [
    {
     "name": "stdout",
     "output_type": "stream",
     "text": [
      "원의 중심이 10와 10로 이동했습니다\n",
      "None\n"
     ]
    }
   ],
   "source": [
    "print(c1.move(10,10))"
   ]
  },
  {
   "cell_type": "code",
   "execution_count": 132,
   "id": "018a4167-5e1d-4529-8440-c6fb3884cb65",
   "metadata": {},
   "outputs": [
    {
     "name": "stdout",
     "output_type": "stream",
     "text": [
      "25.12\n"
     ]
    }
   ],
   "source": [
    "print(c1.round())"
   ]
  },
  {
   "cell_type": "code",
   "execution_count": 133,
   "id": "fdec279f-92ba-486e-8237-a9a63060e735",
   "metadata": {},
   "outputs": [],
   "source": [
    "class Point():\n",
    "    def __init__(self, x, y):\n",
    "        self.x = x\n",
    "        self.y = y\n",
    "    def info(self):\n",
    "        return(self.x, self.y)"
   ]
  },
  {
   "cell_type": "code",
   "execution_count": 139,
   "id": "6f7fd958-8df9-42f3-8803-106be03aeb73",
   "metadata": {},
   "outputs": [],
   "source": [
    "class Circle():\n",
    "    def __init__(self, point, r):\n",
    "        self.point = point\n",
    "        self.r = r \n",
    "    def info(self):\n",
    "        return(self.point.x, self.point.y, self.r)        "
   ]
  },
  {
   "cell_type": "code",
   "execution_count": 142,
   "id": "0ef4f0f3-45a3-4734-b953-9d1b14e766ae",
   "metadata": {},
   "outputs": [
    {
     "name": "stdout",
     "output_type": "stream",
     "text": [
      "(1, 2)\n"
     ]
    }
   ],
   "source": [
    "p1 = Point(1, 2)\n",
    "print(p1.info())"
   ]
  },
  {
   "cell_type": "code",
   "execution_count": 144,
   "id": "633eb943-4f91-4cf5-bd63-cbf168e1dde8",
   "metadata": {},
   "outputs": [
    {
     "name": "stdout",
     "output_type": "stream",
     "text": [
      "(1, 2, 5)\n"
     ]
    }
   ],
   "source": [
    "c1 = Circle(p1, 5)\n",
    "print(c1.info())"
   ]
  },
  {
   "cell_type": "markdown",
   "id": "16d3b36b-5036-4a86-8e6f-18c958721995",
   "metadata": {},
   "source": [
    "### 클래스 변수 \n",
    "- 클래스 선언 블록 최상단에 위치\n",
    "\n",
    "### 인스턴스 변수\n",
    "- 인스턴스 내부에서 생성한 변수 ('self.variable = ')"
   ]
  },
  {
   "cell_type": "code",
   "execution_count": 146,
   "id": "e6645f05-258b-46d0-81f2-da9be390629c",
   "metadata": {},
   "outputs": [],
   "source": [
    "class Person():\n",
    "    name = '홍길동'\n",
    "    phone = '010-123'\n",
    "    def __init__(self, name):\n",
    "        self.name = name \n",
    "\n",
    "#.을 통해서 def을 인스턴스 변수 내에서 찾기 / 없으면 클래스 변수에서 끌어오기 \n"
   ]
  },
  {
   "cell_type": "code",
   "execution_count": 148,
   "id": "b96caab1-c170-4f5e-9d7b-e27932286c3b",
   "metadata": {},
   "outputs": [
    {
     "name": "stdout",
     "output_type": "stream",
     "text": [
      "010-123\n",
      "박진경\n"
     ]
    }
   ],
   "source": [
    "p1 = Person('박진경')\n",
    "print(p1.phone) #클래스 변수 \n",
    "print(p1.name) #인스턴스 변수"
   ]
  },
  {
   "cell_type": "code",
   "execution_count": 149,
   "id": "c5200099-d46e-41a4-94ee-1d6be33658ce",
   "metadata": {},
   "outputs": [],
   "source": [
    "class MyClass():\n",
    "    def instance_method(self):\n",
    "        pass\n",
    "    @classmethod\n",
    "    def class_method(cls):\n",
    "        pass\n",
    "\n",
    "    @staticmethod\n",
    "    def static_method():\n",
    "        pass"
   ]
  },
  {
   "cell_type": "code",
   "execution_count": 150,
   "id": "1861bef4-9d7a-4257-a4c2-f367d3e2c7a2",
   "metadata": {},
   "outputs": [],
   "source": [
    "class MyClass():\n",
    "    def instance_method(self):\n",
    "        return self\n",
    "    @classmethod\n",
    "    def class_method(cls):\n",
    "        return cls\n",
    "    @staticmethod\n",
    "    def static_method():\n",
    "        return 'hello'"
   ]
  },
  {
   "cell_type": "code",
   "execution_count": 152,
   "id": "efc5f34a-a22b-4c2a-b7ff-966ba1d43d34",
   "metadata": {},
   "outputs": [
    {
     "name": "stdout",
     "output_type": "stream",
     "text": [
      "<__main__.MyClass object at 0x0000027485AC2720>\n",
      "<class '__main__.MyClass'>\n"
     ]
    }
   ],
   "source": [
    "c1 = MyClass()\n",
    "\n",
    "print(c1.instance_method())  #인스턴스 자체가 나옴 \n",
    "print(MyClass.class_method()) #클래스의 정의"
   ]
  },
  {
   "cell_type": "code",
   "execution_count": 156,
   "id": "fcefb3c6-5228-42fc-8ee9-77e436e49bb2",
   "metadata": {},
   "outputs": [],
   "source": [
    "class Puppy():\n",
    "    num_of_puppy = 0\n",
    "    def __init__(self, name):\n",
    "        self.name = name\n",
    "        Puppy.num_of_puppy += 1 \n",
    "    @classmethod\n",
    "    def get_status(cls):\n",
    "        print(f'현재 강아지는 {cls.num_of_puppy}입니다.')\n",
    "    @staticmethod\n",
    "    def bark():\n",
    "        print('멍멍')\n",
    "        "
   ]
  },
  {
   "cell_type": "code",
   "execution_count": 159,
   "id": "04f69448-32b7-41b0-bf5c-3015cdbff9b3",
   "metadata": {},
   "outputs": [
    {
     "name": "stdout",
     "output_type": "stream",
     "text": [
      "현재 강아지는 9입니다.\n"
     ]
    }
   ],
   "source": [
    "p1 = Puppy('duck')\n",
    "p2 = Puppy('chunbong')\n",
    "p3 = Puppy('starlight')\n",
    "\n",
    "Puppy.get_status()"
   ]
  },
  {
   "cell_type": "markdown",
   "id": "165db305-2d65-4f45-8e90-01a8aaec4f38",
   "metadata": {},
   "source": [
    "### 상속 "
   ]
  },
  {
   "cell_type": "code",
   "execution_count": 179,
   "id": "819aaf0a-ff33-44ac-a82f-1ec166c44d4a",
   "metadata": {},
   "outputs": [],
   "source": [
    "class Person():\n",
    "    ident = '111111-1111111'\n",
    "    def __init__(self,name):\n",
    "        self.name = name\n",
    "    def greeting(self):\n",
    "        print(f'안녕하세요;; 저는 {self.name}입니다')"
   ]
  },
  {
   "cell_type": "code",
   "execution_count": 170,
   "id": "be63d1a2-7df2-43ba-9353-f12d74883ace",
   "metadata": {},
   "outputs": [],
   "source": [
    "p1 = Person('홍길동')"
   ]
  },
  {
   "cell_type": "code",
   "execution_count": 171,
   "id": "598e3573-70b3-4667-a9bf-b00f43e8e384",
   "metadata": {},
   "outputs": [
    {
     "name": "stdout",
     "output_type": "stream",
     "text": [
      "안녕하세요;; 저는 홍길동입니다\n"
     ]
    }
   ],
   "source": [
    "p1.greeting()"
   ]
  },
  {
   "cell_type": "code",
   "execution_count": 180,
   "id": "c10a212f-4539-4b8f-a50d-3f77552a4ddb",
   "metadata": {},
   "outputs": [],
   "source": [
    "class Soldier(Person):\n",
    "    #ident = '111111'\n",
    "    #def __init__(self,name):\n",
    "        #self.name = name\n",
    "    def greeting(self):\n",
    "        print(f'충성 {self.name}입니다.')\n",
    "\n",
    "# 사람이라는 카테고리에서 조금만 변형 되는 상황 \n",
    "# 상속으로 좀 더 편하게 만들기 "
   ]
  },
  {
   "cell_type": "code",
   "execution_count": 181,
   "id": "c2550c19-b5c0-460e-9872-2a6afacf4573",
   "metadata": {},
   "outputs": [],
   "source": [
    "s1 = Soldier('군인입니다')"
   ]
  },
  {
   "cell_type": "code",
   "execution_count": 182,
   "id": "ca8cc542-0864-4aa0-967e-d4e0f8a074dc",
   "metadata": {},
   "outputs": [
    {
     "name": "stdout",
     "output_type": "stream",
     "text": [
      "충성 군인입니다입니다.\n"
     ]
    }
   ],
   "source": [
    "s1.greeting()"
   ]
  },
  {
   "cell_type": "code",
   "execution_count": 190,
   "id": "3609ac53-c928-4c3b-a3c9-8c7582b87d49",
   "metadata": {},
   "outputs": [],
   "source": [
    "class Student(Person):\n",
    "    #ident = '111111'\n",
    "    #def __init__(self,name):\n",
    "        #self.name = name\n",
    "    def greeting(self):\n",
    "        print(f'학생~ {self.name}입니다.')"
   ]
  },
  {
   "cell_type": "code",
   "execution_count": 191,
   "id": "54cc9225-23ce-4133-843a-4c28d63e4f8d",
   "metadata": {},
   "outputs": [],
   "source": [
    "st1 = Student('급식')"
   ]
  },
  {
   "cell_type": "code",
   "execution_count": 192,
   "id": "960a791f-1482-4a68-88ba-955b4df349e6",
   "metadata": {},
   "outputs": [
    {
     "name": "stdout",
     "output_type": "stream",
     "text": [
      "학생~ 급식입니다.\n"
     ]
    }
   ],
   "source": [
    "st1.greeting()"
   ]
  },
  {
   "cell_type": "code",
   "execution_count": 193,
   "id": "1d1b262d-96c0-46c0-ba03-1cd60a87beab",
   "metadata": {},
   "outputs": [],
   "source": [
    "class Person():\n",
    "    def __init__(self, name, email, phone, location):\n",
    "        self.name = name\n",
    "        self.email = email\n",
    "        self.phone = phone\n",
    "        self.location = location\n",
    "class Student(Person):\n",
    "    def __init__(self, name, email, phone, location, student_id):\n",
    "        super().__init__(name, email, phone, location)\n",
    "        self.student_id = student_id"
   ]
  },
  {
   "cell_type": "code",
   "execution_count": 195,
   "id": "5c569def-231e-42e5-87f8-bd35e4ca2e72",
   "metadata": {},
   "outputs": [],
   "source": [
    "p1 = Person('hong', 'test@gmail.com', '0101111', '서울')\n",
    "s1 = Student('kim', 'test@gmail.com', '0101111', '서울', '564852')"
   ]
  },
  {
   "cell_type": "markdown",
   "id": "568ccb5d-e70d-489f-8d1f-27f1652a3a15",
   "metadata": {},
   "source": [
    "### 다중상속"
   ]
  },
  {
   "cell_type": "code",
   "execution_count": 214,
   "id": "dc5f7e71-fdec-43ca-92a9-6f3ead992dc3",
   "metadata": {},
   "outputs": [],
   "source": [
    "class Person():\n",
    "    def __init__(self,name):\n",
    "        self_name = name\n",
    "    def breath(self):\n",
    "        print('후후')\n",
    "\n"
   ]
  },
  {
   "cell_type": "code",
   "execution_count": 213,
   "id": "7d58730f-94ac-4963-a36a-76e07412afdf",
   "metadata": {},
   "outputs": [],
   "source": [
    "class Mom(Person):\n",
    "    gene = 'xx'\n",
    "    def swim(self):\n",
    "        print('어푸어푸')\n"
   ]
  },
  {
   "cell_type": "code",
   "execution_count": 212,
   "id": "0dbc938f-8a6d-497d-9f2d-481def9e67dc",
   "metadata": {},
   "outputs": [],
   "source": [
    "class Dad(Person):\n",
    "    gene = 'xy'\n",
    "    def run(self):\n",
    "        print('다그닥')\n"
   ]
  },
  {
   "cell_type": "code",
   "execution_count": 211,
   "id": "acbab6b9-79a3-45b8-b46c-b0d1f6973af1",
   "metadata": {},
   "outputs": [],
   "source": [
    "class Baby(Dad, Mom):\n",
    "    pass"
   ]
  },
  {
   "cell_type": "code",
   "execution_count": 224,
   "id": "a1a69796-026f-4844-9599-3ac40d3f4ec9",
   "metadata": {},
   "outputs": [
    {
     "name": "stdout",
     "output_type": "stream",
     "text": [
      "어푸어푸\n",
      "다그닥\n"
     ]
    }
   ],
   "source": [
    "b1 = Baby('금쪽이')\n",
    "b1.swim()\n",
    "b1.run()"
   ]
  },
  {
   "cell_type": "code",
   "execution_count": null,
   "id": "c2bdbc85-eb87-474f-a3db-f4d800c54cdf",
   "metadata": {},
   "outputs": [],
   "source": [
    ">> car = 차(2, 1000)\n",
    ">> car.바퀴\n",
    "2\n",
    ">> car.가격\n",
    "1000"
   ]
  },
  {
   "cell_type": "code",
   "execution_count": 283,
   "id": "ae9b5e96-cc14-4bad-9eb1-f1e887ef9fb3",
   "metadata": {},
   "outputs": [],
   "source": [
    "class car():\n",
    "    def __init__(self, wheel, price):\n",
    "        self.wheel = wheel\n",
    "        self.price = price"
   ]
  },
  {
   "cell_type": "code",
   "execution_count": 284,
   "id": "21924b2d-08f3-481a-845e-fb4027b5de65",
   "metadata": {},
   "outputs": [
    {
     "data": {
      "text/plain": [
       "1000000"
      ]
     },
     "execution_count": 284,
     "metadata": {},
     "output_type": "execute_result"
    }
   ],
   "source": [
    "porsche = car(4, 1000000)\n",
    "porsche.wheel\n",
    "porsche.price"
   ]
  },
  {
   "cell_type": "code",
   "execution_count": 316,
   "id": "8437fff6-6481-4b68-8f40-1d738a1b9131",
   "metadata": {},
   "outputs": [],
   "source": [
    "class bicycle(car):\n",
    "    \n",
    "    def __init__(self, wheel, price, others):\n",
    "        super().__init__(wheel, price)\n",
    "        self.others = others\n",
    "        \n",
    "    def info(self):\n",
    "        print(f\"{self.wheel},{self.price},{self.others}\")\n",
    "\n",
    "#Python에서 info 메서드 내부에서 {wheel}와 같은 변수명을 사용하면 안 되는 이유는, \n",
    "#해당 변수들이 클래스 인스턴스 변수이기 때문에 self.를 통해 접근해야 하기 때문입니다. \n",
    "#self는 클래스의 인스턴스를 나타내며, 인스턴스 변수들은 self를 통해 접근해야 합니다.\n",
    "#따라서 {wheel} 대신 {self.wheel}을 사용해야 올바르게 인스턴스 변수를 참조할 수 있습니다."
   ]
  },
  {
   "cell_type": "code",
   "execution_count": 313,
   "id": "fe5277cf-bdd0-4977-8741-aa14b7fe4c4d",
   "metadata": {},
   "outputs": [
    {
     "data": {
      "text/plain": [
       "'기타기타'"
      ]
     },
     "execution_count": 313,
     "metadata": {},
     "output_type": "execute_result"
    }
   ],
   "source": [
    "brompton = bicycle(2, 100, \"기타기타\") \n",
    "brompton.others"
   ]
  },
  {
   "cell_type": "code",
   "execution_count": 314,
   "id": "5f8e85b7-fd05-4c78-b57c-7b01c77629a7",
   "metadata": {},
   "outputs": [
    {
     "name": "stdout",
     "output_type": "stream",
     "text": [
      "2,100,기타기타\n"
     ]
    }
   ],
   "source": [
    "brompton.info()"
   ]
  },
  {
   "cell_type": "code",
   "execution_count": 265,
   "id": "3e183c1d-6767-4c93-b7f8-ef17a1daf822",
   "metadata": {},
   "outputs": [],
   "source": []
  },
  {
   "cell_type": "code",
   "execution_count": null,
   "id": "c34f3385-9e1b-4fd1-b441-1d710d07606a",
   "metadata": {},
   "outputs": [],
   "source": []
  },
  {
   "cell_type": "code",
   "execution_count": null,
   "id": "d37d0f6b-4cea-4231-9b07-6d33b63e0562",
   "metadata": {},
   "outputs": [],
   "source": []
  },
  {
   "cell_type": "code",
   "execution_count": null,
   "id": "039baaaf-76b4-46ec-94a9-4ed254d85218",
   "metadata": {},
   "outputs": [],
   "source": []
  },
  {
   "cell_type": "code",
   "execution_count": null,
   "id": "031acf76-6b16-4dee-b3c3-f92253b081cc",
   "metadata": {},
   "outputs": [],
   "source": []
  }
 ],
 "metadata": {
  "kernelspec": {
   "display_name": "Python 3 (ipykernel)",
   "language": "python",
   "name": "python3"
  },
  "language_info": {
   "codemirror_mode": {
    "name": "ipython",
    "version": 3
   },
   "file_extension": ".py",
   "mimetype": "text/x-python",
   "name": "python",
   "nbconvert_exporter": "python",
   "pygments_lexer": "ipython3",
   "version": "3.12.4"
  }
 },
 "nbformat": 4,
 "nbformat_minor": 5
}

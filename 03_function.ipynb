{
 "cells": [
  {
   "cell_type": "code",
   "execution_count": 2,
   "id": "0407f91b-ca7b-4408-95bf-5974406b4b20",
   "metadata": {},
   "outputs": [
    {
     "name": "stdout",
     "output_type": "stream",
     "text": [
      "사각형의 넓이는 1500고, 둘레는 160입니다\n"
     ]
    }
   ],
   "source": [
    "height = 50\n",
    "width = 30\n",
    "\n",
    "area = height*width\n",
    "perimeter = 2*(height + width)\n",
    "\n",
    "print(f\"사각형의 넓이는 {area}고, 둘레는 {perimeter}입니다\")"
   ]
  },
  {
   "cell_type": "markdown",
   "id": "d5b3b7fb-004e-4dcd-816d-3ea002b141d3",
   "metadata": {},
   "source": [
    "### 함수의 선언과 호출 \n",
    "\n",
    "- 함수의 선언\n",
    "\n",
    "```python\n",
    "def func_name(parameter1, ,,,):\n",
    "    code1\n",
    "    code2\n",
    "    return value \n",
    "```\n",
    "\n",
    "- 함수의 실행\n",
    "\n",
    "```python\n",
    "func_name(paramter1, parameter2 ...) "
   ]
  },
  {
   "cell_type": "code",
   "execution_count": 5,
   "id": "4233c1e9-2a9b-4f8b-851f-04b3a79b0829",
   "metadata": {},
   "outputs": [],
   "source": [
    "def rectangle(height, width):\n",
    "    area = height*width\n",
    "    perimeter = (height + width)*2\n",
    "    print(area, perimeter)\n",
    "#함수를 선언하는 것 \n",
    "#def한대로 함수를 여러번 호출할수 있음 "
   ]
  },
  {
   "cell_type": "code",
   "execution_count": 7,
   "id": "5ca7bc20-eee5-4e1d-a0f5-a70464979b6e",
   "metadata": {},
   "outputs": [
    {
     "name": "stdout",
     "output_type": "stream",
     "text": [
      "20000 600\n"
     ]
    }
   ],
   "source": [
    "rectangle(100,200)"
   ]
  },
  {
   "cell_type": "code",
   "execution_count": 10,
   "id": "3a34f510-3f70-43e7-be0b-9c88d9c29fa9",
   "metadata": {
    "scrolled": true
   },
   "outputs": [
    {
     "data": {
      "text/plain": [
       "['ArithmeticError',\n",
       " 'AssertionError',\n",
       " 'AttributeError',\n",
       " 'BaseException',\n",
       " 'BaseExceptionGroup',\n",
       " 'BlockingIOError',\n",
       " 'BrokenPipeError',\n",
       " 'BufferError',\n",
       " 'BytesWarning',\n",
       " 'ChildProcessError',\n",
       " 'ConnectionAbortedError',\n",
       " 'ConnectionError',\n",
       " 'ConnectionRefusedError',\n",
       " 'ConnectionResetError',\n",
       " 'DeprecationWarning',\n",
       " 'EOFError',\n",
       " 'Ellipsis',\n",
       " 'EncodingWarning',\n",
       " 'EnvironmentError',\n",
       " 'Exception',\n",
       " 'ExceptionGroup',\n",
       " 'False',\n",
       " 'FileExistsError',\n",
       " 'FileNotFoundError',\n",
       " 'FloatingPointError',\n",
       " 'FutureWarning',\n",
       " 'GeneratorExit',\n",
       " 'IOError',\n",
       " 'ImportError',\n",
       " 'ImportWarning',\n",
       " 'IndentationError',\n",
       " 'IndexError',\n",
       " 'InterruptedError',\n",
       " 'IsADirectoryError',\n",
       " 'KeyError',\n",
       " 'KeyboardInterrupt',\n",
       " 'LookupError',\n",
       " 'MemoryError',\n",
       " 'ModuleNotFoundError',\n",
       " 'NameError',\n",
       " 'None',\n",
       " 'NotADirectoryError',\n",
       " 'NotImplemented',\n",
       " 'NotImplementedError',\n",
       " 'OSError',\n",
       " 'OverflowError',\n",
       " 'PendingDeprecationWarning',\n",
       " 'PermissionError',\n",
       " 'ProcessLookupError',\n",
       " 'RecursionError',\n",
       " 'ReferenceError',\n",
       " 'ResourceWarning',\n",
       " 'RuntimeError',\n",
       " 'RuntimeWarning',\n",
       " 'StopAsyncIteration',\n",
       " 'StopIteration',\n",
       " 'SyntaxError',\n",
       " 'SyntaxWarning',\n",
       " 'SystemError',\n",
       " 'SystemExit',\n",
       " 'TabError',\n",
       " 'TimeoutError',\n",
       " 'True',\n",
       " 'TypeError',\n",
       " 'UnboundLocalError',\n",
       " 'UnicodeDecodeError',\n",
       " 'UnicodeEncodeError',\n",
       " 'UnicodeError',\n",
       " 'UnicodeTranslateError',\n",
       " 'UnicodeWarning',\n",
       " 'UserWarning',\n",
       " 'ValueError',\n",
       " 'Warning',\n",
       " 'WindowsError',\n",
       " 'ZeroDivisionError',\n",
       " '__IPYTHON__',\n",
       " '__build_class__',\n",
       " '__debug__',\n",
       " '__doc__',\n",
       " '__import__',\n",
       " '__loader__',\n",
       " '__name__',\n",
       " '__package__',\n",
       " '__spec__',\n",
       " 'abs',\n",
       " 'aiter',\n",
       " 'all',\n",
       " 'anext',\n",
       " 'any',\n",
       " 'ascii',\n",
       " 'bin',\n",
       " 'bool',\n",
       " 'breakpoint',\n",
       " 'bytearray',\n",
       " 'bytes',\n",
       " 'callable',\n",
       " 'chr',\n",
       " 'classmethod',\n",
       " 'compile',\n",
       " 'complex',\n",
       " 'copyright',\n",
       " 'credits',\n",
       " 'delattr',\n",
       " 'dict',\n",
       " 'dir',\n",
       " 'display',\n",
       " 'divmod',\n",
       " 'enumerate',\n",
       " 'eval',\n",
       " 'exec',\n",
       " 'execfile',\n",
       " 'filter',\n",
       " 'float',\n",
       " 'format',\n",
       " 'frozenset',\n",
       " 'get_ipython',\n",
       " 'getattr',\n",
       " 'globals',\n",
       " 'hasattr',\n",
       " 'hash',\n",
       " 'help',\n",
       " 'hex',\n",
       " 'id',\n",
       " 'input',\n",
       " 'int',\n",
       " 'isinstance',\n",
       " 'issubclass',\n",
       " 'iter',\n",
       " 'len',\n",
       " 'license',\n",
       " 'list',\n",
       " 'locals',\n",
       " 'map',\n",
       " 'max',\n",
       " 'memoryview',\n",
       " 'min',\n",
       " 'next',\n",
       " 'object',\n",
       " 'oct',\n",
       " 'open',\n",
       " 'ord',\n",
       " 'pow',\n",
       " 'print',\n",
       " 'property',\n",
       " 'range',\n",
       " 'repr',\n",
       " 'reversed',\n",
       " 'round',\n",
       " 'runfile',\n",
       " 'set',\n",
       " 'setattr',\n",
       " 'slice',\n",
       " 'sorted',\n",
       " 'staticmethod',\n",
       " 'str',\n",
       " 'sum',\n",
       " 'super',\n",
       " 'tuple',\n",
       " 'type',\n",
       " 'vars',\n",
       " 'zip']"
      ]
     },
     "execution_count": 10,
     "metadata": {},
     "output_type": "execute_result"
    }
   ],
   "source": [
    "dir(__builtin__)\n",
    "#내장함수를 의미함 \n",
    "#연산을 할수 있게 미리 내장이 되어있는 것"
   ]
  },
  {
   "cell_type": "code",
   "execution_count": 12,
   "id": "52b0589d-710b-4b05-bf17-e34ff679cfeb",
   "metadata": {},
   "outputs": [
    {
     "data": {
      "text/plain": [
       "4"
      ]
     },
     "execution_count": 12,
     "metadata": {},
     "output_type": "execute_result"
    }
   ],
   "source": [
    "#iterable = 반복가능한 \n",
    "max([1, 2, 3, 4])"
   ]
  },
  {
   "cell_type": "code",
   "execution_count": 14,
   "id": "7b18598a-8f4b-411b-9971-23482f5dc361",
   "metadata": {},
   "outputs": [],
   "source": [
    "def my_max(num1, num2):\n",
    "    if num1 > num2:\n",
    "        print(num1)\n",
    "    elif num1 < num2:\n",
    "        print(num2)\n",
    "    else:\n",
    "        print(\"동일합니다.\")\n",
    "    "
   ]
  },
  {
   "cell_type": "code",
   "execution_count": 15,
   "id": "e6ba6816-41d4-46a3-9bfb-6a94a394bcd3",
   "metadata": {},
   "outputs": [
    {
     "name": "stdout",
     "output_type": "stream",
     "text": [
      "동일합니다.\n",
      "5\n",
      "7\n"
     ]
    }
   ],
   "source": [
    "my_max(1,1)\n",
    "my_max(5,1)\n",
    "my_max(6,7)"
   ]
  },
  {
   "cell_type": "markdown",
   "id": "9a0b0938-9e16-44b4-abc9-099b58206958",
   "metadata": {},
   "source": [
    "## 함수의 return\n",
    "- 함수가 reurn을 만나면 해당 값을 변환하고 함수를 종료\n",
    "- 만약 return이 없는 경우 None을 자동으로 반환\n",
    "- return은 오직 하나의 객체만 반환한다"
   ]
  },
  {
   "cell_type": "code",
   "execution_count": 17,
   "id": "59f76de5-e5b7-44c9-ac9a-fbaaff2c7998",
   "metadata": {},
   "outputs": [
    {
     "name": "stdout",
     "output_type": "stream",
     "text": [
      "2\n",
      "None\n"
     ]
    }
   ],
   "source": [
    "result = my_max(1,2)\n",
    "print(result)"
   ]
  },
  {
   "cell_type": "code",
   "execution_count": 19,
   "id": "5bc8d4aa-3f3d-454e-b2be-8e7db582f052",
   "metadata": {},
   "outputs": [],
   "source": [
    "def my_max2(num1,num2):\n",
    "    if num1>num2:\n",
    "        return num1\n",
    "    elif num1<num2:\n",
    "        return num2\n",
    "    else:\n",
    "        return num1"
   ]
  },
  {
   "cell_type": "code",
   "execution_count": 20,
   "id": "70f5c676-d455-4581-9ae4-bc203d5764af",
   "metadata": {},
   "outputs": [
    {
     "name": "stdout",
     "output_type": "stream",
     "text": [
      "2\n"
     ]
    }
   ],
   "source": [
    "my_max(1,2) #print를 사용"
   ]
  },
  {
   "cell_type": "code",
   "execution_count": 22,
   "id": "e3bcb736-48bf-4229-b837-ef4a71321187",
   "metadata": {},
   "outputs": [
    {
     "data": {
      "text/plain": [
       "2"
      ]
     },
     "execution_count": 22,
     "metadata": {},
     "output_type": "execute_result"
    }
   ],
   "source": [
    "my_max2(1,2) #return을 사용 (주피터 노트북이라서 그렇지, 원래는 print 없으면 변환 되는 값이 없음) "
   ]
  },
  {
   "cell_type": "code",
   "execution_count": 29,
   "id": "d477c62a-3433-4770-9900-713754a112e5",
   "metadata": {},
   "outputs": [],
   "source": [
    "def my_list_max(list1, list2):\n",
    "    if sum(list1) > sum(list2):\n",
    "        return(list1)\n",
    "    elif sum(list2) > sum(list1):\n",
    "        return(list2)"
   ]
  },
  {
   "cell_type": "code",
   "execution_count": 31,
   "id": "62294760-9f29-48f4-a18a-8e995087c435",
   "metadata": {},
   "outputs": [],
   "source": [
    "#만약 \n",
    "#if list1[0] + list1[1] + lsit1[2] > list2[0] + list2[1] + lsit2[2] \n",
    "#로 적으면, list 안의 값들이 두개거나 네개이면 지정되는 짝이 안 맞아서 에러가 뜰수도 있음"
   ]
  },
  {
   "cell_type": "code",
   "execution_count": 32,
   "id": "53a092b3-5790-48ba-88ac-0481622dc137",
   "metadata": {},
   "outputs": [],
   "source": [
    "def my_list_max1(list1, list2):\n",
    "    result1 = 0\n",
    "    result2 = 0\n",
    "    # 임시 저장공간을 만들어놓음 \n",
    "    for num in list1:\n",
    "        result1 += num #num을 뽑아내서 result1의 값들과 더해서 저장하고 또 더하고 .. num의 값을 뽑아내서 result1와 더하고 result라는 임시공간에 저장\n",
    "    for num in list2:\n",
    "        result2 += num\n",
    "    if result1 > result2: #for 문으로 더해줘서 저장했던 result1 값과 result2 값을 비교\n",
    "        return result1\n",
    "    else:\n",
    "        return result2"
   ]
  },
  {
   "cell_type": "code",
   "execution_count": 30,
   "id": "2d21af9d-9713-4eeb-bd0b-401cde3417fe",
   "metadata": {},
   "outputs": [
    {
     "data": {
      "text/plain": [
       "[2, 3, 4]"
      ]
     },
     "execution_count": 30,
     "metadata": {},
     "output_type": "execute_result"
    }
   ],
   "source": [
    "my_list_max([1, 2, 3], [2, 3, 4])"
   ]
  },
  {
   "cell_type": "code",
   "execution_count": 35,
   "id": "f93efec9-983b-45db-96fd-3eca3952a29b",
   "metadata": {},
   "outputs": [
    {
     "data": {
      "text/plain": [
       "30"
      ]
     },
     "execution_count": 35,
     "metadata": {},
     "output_type": "execute_result"
    }
   ],
   "source": [
    "def my_def(x):\n",
    "    return x * 3\n",
    "    return x * 2\n",
    "\n",
    "my_def(10)\n",
    "\n",
    "#return을 여러개 써도 처음 것만 리턴해서 의미가 없음 "
   ]
  },
  {
   "cell_type": "markdown",
   "id": "9428796d-8293-44fd-9a64-fa53e695caf9",
   "metadata": {},
   "source": [
    "## 함수의 인수 \n",
    "### 위치 인수 \n",
    "- 기본적으로 함수는 위치를 기준으로 인수를 판단 "
   ]
  },
  {
   "cell_type": "code",
   "execution_count": 36,
   "id": "02bdab61-87c9-4a8d-a0de-4def362a4746",
   "metadata": {},
   "outputs": [],
   "source": [
    "def cylinder(r, h):\n",
    "    return 3.14 * r**2 * h"
   ]
  },
  {
   "cell_type": "code",
   "execution_count": 37,
   "id": "0bc89d9c-f370-47d4-bb27-ea5ac863f59f",
   "metadata": {},
   "outputs": [
    {
     "data": {
      "text/plain": [
       "1570.0"
      ]
     },
     "execution_count": 37,
     "metadata": {},
     "output_type": "execute_result"
    }
   ],
   "source": [
    "cylinder(10,5)"
   ]
  },
  {
   "cell_type": "markdown",
   "id": "823b6f2f-f71a-46a0-afcc-be142e18b48d",
   "metadata": {},
   "source": [
    "### 기본값"
   ]
  },
  {
   "cell_type": "code",
   "execution_count": 45,
   "id": "7e406f76-5c08-44e2-847d-bca17c0b5160",
   "metadata": {},
   "outputs": [],
   "source": [
    "def greeting(name=\"익명\"): #기본값을 정해주는 것\n",
    "    return f\"{name}님, 반갑습니다\""
   ]
  },
  {
   "cell_type": "code",
   "execution_count": 43,
   "id": "2fb8fb69-cdaa-4ec7-8ac1-cbab7b9eadf1",
   "metadata": {},
   "outputs": [
    {
     "data": {
      "text/plain": [
       "'홍길동님, 반갑습니다'"
      ]
     },
     "execution_count": 43,
     "metadata": {},
     "output_type": "execute_result"
    }
   ],
   "source": [
    "greeting(\"홍길동\")"
   ]
  },
  {
   "cell_type": "code",
   "execution_count": 48,
   "id": "5c6b2849-3faa-4dd4-b03f-1af6a3f64898",
   "metadata": {},
   "outputs": [
    {
     "data": {
      "text/plain": [
       "'익명님, 반갑습니다'"
      ]
     },
     "execution_count": 48,
     "metadata": {},
     "output_type": "execute_result"
    }
   ],
   "source": [
    "greeting()\n",
    "# 디폴트 값을 함수에서 미리 정해놓으면, 아무것도 입력하지 않아도 기본값 반영한게 나오지, 에러가 안 뜸"
   ]
  },
  {
   "cell_type": "code",
   "execution_count": 52,
   "id": "6be31ab2-db96-4151-b30a-66881cb376ac",
   "metadata": {},
   "outputs": [
    {
     "name": "stdout",
     "output_type": "stream",
     "text": [
      "안녕하세요***저는 길동이에요!"
     ]
    }
   ],
   "source": [
    "print(\"안녕하세요\", \"저는 길동이에요\", sep=\"***\", end=\"!\")\n",
    "# 띄어쓰기가 되어있으면 자동으로 별표 세개가 붙은 것 \n",
    "# 뒤에 느낌표 붙이기 "
   ]
  },
  {
   "cell_type": "code",
   "execution_count": 56,
   "id": "a091c283-8afc-4464-b45e-0e7425b40ac0",
   "metadata": {},
   "outputs": [
    {
     "ename": "SyntaxError",
     "evalue": "parameter without a default follows parameter with a default (4120618063.py, line 1)",
     "output_type": "error",
     "traceback": [
      "\u001b[1;36m  Cell \u001b[1;32mIn[56], line 1\u001b[1;36m\u001b[0m\n\u001b[1;33m    def greeting(name=\"익명\", age):\u001b[0m\n\u001b[1;37m                            ^\u001b[0m\n\u001b[1;31mSyntaxError\u001b[0m\u001b[1;31m:\u001b[0m parameter without a default follows parameter with a default\n"
     ]
    }
   ],
   "source": [
    "def greeting(name=\"익명\", age):\n",
    "    return f\"{name}님의 나이는 {age}입니다.\"\n",
    "\n",
    "#디폴트 값을 설정했을 때, 파이썬은 위치인자로 판단하기 때문에 어떠한 값이 들어오면 당연히 필수로 받아야할 변수에 넣어줌. 그래서 기본값 들어가면 맨 뒤에 넣어야함 "
   ]
  },
  {
   "cell_type": "code",
   "execution_count": 57,
   "id": "e3607fc0-ea5c-443f-a8e8-f67f9470117e",
   "metadata": {},
   "outputs": [],
   "source": [
    "def greeting(age, name=\"익명\"):\n",
    "    return f\"{name}님의 나이는 {age}입니다.\""
   ]
  },
  {
   "cell_type": "markdown",
   "id": "da5d5062-2b9c-41f9-9ae7-9a4cde5e09ba",
   "metadata": {},
   "source": [
    "### 키워드 인수 \n",
    "함수를 실행할 때 내가 원하는 위치에 직접적으로 특정인자를 \n",
    "키워드를 직접적으로 제시하면서 넣는 것"
   ]
  },
  {
   "cell_type": "code",
   "execution_count": 58,
   "id": "75da71c2-1413-4d20-a21b-ce71d7c17e69",
   "metadata": {},
   "outputs": [],
   "source": [
    "def greeting(age, name=\"익명\"):\n",
    "    return f\"{name}님의 나이는 {age}입니다.\""
   ]
  },
  {
   "cell_type": "markdown",
   "id": "ecaf8a65-6973-4d00-b3aa-0b5f1e10d458",
   "metadata": {},
   "source": [
    "### 가변인자 리스트 \n",
    "def func(*parms):\n",
    "    code..."
   ]
  },
  {
   "cell_type": "code",
   "execution_count": 59,
   "id": "eae3f52d-de6f-4404-ac06-010262315a5d",
   "metadata": {},
   "outputs": [
    {
     "name": "stdout",
     "output_type": "stream",
     "text": [
      "hello my name\n"
     ]
    }
   ],
   "source": [
    "print('hello', 'my', 'name')  #데이터가 몇개가 들어올지 모를 때 별표 parms로 씀"
   ]
  },
  {
   "cell_type": "code",
   "execution_count": 60,
   "id": "ce190a82-caa6-42e3-91cb-9e1516e79fcf",
   "metadata": {},
   "outputs": [],
   "source": [
    "def my_print(*words):\n",
    "    print(words)"
   ]
  },
  {
   "cell_type": "code",
   "execution_count": 61,
   "id": "3cc70036-98c4-4540-8ba6-43f79bfff676",
   "metadata": {},
   "outputs": [
    {
     "data": {
      "text/plain": [
       "7"
      ]
     },
     "execution_count": 61,
     "metadata": {},
     "output_type": "execute_result"
    }
   ],
   "source": [
    "max(1, 2, 3, 4, 5, 6, 7)"
   ]
  },
  {
   "cell_type": "code",
   "execution_count": 82,
   "id": "927a8ae1-00c2-41a8-9545-9200818efaf8",
   "metadata": {},
   "outputs": [],
   "source": [
    "def my_max(*numbers):\n",
    "    print(numbers) #이 과정을 통해 어떤 형식의 데이터인지 #큰걸 뽑아내려면 비교 값이 필요\n",
    "    # max_num = 0 # 기준점을 비교 \n",
    "    max_num = numbers[0] #음수가 나올 때를 위해 \n",
    "    \n",
    "    for number in numbers: \n",
    "        if max_num < number :\n",
    "           max_num = number #if max_num이 number보다 작으면, number로 업데이트가 돼서 max_num이 number로 계속 업데이트 되는 구조 \n",
    "    return max_num #유의 ! \n",
    "\n",
    "\n",
    "#틀린 이유 : max_num 이라는 임의의 변수와 number를 비교 했었어야 됐음 "
   ]
  },
  {
   "cell_type": "code",
   "execution_count": 83,
   "id": "f837e9ed-269b-4e2b-adef-a3a1a1b313b7",
   "metadata": {
    "scrolled": true
   },
   "outputs": [
    {
     "name": "stdout",
     "output_type": "stream",
     "text": [
      "(4, 5, 2, 4)\n"
     ]
    },
    {
     "data": {
      "text/plain": [
       "5"
      ]
     },
     "execution_count": 83,
     "metadata": {},
     "output_type": "execute_result"
    }
   ],
   "source": [
    "my_max(4,5,2,4)"
   ]
  },
  {
   "cell_type": "code",
   "execution_count": 89,
   "id": "b4aedf8b-c6e5-4275-aad8-81dffa55b264",
   "metadata": {},
   "outputs": [
    {
     "name": "stdout",
     "output_type": "stream",
     "text": [
      "(1, 'hello', {1, 2, 3}, {})\n",
      "{'hello': 'hi', 'world': 123, 'hi': {}}\n"
     ]
    }
   ],
   "source": [
    "#정의 되지 않은 키워드 인자 처리하기 \n",
    "def my_func(*datas,**kwdatas):\n",
    "    print(datas)\n",
    "    print(kwdatas)    \n",
    "my_func(1, 'hello', {1,2,3}, {}, hello='hi', world=123, hi={})\n",
    "\n",
    "#kwdatas를 딕셔너리로 만들기"
   ]
  },
  {
   "cell_type": "code",
   "execution_count": 93,
   "id": "76108c62-6082-4dc8-9130-fd54399b8de5",
   "metadata": {},
   "outputs": [],
   "source": [
    "### dictionary를 인자로 넣기 \n",
    "\n",
    "def sign_up(username, pw, pw_conf):\n",
    "    if pw == pw_conf:\n",
    "        print(f\"{username}님 회원가입을 추카추카염\")\n",
    "    else:\n",
    "        print(\"회원가입이 거절\")"
   ]
  },
  {
   "cell_type": "code",
   "execution_count": 95,
   "id": "28864e8f-bf01-4592-a1fe-925dacc1c52b",
   "metadata": {},
   "outputs": [
    {
     "ename": "SyntaxError",
     "evalue": "invalid syntax (3887056946.py, line 1)",
     "output_type": "error",
     "traceback": [
      "\u001b[1;36m  Cell \u001b[1;32mIn[95], line 1\u001b[1;36m\u001b[0m\n\u001b[1;33m    user_info = ('username':'hong', 'pw':'1234', 'pw_conf':'1234')\u001b[0m\n\u001b[1;37m                           ^\u001b[0m\n\u001b[1;31mSyntaxError\u001b[0m\u001b[1;31m:\u001b[0m invalid syntax\n"
     ]
    }
   ],
   "source": [
    "user_info = ('username':'hong', 'pw':'1234', 'pw_conf':'1234')\n",
    "\n",
    "sign_up(**user_info)"
   ]
  },
  {
   "cell_type": "markdown",
   "id": "44b766d8-b465-4bde-bbef-8aba45c4bf78",
   "metadata": {},
   "source": [
    "### lambda 표현식 \n",
    "    lambda parameter : expression "
   ]
  },
  {
   "cell_type": "code",
   "execution_count": 97,
   "id": "47621a2a-0824-4a18-a574-7941a117bcef",
   "metadata": {},
   "outputs": [
    {
     "data": {
      "text/plain": [
       "3"
      ]
     },
     "execution_count": 97,
     "metadata": {},
     "output_type": "execute_result"
    }
   ],
   "source": [
    "#람다 표현식\n",
    "(lambda num1, num2: num1+num2)(1,2)"
   ]
  },
  {
   "cell_type": "code",
   "execution_count": 98,
   "id": "920d3ee4-a48e-4475-9b75-f16a39cf6d59",
   "metadata": {},
   "outputs": [],
   "source": [
    "def my_sum(a: int, b: int): ->int  #int를 적은 이유, 쓰는 사람에게 int만 써라고 말해주는 \"타임힌트\" \n",
    "    return a+b"
   ]
  },
  {
   "cell_type": "code",
   "execution_count": 99,
   "id": "e1d98656-ae5c-4d0c-85ca-3c3a080d13a8",
   "metadata": {},
   "outputs": [
    {
     "data": {
      "text/plain": [
       "3"
      ]
     },
     "execution_count": 99,
     "metadata": {},
     "output_type": "execute_result"
    }
   ],
   "source": [
    "my_sum(1,2)"
   ]
  },
  {
   "cell_type": "markdown",
   "id": "8328e513-d187-478d-863a-4f1ad2dc72f7",
   "metadata": {},
   "source": [
    "### 이름공간(scope)\n",
    "\n",
    "python에서 사용되는 이름들은 이름공간에 저장되어있습니다 \n",
    "\n",
    "1. local : 정의된 함수 내부\n",
    "2. Enclosed : 상위 함수\n",
    "3. Global : 함수 밖의 변수\n",
    "4. Built-in : python이 기본적으로 가지고 있는 함수 "
   ]
  },
  {
   "cell_type": "code",
   "execution_count": 101,
   "id": "b24ccd74-9aa1-4e72-856b-3eca4e8f3898",
   "metadata": {},
   "outputs": [],
   "source": [
    "# 내가 정한 함수랑 원래 빌트인 되어있는 함수랑 겹치면 빌트인은 나중에 인식\n",
    "# 이름이 똑같으면 위와 같은 순서로 파이썬이 인식함"
   ]
  },
  {
   "cell_type": "code",
   "execution_count": 103,
   "id": "50e74e24-88e3-496d-967e-bcd2b41d09eb",
   "metadata": {},
   "outputs": [
    {
     "name": "stdout",
     "output_type": "stream",
     "text": [
      "1\n",
      "5\n"
     ]
    }
   ],
   "source": [
    "a = 1 \n",
    "\n",
    "def local_scope(a):\n",
    "    return a \n",
    "\n",
    "print(a)\n",
    "print(local_scope(5))\n",
    "\n",
    "\n",
    "#이름만 똑같은거지 a의 의미들이 다름 "
   ]
  },
  {
   "cell_type": "code",
   "execution_count": 105,
   "id": "eeab6d5f-bcfd-4230-8a9e-b8bc1de166c0",
   "metadata": {},
   "outputs": [
    {
     "data": {
      "text/plain": [
       "1"
      ]
     },
     "execution_count": 105,
     "metadata": {},
     "output_type": "execute_result"
    }
   ],
   "source": [
    "# 바깥에 있는 a 를 불러오고 싶으면 \n",
    "\n",
    "a = 1 \n",
    "\n",
    "def global_scope( ):\n",
    "    return a \n",
    "\n",
    "global_scope()\n",
    "\n"
   ]
  },
  {
   "cell_type": "code",
   "execution_count": null,
   "id": "ae7d11af-6ace-4231-ac68-8ab353f52628",
   "metadata": {},
   "outputs": [],
   "source": [
    "a = 1 \n",
    "\n",
    "def global_scope( ):\n",
    "    global a # 바깥의 a를 끌어오고 싶다 \n",
    "    a = a+1\n",
    "    return a \n"
   ]
  },
  {
   "cell_type": "markdown",
   "id": "8dc02518-94d6-4890-b62e-b1dc4438b738",
   "metadata": {},
   "source": [
    "### 재귀\n",
    "재귀함수는 함수 내부에서 자기자신을 호출하는 함수입니다 "
   ]
  },
  {
   "cell_type": "code",
   "execution_count": 106,
   "id": "f01b67d7-6e66-4cd9-8a45-35fe164de2e0",
   "metadata": {},
   "outputs": [
    {
     "data": {
      "text/plain": [
       "6"
      ]
     },
     "execution_count": 106,
     "metadata": {},
     "output_type": "execute_result"
    }
   ],
   "source": [
    "def fact(n):\n",
    "    if n == 1 :\n",
    "        return 1 \n",
    "    else:\n",
    "        return fact(n-1)*n\n",
    "\n",
    "\n",
    "fact(3)"
   ]
  }
 ],
 "metadata": {
  "kernelspec": {
   "display_name": "Python 3 (ipykernel)",
   "language": "python",
   "name": "python3"
  },
  "language_info": {
   "codemirror_mode": {
    "name": "ipython",
    "version": 3
   },
   "file_extension": ".py",
   "mimetype": "text/x-python",
   "name": "python",
   "nbconvert_exporter": "python",
   "pygments_lexer": "ipython3",
   "version": "3.12.4"
  }
 },
 "nbformat": 4,
 "nbformat_minor": 5
}

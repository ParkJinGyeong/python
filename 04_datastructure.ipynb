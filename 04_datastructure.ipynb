{
 "cells": [
  {
   "cell_type": "code",
   "execution_count": 2,
   "id": "16b3e303-255f-4bcd-9543-d139600a85e1",
   "metadata": {},
   "outputs": [
    {
     "name": "stdout",
     "output_type": "stream",
     "text": [
      "Hello\n"
     ]
    }
   ],
   "source": [
    "#object는 파이썬 데이터 하나하나 / 데이터를 하나 가지고 있고 기능을 하나 가지고 있음 \n",
    "#각 각 object가 가지고 있는 기능 \n",
    "print(\"Hello\")"
   ]
  },
  {
   "cell_type": "code",
   "execution_count": 4,
   "id": "d8bc9c44-4f2a-481c-bf1a-383eb6f50df2",
   "metadata": {},
   "outputs": [
    {
     "name": "stdout",
     "output_type": "stream",
     "text": [
      "['__add__', '__class__', '__contains__', '__delattr__', '__dir__', '__doc__', '__eq__', '__format__', '__ge__', '__getattribute__', '__getitem__', '__getnewargs__', '__getstate__', '__gt__', '__hash__', '__init__', '__init_subclass__', '__iter__', '__le__', '__len__', '__lt__', '__mod__', '__mul__', '__ne__', '__new__', '__reduce__', '__reduce_ex__', '__repr__', '__rmod__', '__rmul__', '__setattr__', '__sizeof__', '__str__', '__subclasshook__', 'capitalize', 'casefold', 'center', 'count', 'encode', 'endswith', 'expandtabs', 'find', 'format', 'format_map', 'index', 'isalnum', 'isalpha', 'isascii', 'isdecimal', 'isdigit', 'isidentifier', 'islower', 'isnumeric', 'isprintable', 'isspace', 'istitle', 'isupper', 'join', 'ljust', 'lower', 'lstrip', 'maketrans', 'partition', 'removeprefix', 'removesuffix', 'replace', 'rfind', 'rindex', 'rjust', 'rpartition', 'rsplit', 'rstrip', 'split', 'splitlines', 'startswith', 'strip', 'swapcase', 'title', 'translate', 'upper', 'zfill']\n"
     ]
    }
   ],
   "source": [
    "print(dir('hello'))\n",
    "#'hello'라는 기능이 할수 있는걸 모두 말해주는 것 "
   ]
  },
  {
   "cell_type": "markdown",
   "id": "eb59094b-2bd6-4f5a-92fc-92bd2f4efc21",
   "metadata": {},
   "source": [
    "### 문자열 메소드 \n",
    "- 문자열이 실행할수 있는 기능, 함수"
   ]
  },
  {
   "cell_type": "code",
   "execution_count": 5,
   "id": "ecedd5c3-4127-4753-adb6-3a8068522c99",
   "metadata": {},
   "outputs": [],
   "source": [
    "a = 'hello my name is Hong'"
   ]
  },
  {
   "cell_type": "code",
   "execution_count": 6,
   "id": "597e2187-1aaf-45a5-abd0-83d6b84739cb",
   "metadata": {},
   "outputs": [
    {
     "name": "stdout",
     "output_type": "stream",
     "text": [
      "hello my name is Hong\n"
     ]
    }
   ],
   "source": [
    "print(a)\n",
    "# 문자열 : immutable (수정이 불가능하다)"
   ]
  },
  {
   "cell_type": "code",
   "execution_count": 7,
   "id": "55b02d91-7afa-4de5-8bab-f6745447754b",
   "metadata": {},
   "outputs": [
    {
     "data": {
      "text/plain": [
       "'Hello my name is hong'"
      ]
     },
     "execution_count": 7,
     "metadata": {},
     "output_type": "execute_result"
    }
   ],
   "source": [
    "a.capitalize()"
   ]
  },
  {
   "cell_type": "code",
   "execution_count": 8,
   "id": "2d06a34f-6ad8-4aed-8fa0-bbb4b3c3097b",
   "metadata": {},
   "outputs": [
    {
     "data": {
      "text/plain": [
       "'Hello My Name Is Hong'"
      ]
     },
     "execution_count": 8,
     "metadata": {},
     "output_type": "execute_result"
    }
   ],
   "source": [
    "a.title()"
   ]
  },
  {
   "cell_type": "code",
   "execution_count": 9,
   "id": "18f6ad2c-0316-4291-9197-4f9cf8174f22",
   "metadata": {},
   "outputs": [
    {
     "data": {
      "text/plain": [
       "'HELLO MY NAME IS HONG'"
      ]
     },
     "execution_count": 9,
     "metadata": {},
     "output_type": "execute_result"
    }
   ],
   "source": [
    "a.upper()"
   ]
  },
  {
   "cell_type": "code",
   "execution_count": 10,
   "id": "7bd24100-5178-46c4-a454-0848fa127484",
   "metadata": {},
   "outputs": [
    {
     "data": {
      "text/plain": [
       "'hello my name is hong'"
      ]
     },
     "execution_count": 10,
     "metadata": {},
     "output_type": "execute_result"
    }
   ],
   "source": [
    "a.lower()"
   ]
  },
  {
   "cell_type": "code",
   "execution_count": 11,
   "id": "605d8c57-7f46-4b6a-8e15-5141fa5d43ab",
   "metadata": {},
   "outputs": [
    {
     "name": "stdout",
     "output_type": "stream",
     "text": [
      "HELLO MY NAME IS HONG\n"
     ]
    }
   ],
   "source": [
    "#원본 데이터를 수정해주지는 않음 \n",
    "#재할당으로 원본을 바꾸면 됨 \n",
    "a = a.upper()\n",
    "print(a)"
   ]
  },
  {
   "cell_type": "code",
   "execution_count": 15,
   "id": "5739c02c-e33b-4c9b-b075-b71bc6b48632",
   "metadata": {},
   "outputs": [
    {
     "name": "stdout",
     "output_type": "stream",
     "text": [
      "my!!!name!!!is\n"
     ]
    }
   ],
   "source": [
    "my_list = ['my' , 'name', 'is']\n",
    "print('!!!'.join(my_list))\n",
    "#작은 따옴표 조심, !!!로 리스트 내용들을 합쳐 준다 "
   ]
  },
  {
   "cell_type": "code",
   "execution_count": 17,
   "id": "84204fc6-7acb-44b3-88fc-7997454b07f6",
   "metadata": {},
   "outputs": [
    {
     "name": "stdout",
     "output_type": "stream",
     "text": [
      "               hello     \n",
      "  \n",
      "hello\n"
     ]
    }
   ],
   "source": [
    "my_string = '               hello     \\n  '\n",
    "print(my_string)\n",
    "#좌우 공백을 지워야할 때 (보통 엑셀에서 불러와서)\n",
    "print(my_string.strip())"
   ]
  },
  {
   "cell_type": "code",
   "execution_count": 19,
   "id": "804c49cd-0b4a-4938-8042-93c3cf0ed770",
   "metadata": {},
   "outputs": [
    {
     "name": "stdout",
     "output_type": "stream",
     "text": [
      "hello\n",
      "hello------\n",
      "----------hello\n"
     ]
    }
   ],
   "source": [
    "my_string2 = '----------hello------' \n",
    "print(my_string2.strip('-'))\n",
    "print(my_string2.lstrip('-'))\n",
    "print(my_string2.rstrip('-'))      \n",
    "#'-'를 없애주고 싶음 "
   ]
  },
  {
   "cell_type": "code",
   "execution_count": 20,
   "id": "ecbaafa2-fe9a-47f2-935b-1ec1637e73d5",
   "metadata": {},
   "outputs": [
    {
     "data": {
      "text/plain": [
       "'waaaoooow'"
      ]
     },
     "execution_count": 20,
     "metadata": {},
     "output_type": "execute_result"
    }
   ],
   "source": [
    "a = \"wooooooow\"\n",
    "a.replace('o','a',3)"
   ]
  },
  {
   "cell_type": "code",
   "execution_count": 21,
   "id": "8d7aef81-1276-4d2b-94a5-297ddf8c9780",
   "metadata": {},
   "outputs": [
    {
     "data": {
      "text/plain": [
       "'woooow'"
      ]
     },
     "execution_count": 21,
     "metadata": {},
     "output_type": "execute_result"
    }
   ],
   "source": [
    "a.replace('o','',3)"
   ]
  },
  {
   "cell_type": "code",
   "execution_count": 23,
   "id": "10d51af8-4d3f-48ed-a545-fb51fcd779c0",
   "metadata": {},
   "outputs": [
    {
     "name": "stdout",
     "output_type": "stream",
     "text": [
      "0\n",
      "1\n"
     ]
    }
   ],
   "source": [
    "a = 'appple' \n",
    "print(a.index('a'))\n",
    "print(a.index('p'))\n",
    "#만약 데이터가 없으면 에러가 뜸 "
   ]
  },
  {
   "cell_type": "markdown",
   "id": "3e2de3ff-5fa0-4c3b-a0cb-26b89e15961d",
   "metadata": {},
   "source": [
    "### 리스트 메소드 "
   ]
  },
  {
   "cell_type": "code",
   "execution_count": 26,
   "id": "d4a81551-bef7-41dd-a8b4-01ce7547103e",
   "metadata": {},
   "outputs": [],
   "source": [
    "numbers = [1, 2, 3, 4, 5, 6]"
   ]
  },
  {
   "cell_type": "code",
   "execution_count": 27,
   "id": "27784e8b-ad5a-4d50-a839-9dab0c1f96d4",
   "metadata": {
    "scrolled": true
   },
   "outputs": [
    {
     "name": "stdout",
     "output_type": "stream",
     "text": [
      "[1, 2, 3, 4, 5, 6, 10]\n"
     ]
    }
   ],
   "source": [
    "numbers.append(10)\n",
    "print(numbers)\n",
    "#오른쪽에 붙는 개념 "
   ]
  },
  {
   "cell_type": "code",
   "execution_count": 28,
   "id": "0fe83bfc-8cb7-4073-8a77-90813a2fe4ed",
   "metadata": {},
   "outputs": [],
   "source": [
    "a=[99,100]"
   ]
  },
  {
   "cell_type": "code",
   "execution_count": 29,
   "id": "67905abb-fa25-4598-a89d-53cbeee040dc",
   "metadata": {},
   "outputs": [
    {
     "name": "stdout",
     "output_type": "stream",
     "text": [
      "[1, 2, 3, 4, 5, 6, 10, 99, 100]\n"
     ]
    }
   ],
   "source": [
    "numbers.extend(a)\n",
    "print(numbers)"
   ]
  },
  {
   "cell_type": "code",
   "execution_count": 35,
   "id": "6dff7ee9-89d8-40de-bfbe-ac1f0c205901",
   "metadata": {},
   "outputs": [
    {
     "name": "stdout",
     "output_type": "stream",
     "text": [
      "[1, 2, 3, 4, 5, -10, 6, 10, 99, 100]\n"
     ]
    }
   ],
   "source": [
    "#어디에 무엇을 넣을까 ? \n",
    "numbers.insert(5, -10)\n",
    "print(numbers)"
   ]
  },
  {
   "cell_type": "code",
   "execution_count": null,
   "id": "6cf5753a-2d6d-44a9-8489-3bad3fde9b1e",
   "metadata": {},
   "outputs": [],
   "source": []
  },
  {
   "cell_type": "code",
   "execution_count": 36,
   "id": "6cde8fff-2993-4e40-83c3-3f8af3378a7f",
   "metadata": {},
   "outputs": [
    {
     "name": "stdout",
     "output_type": "stream",
     "text": [
      "[1, 2, 3, 4, 5, 6, 10, 99, 100]\n"
     ]
    }
   ],
   "source": [
    "numbers.remove(-10)\n",
    "print(numbers)\n",
    "#만약 제거할 값이 없으면 에러 값이 뜸 "
   ]
  },
  {
   "cell_type": "code",
   "execution_count": 40,
   "id": "f28802b3-e806-415f-bf4b-fc15266fc20d",
   "metadata": {},
   "outputs": [
    {
     "name": "stdout",
     "output_type": "stream",
     "text": [
      "[2, 3, 4, 5, 6] 10\n"
     ]
    }
   ],
   "source": [
    "# 자료구조 스택 (stack) (아래에서부터 쌓이는 구조임) que와 비교 \n",
    "# 스택은 LIFO \n",
    "result = numbers.pop()\n",
    "print(numbers, result)\n",
    "#뽑은 다음 활용하고 싶을 때 "
   ]
  },
  {
   "cell_type": "code",
   "execution_count": 38,
   "id": "540cbc92-c1ab-4966-912e-d12a4a8c86c1",
   "metadata": {},
   "outputs": [
    {
     "name": "stdout",
     "output_type": "stream",
     "text": [
      "[2, 3, 4, 5, 6, 10, 99]\n"
     ]
    }
   ],
   "source": [
    "numbers.pop(0)\n",
    "print(numbers)"
   ]
  },
  {
   "cell_type": "code",
   "execution_count": null,
   "id": "7df0199a-17ea-4bc9-b48e-d05044720b12",
   "metadata": {},
   "outputs": [],
   "source": [
    "# pop은 위치에 있는 데이터를 지우는 것\n",
    "# pop을 했을 때 결과물이 어딘가 저장된다 "
   ]
  },
  {
   "cell_type": "code",
   "execution_count": 41,
   "id": "88bc4a18-833e-47ef-9fe3-9bcfccc7ae99",
   "metadata": {},
   "outputs": [
    {
     "name": "stdout",
     "output_type": "stream",
     "text": [
      "[2, 3, 4, 5, 6]\n",
      "[6, 5, 4, 3, 2]\n"
     ]
    }
   ],
   "source": [
    "#데이터를 정렬하는 것 \n",
    "numbers.sort()\n",
    "print(numbers)\n",
    "#오름차순\n",
    "numbers.sort(reverse = True)\n",
    "print(numbers)\n",
    "#내림차순"
   ]
  },
  {
   "cell_type": "code",
   "execution_count": 43,
   "id": "391cbed0-6925-42bc-a7f3-2fea8d51a777",
   "metadata": {},
   "outputs": [
    {
     "name": "stdout",
     "output_type": "stream",
     "text": [
      "[0, 3, 5, 7, 8]\n",
      "[5, 3, 7, 8, 0]\n"
     ]
    }
   ],
   "source": [
    "numbers = [5, 3, 7, 8, 0]\n",
    "print(sorted(numbers)) #결과만 알려주고 원본은 안 바뀜 \n",
    "print(numbers)\n",
    "#sort는 원본을 변화시킴. sorted은 결과만 가르쳐주는 느낌 "
   ]
  },
  {
   "cell_type": "code",
   "execution_count": 45,
   "id": "35adfa71-44f6-4eb6-a390-dbe0948bc63d",
   "metadata": {},
   "outputs": [
    {
     "name": "stdout",
     "output_type": "stream",
     "text": [
      "[5, 3, 7, 8, 0]\n",
      "[0, 8, 7, 3, 5]\n"
     ]
    }
   ],
   "source": [
    "print(numbers)\n",
    "numbers.reverse()\n",
    "print(numbers)"
   ]
  },
  {
   "cell_type": "code",
   "execution_count": 48,
   "id": "3b7b0fd2-968b-40d0-8272-17f611235aa3",
   "metadata": {},
   "outputs": [
    {
     "name": "stdout",
     "output_type": "stream",
     "text": [
      "[8, 7]\n",
      "3\n",
      "[5, 3, 7, 8, 0]\n"
     ]
    }
   ],
   "source": [
    "print(numbers[1:3])\n",
    "#1이상 3미만 \n",
    "print(numbers[-2])\n",
    "#뒤에서부터 숫자를 세었을 때 두번째에 있습니다 \n",
    "print(numbers[::-1])"
   ]
  },
  {
   "cell_type": "markdown",
   "id": "d41c4433-402f-4e70-aec0-fb35b0e92f4e",
   "metadata": {},
   "source": [
    "### list copy"
   ]
  },
  {
   "cell_type": "code",
   "execution_count": 50,
   "id": "f882adf5-eab4-465a-a7a9-a252323d291c",
   "metadata": {},
   "outputs": [],
   "source": [
    "origin_list=[1, 2, 3]\n",
    "copy_list = origin_list "
   ]
  },
  {
   "cell_type": "code",
   "execution_count": 51,
   "id": "2cef9d73-92b3-4efa-846b-625cbbe66f93",
   "metadata": {},
   "outputs": [
    {
     "name": "stdout",
     "output_type": "stream",
     "text": [
      "[100, 2, 3]\n"
     ]
    }
   ],
   "source": [
    "#원본데이터만 바꿨을 때 copy 한 것도 같이 바뀜 \n",
    "#엄밀히 따지자면 직접 데이터를 하나하나 다 저장한게 아니라, 주소를 저장한 것\n",
    "#그래서 원본데이터만 바꿔도 copy도 같이 바뀜 \n",
    "origin_list[0] = 100\n",
    "print(copy_list)"
   ]
  },
  {
   "cell_type": "code",
   "execution_count": 52,
   "id": "e3bcbdbc-9016-4e63-92f7-42fd47c896cd",
   "metadata": {},
   "outputs": [
    {
     "name": "stdout",
     "output_type": "stream",
     "text": [
      "[100, 2, 3]\n",
      "[1, 2, 3]\n"
     ]
    }
   ],
   "source": [
    "origin_list=[1, 2, 3]\n",
    "copy_list = origin_list[:] #슬라이싱을 해서 카피 했다는 뜻, 주소 말고 하나씩 다 저장했다는 뜻 \n",
    "\n",
    "origin_list[0] = 100\n",
    "\n",
    "print(origin_list)\n",
    "print(copy_list)"
   ]
  },
  {
   "cell_type": "code",
   "execution_count": 53,
   "id": "7d5623b8-ffd8-4be1-abe2-6b998d9bab82",
   "metadata": {},
   "outputs": [
    {
     "name": "stdout",
     "output_type": "stream",
     "text": [
      "[100, 2, [100, 5]]\n",
      "[1, 2, [100, 5]]\n"
     ]
    }
   ],
   "source": [
    "origin_list = [1, 2, [4,5]]\n",
    "copy_list = origin_list[:]\n",
    "\n",
    "origin_list[0] = 100\n",
    "origin_list[2][0] = 100\n",
    "\n",
    "print(origin_list)\n",
    "print(copy_list)\n",
    "\n",
    "#범위 내에서 슬라이싱 한다는 뜻 ? "
   ]
  },
  {
   "cell_type": "code",
   "execution_count": 54,
   "id": "6f161d58-603b-4d23-abbf-7d3f1caa16cd",
   "metadata": {},
   "outputs": [
    {
     "name": "stdout",
     "output_type": "stream",
     "text": [
      "[100, 2, [100, 4]]\n",
      "[1, 2, [3, 4]]\n"
     ]
    }
   ],
   "source": [
    "import copy\n",
    "origin_list = [1,2, [3,4]]\n",
    "copy_list = copy.deepcopy(origin_list)\n",
    "\n",
    "origin_list[0] = 100\n",
    "origin_list[2][0] = 100\n",
    "\n",
    "print(origin_list)\n",
    "print(copy_list)"
   ]
  },
  {
   "cell_type": "markdown",
   "id": "297f5105-959e-450d-b7c8-d6011cdea699",
   "metadata": {},
   "source": [
    "### list comprehension\n",
    "- 읽을 수는 있어야 함 "
   ]
  },
  {
   "cell_type": "code",
   "execution_count": 55,
   "id": "c15377ef-806a-461d-81a0-60d7e3f4ae9c",
   "metadata": {},
   "outputs": [
    {
     "name": "stdout",
     "output_type": "stream",
     "text": [
      "[1, 2, 3, 4, 5, 6, 7, 8, 9]\n"
     ]
    }
   ],
   "source": [
    "numbers = list(range(1,10))\n",
    "print(numbers)"
   ]
  },
  {
   "cell_type": "code",
   "execution_count": 56,
   "id": "b4ee71bd-b1e6-498a-9c1c-e221c2da9d1e",
   "metadata": {},
   "outputs": [
    {
     "name": "stdout",
     "output_type": "stream",
     "text": [
      "[1, 8, 27, 64, 125, 216, 343, 512, 729]\n"
     ]
    }
   ],
   "source": [
    "result = []\n",
    "for number in numbers:\n",
    "    temp = number ** 3\n",
    "    result.append(temp)\n",
    "print(result)\n",
    "#As you can see, each call to append adds a new element (temp) to the result list, \n",
    "#while the existing elements in the list remain unchanged. \n",
    "#The append function modifies the list in place by adding a new element to the end, \n",
    "#preserving all previously added elements."
   ]
  },
  {
   "cell_type": "code",
   "execution_count": 57,
   "id": "aa1854c4-a5aa-4a37-b8d6-4667dfeec59d",
   "metadata": {},
   "outputs": [
    {
     "name": "stdout",
     "output_type": "stream",
     "text": [
      "[1, 8, 27, 64, 125, 216, 343, 512, 729]\n"
     ]
    }
   ],
   "source": [
    "result = [number **3 for number in numbers]\n",
    "#반복문을 어떻게 계산할 건지 앞에 적어주는 st \n",
    "print(result)"
   ]
  },
  {
   "cell_type": "code",
   "execution_count": 58,
   "id": "c41d10fc-be9c-40f7-8115-7e264371ef02",
   "metadata": {},
   "outputs": [
    {
     "name": "stdout",
     "output_type": "stream",
     "text": [
      "[2, 4, 6, 8]\n"
     ]
    }
   ],
   "source": [
    "result = []\n",
    "for number in numbers:\n",
    "    if number % 2 == 0 : \n",
    "        result.append(number) #result라는 변수에 차곡차곡 더하기 \n",
    "print(result)"
   ]
  },
  {
   "cell_type": "code",
   "execution_count": 60,
   "id": "68570e37-ac20-4672-b356-2e3ddee22e86",
   "metadata": {},
   "outputs": [
    {
     "name": "stdout",
     "output_type": "stream",
     "text": [
      "[2, 4, 6, 8]\n"
     ]
    }
   ],
   "source": [
    "result = [number for number in numbers if number % 2 == 0]\n",
    "print(result)"
   ]
  },
  {
   "cell_type": "code",
   "execution_count": 61,
   "id": "89e3a49d-aa91-4d6c-bb46-b02b584d9eee",
   "metadata": {},
   "outputs": [],
   "source": [
    "words = 'my name is hong'"
   ]
  },
  {
   "cell_type": "code",
   "execution_count": 62,
   "id": "0201aa9c-1732-4533-87df-a957e5dc607b",
   "metadata": {},
   "outputs": [
    {
     "name": "stdout",
     "output_type": "stream",
     "text": [
      "[]\n"
     ]
    }
   ],
   "source": [
    "result = []\n",
    "char = ['a','i','e','o','u']\n",
    "for word in words:\n",
    "    if word == char:\n",
    "        result = replace[char,'']\n",
    "print(result)"
   ]
  },
  {
   "cell_type": "code",
   "execution_count": 64,
   "id": "4c526014-cd67-4893-8549-342ea646fcfc",
   "metadata": {},
   "outputs": [
    {
     "ename": "TypeError",
     "evalue": "replace() argument 1 must be str, not list",
     "output_type": "error",
     "traceback": [
      "\u001b[1;31m---------------------------------------------------------------------------\u001b[0m",
      "\u001b[1;31mTypeError\u001b[0m                                 Traceback (most recent call last)",
      "Cell \u001b[1;32mIn[64], line 3\u001b[0m\n\u001b[0;32m      1\u001b[0m words \u001b[38;5;241m=\u001b[39m \u001b[38;5;124m'\u001b[39m\u001b[38;5;124mmy name is hong\u001b[39m\u001b[38;5;124m'\u001b[39m\n\u001b[0;32m      2\u001b[0m char \u001b[38;5;241m=\u001b[39m [\u001b[38;5;124m'\u001b[39m\u001b[38;5;124ma\u001b[39m\u001b[38;5;124m'\u001b[39m,\u001b[38;5;124m'\u001b[39m\u001b[38;5;124mi\u001b[39m\u001b[38;5;124m'\u001b[39m,\u001b[38;5;124m'\u001b[39m\u001b[38;5;124me\u001b[39m\u001b[38;5;124m'\u001b[39m,\u001b[38;5;124m'\u001b[39m\u001b[38;5;124mo\u001b[39m\u001b[38;5;124m'\u001b[39m,\u001b[38;5;124m'\u001b[39m\u001b[38;5;124mu\u001b[39m\u001b[38;5;124m'\u001b[39m]\n\u001b[1;32m----> 3\u001b[0m \u001b[43mwords\u001b[49m\u001b[38;5;241;43m.\u001b[39;49m\u001b[43mreplace\u001b[49m\u001b[43m(\u001b[49m\u001b[43mchar\u001b[49m\u001b[43m,\u001b[49m\u001b[38;5;124;43m'\u001b[39;49m\u001b[38;5;124;43m'\u001b[39;49m\u001b[43m)\u001b[49m\n",
      "\u001b[1;31mTypeError\u001b[0m: replace() argument 1 must be str, not list"
     ]
    }
   ],
   "source": [
    "words = 'my name is hong'\n",
    "char = ['a','i','e','o','u']\n",
    "words.replace(char,'')"
   ]
  },
  {
   "cell_type": "code",
   "execution_count": 67,
   "id": "3046b52a-8edb-4a1d-8ae1-0f525ea4f25a",
   "metadata": {},
   "outputs": [
    {
     "ename": "NameError",
     "evalue": "name 's' is not defined",
     "output_type": "error",
     "traceback": [
      "\u001b[1;31m---------------------------------------------------------------------------\u001b[0m",
      "\u001b[1;31mNameError\u001b[0m                                 Traceback (most recent call last)",
      "Cell \u001b[1;32mIn[67], line 1\u001b[0m\n\u001b[1;32m----> 1\u001b[0m s \u001b[38;5;241m=\u001b[39m \u001b[43ms\u001b[49m\u001b[38;5;241m.\u001b[39mreplace(\u001b[38;5;124m'\u001b[39m\u001b[38;5;124m \u001b[39m\u001b[38;5;124m'\u001b[39m, \u001b[38;5;124m'\u001b[39m\u001b[38;5;124m'\u001b[39m)\n",
      "\u001b[1;31mNameError\u001b[0m: name 's' is not defined"
     ]
    }
   ],
   "source": [
    "s = s.replace(' ', '')"
   ]
  },
  {
   "cell_type": "code",
   "execution_count": 70,
   "id": "b02ca4be-be29-4b2f-abe4-c995534d868d",
   "metadata": {},
   "outputs": [
    {
     "ename": "NameError",
     "evalue": "name 's' is not defined",
     "output_type": "error",
     "traceback": [
      "\u001b[1;31m---------------------------------------------------------------------------\u001b[0m",
      "\u001b[1;31mNameError\u001b[0m                                 Traceback (most recent call last)",
      "Cell \u001b[1;32mIn[70], line 3\u001b[0m\n\u001b[0;32m      1\u001b[0m c\u001b[38;5;241m=\u001b[39mwords\u001b[38;5;241m.\u001b[39msplit()\n\u001b[1;32m----> 3\u001b[0m a_list \u001b[38;5;241m=\u001b[39m [c \u001b[38;5;28;01mfor\u001b[39;00m c \u001b[38;5;129;01min\u001b[39;00m \u001b[43ms\u001b[49m \u001b[38;5;28;01mif\u001b[39;00m c \u001b[38;5;129;01mnot\u001b[39;00m \u001b[38;5;129;01min\u001b[39;00m \u001b[38;5;124m'\u001b[39m\u001b[38;5;124maeiou\u001b[39m\u001b[38;5;124m'\u001b[39m]\n\u001b[0;32m      5\u001b[0m s \u001b[38;5;241m=\u001b[39m \u001b[38;5;124m'\u001b[39m\u001b[38;5;124m'\u001b[39m\u001b[38;5;241m.\u001b[39mjoin(a_list)\n",
      "\u001b[1;31mNameError\u001b[0m: name 's' is not defined"
     ]
    }
   ],
   "source": [
    "c=words.split()\n",
    "\n",
    "a_list = [c for c in s if c not in 'aeiou']\n",
    "\n",
    "s = ''.join(a_list)"
   ]
  },
  {
   "cell_type": "code",
   "execution_count": 69,
   "id": "2680ab07-9ffe-4fec-95b9-0c3e78076bed",
   "metadata": {},
   "outputs": [
    {
     "data": {
      "text/plain": [
       "['my', 'name', 'is', 'hong']"
      ]
     },
     "execution_count": 69,
     "metadata": {},
     "output_type": "execute_result"
    }
   ],
   "source": [
    "words.split()"
   ]
  },
  {
   "cell_type": "code",
   "execution_count": 73,
   "id": "f84fca23-a600-4605-9992-aafe937c2349",
   "metadata": {},
   "outputs": [
    {
     "name": "stdout",
     "output_type": "stream",
     "text": [
      "my nm s hng\n"
     ]
    }
   ],
   "source": [
    "words = \"my name is hong\"\n",
    "c = words.split()\n",
    "\n",
    "a_list = [char for char in words if char not in 'aeiouAEIOU']\n",
    "s = ''.join(a_list)\n",
    "\n",
    "print(s)\n",
    "\n",
    "#In Python, the join() method is used to concatenate the elements of an iterable (like a list or tuple) into a single string. \n",
    "#The string that precedes the join() method is used as the separator between the elements of the iterable.\n",
    "#''.join(a_list): The '' (empty string) is used as the separator, meaning no characters will be inserted between the elements of a_list. \n",
    "#The elements will be joined together directly."
   ]
  },
  {
   "cell_type": "code",
   "execution_count": 75,
   "id": "18176c88-793a-4f60-9b16-6ad730f8fd73",
   "metadata": {},
   "outputs": [
    {
     "name": "stdout",
     "output_type": "stream",
     "text": [
      "['m', 'y', ' ', 'n', 'm', ' ', 's', ' ', 'h', 'n', 'g']\n"
     ]
    },
    {
     "data": {
      "text/plain": [
       "'my nm s hng'"
      ]
     },
     "execution_count": 75,
     "metadata": {},
     "output_type": "execute_result"
    }
   ],
   "source": [
    "vowels = 'aeiou'\n",
    "result = []\n",
    "for char in words:\n",
    "    if char in vowels:\n",
    "        pass\n",
    "    else:\n",
    "        result.append(char)\n",
    "print(result)\n",
    "''.join(result)"
   ]
  },
  {
   "cell_type": "code",
   "execution_count": 76,
   "id": "a63ec1c6-2072-46e7-921f-58eaea4bafe5",
   "metadata": {},
   "outputs": [
    {
     "name": "stdout",
     "output_type": "stream",
     "text": [
      "['m', 'y', ' ', 'n', 'm', ' ', 's', ' ', 'h', 'n', 'g']\n"
     ]
    },
    {
     "data": {
      "text/plain": [
       "'my nm s hng'"
      ]
     },
     "execution_count": 76,
     "metadata": {},
     "output_type": "execute_result"
    }
   ],
   "source": [
    "vowels = 'aeiou'\n",
    "result = []\n",
    "for char in words:\n",
    "    if char not in vowels:\n",
    "        result.append(char)\n",
    "print(result)\n",
    "''.join(result) #join은 ieterable, 시퀀스 형태를 넣을수 있음 "
   ]
  },
  {
   "cell_type": "code",
   "execution_count": 82,
   "id": "7c52443d-42dd-442e-98bc-c7f5cf202e84",
   "metadata": {},
   "outputs": [
    {
     "name": "stdout",
     "output_type": "stream",
     "text": [
      "\n"
     ]
    }
   ],
   "source": [
    "words = \"my name is hong\"\n",
    "vowels = 'aeiou'\n",
    "\n",
    "for char in words:\n",
    "    words = words.replace(char,'')\n",
    "    \n",
    "print(words)\n",
    "\n",
    "\n",
    "#????????????? 코드 다시 보기 "
   ]
  },
  {
   "cell_type": "markdown",
   "id": "afefd2cb-74b9-4940-a3a0-f6ac38928ea2",
   "metadata": {},
   "source": [
    "### dictionary 메소드 "
   ]
  },
  {
   "cell_type": "code",
   "execution_count": 84,
   "id": "2b449aa9-f2b6-4d58-afa0-fd9a8ad69f3e",
   "metadata": {},
   "outputs": [],
   "source": [
    "info = {'name': 'hong', 'location': 'Seoul', 'age': 200, 'models': ['iphone', 'mac book'], 'phone_book': {'kim':1234, 'kang':3456}}\n"
   ]
  },
  {
   "cell_type": "code",
   "execution_count": 85,
   "id": "2fdaacea-ea2b-48c2-92e7-c96051276536",
   "metadata": {},
   "outputs": [
    {
     "name": "stdout",
     "output_type": "stream",
     "text": [
      "hong\n",
      "iphone\n"
     ]
    }
   ],
   "source": [
    "#딕셔너리의 데이터는 대괄호를 통해서 접근함 \n",
    "print(info['name'])\n",
    "print(info['models'][0])"
   ]
  },
  {
   "cell_type": "code",
   "execution_count": 92,
   "id": "61776d70-d6d9-40a7-bab4-aa1a27a50d1e",
   "metadata": {},
   "outputs": [
    {
     "name": "stdout",
     "output_type": "stream",
     "text": [
      "{'name': 'oh', 'location': 'Seoul', 'age': 200, 'models': ['iphone', 'mac book'], 'phone_book': {'kim': 1234, 'kang': 3456}}\n"
     ]
    }
   ],
   "source": [
    "info['name']='park'\n",
    "info.update(name='oh')\n",
    "#강제로 할당하는 방법 \n",
    "print(info)"
   ]
  },
  {
   "cell_type": "code",
   "execution_count": 94,
   "id": "e76611ef-275c-4a78-8492-ce7b53c6b88f",
   "metadata": {},
   "outputs": [
    {
     "ename": "KeyError",
     "evalue": "'age'",
     "output_type": "error",
     "traceback": [
      "\u001b[1;31m---------------------------------------------------------------------------\u001b[0m",
      "\u001b[1;31mKeyError\u001b[0m                                  Traceback (most recent call last)",
      "Cell \u001b[1;32mIn[94], line 1\u001b[0m\n\u001b[1;32m----> 1\u001b[0m age \u001b[38;5;241m=\u001b[39m \u001b[43minfo\u001b[49m\u001b[38;5;241;43m.\u001b[39;49m\u001b[43mpop\u001b[49m\u001b[43m(\u001b[49m\u001b[38;5;124;43m'\u001b[39;49m\u001b[38;5;124;43mage\u001b[39;49m\u001b[38;5;124;43m'\u001b[39;49m\u001b[43m)\u001b[49m\n\u001b[0;32m      2\u001b[0m \u001b[38;5;28mprint\u001b[39m(info, age)\n",
      "\u001b[1;31mKeyError\u001b[0m: 'age'"
     ]
    }
   ],
   "source": [
    "age = info.pop('age')\n",
    "print(info, age)"
   ]
  },
  {
   "cell_type": "code",
   "execution_count": 95,
   "id": "92fa4561-9af6-4495-ba35-56095d604e00",
   "metadata": {},
   "outputs": [
    {
     "name": "stdout",
     "output_type": "stream",
     "text": [
      "oh\n"
     ]
    }
   ],
   "source": [
    "print(info.get('name'))"
   ]
  },
  {
   "cell_type": "code",
   "execution_count": 97,
   "id": "6cc4959c-17b3-4aee-8141-4167988a33cc",
   "metadata": {},
   "outputs": [
    {
     "name": "stdout",
     "output_type": "stream",
     "text": [
      "None\n"
     ]
    }
   ],
   "source": [
    "print(info.get('birth'))\n",
    "#에러가 뜨지 않고 none 값이 나옴 . 그냥 대괄호만 넣으면 에러 뜸 "
   ]
  },
  {
   "cell_type": "code",
   "execution_count": 99,
   "id": "8520d99a-fa54-4fbf-8dc9-52a69245193d",
   "metadata": {},
   "outputs": [],
   "source": [
    "blood_type = ['A','B','C','D']\n",
    "\n",
    "blood_dict = {'A':2, 'B':2, 'AB':1, 'O':1}"
   ]
  },
  {
   "cell_type": "code",
   "execution_count": null,
   "id": "4f565072-2622-497b-a9fc-fffdbd9eb4d3",
   "metadata": {},
   "outputs": [],
   "source": [
    "result = {'A': 0. 'B': 0, 'AB': 0, 'O': 0}\n",
    "\n",
    "for blood in blood_type:\n",
    "    blood_type[blood] +=1 \n",
    "    \n",
    "    #### \n"
   ]
  },
  {
   "cell_type": "code",
   "execution_count": 106,
   "id": "a47e7af1-35d4-4f9e-a4d6-20b1d04b24ea",
   "metadata": {},
   "outputs": [
    {
     "name": "stdout",
     "output_type": "stream",
     "text": [
      "서울: 2명\n",
      "대전: 1명\n",
      "부산: 1명\n",
      "강릉: 1명\n",
      "LA: 1명\n"
     ]
    }
   ],
   "source": [
    "location = ['서울', '대전', '서울', '부산', '강릉','LA']\n",
    "# 기존에 있는 key면 더하고 , 없는 key면 초기화 \n",
    "# 도시별 인원 수를 저장할 딕셔너리 초기화\n",
    "city_count = {}\n",
    "\n",
    "# 각 도시를 순회하며 인원 수를 세기\n",
    "for city in location:\n",
    "    if city in city_count: #city_count의 key에 있다면 \n",
    "        city_count[city] += 1\n",
    "    else:\n",
    "        city_count[city] = 1\n",
    "\n",
    "# 결과 출력\n",
    "for city, count in city_count.items():\n",
    "    print(f\"{city}: {count}명\")\n"
   ]
  },
  {
   "cell_type": "code",
   "execution_count": 108,
   "id": "e738ec2a-9636-4bff-8111-ec6067b495e1",
   "metadata": {},
   "outputs": [
    {
     "name": "stdout",
     "output_type": "stream",
     "text": [
      "{'서울': 2, '대전': 1, '부산': 1, '강릉': 1, 'LA': 1}\n"
     ]
    }
   ],
   "source": [
    "locations = ['서울', '대전', '서울', '부산', '강릉','LA']\n",
    "\n",
    "result = {} \n",
    "\n",
    "for location in locations: \n",
    "    if result.get(location):\n",
    "        result[location] +=1\n",
    "        pass\n",
    "    else:\n",
    "        result[location] = 1\n",
    "\n",
    "print(result)"
   ]
  },
  {
   "cell_type": "code",
   "execution_count": 110,
   "id": "d46e1aa4-4b78-4fb3-9498-75c44af76455",
   "metadata": {},
   "outputs": [
    {
     "name": "stdout",
     "output_type": "stream",
     "text": [
      "{1: 1, 2: 8, 3: 27, 4: 64, 5: 125, 6: 216, 7: 343, 8: 512, 9: 729, 10: 1000}\n"
     ]
    }
   ],
   "source": [
    "result ={}\n",
    "numbers = list(range(1,11))\n",
    "\n",
    "for number in numbers:\n",
    "    result[number] = number**3\n",
    "print(result)"
   ]
  },
  {
   "cell_type": "code",
   "execution_count": 111,
   "id": "7c31ada0-faf1-4f8d-910c-96f1478bc64a",
   "metadata": {},
   "outputs": [
    {
     "name": "stdout",
     "output_type": "stream",
     "text": [
      "{'대전': 100, '부산': 200}\n"
     ]
    }
   ],
   "source": [
    "dust = {'서울' : 50, '대전' : 100, '부산': 200}\n",
    "result = {}\n",
    "#item을 쓰면 키와 벨류를 함께 쓸수 있음 \n",
    "for key, value in dust.items():\n",
    "    if value > 70:\n",
    "        result[key] = value\n",
    "print(result)\n",
    "    "
   ]
  },
  {
   "cell_type": "code",
   "execution_count": 112,
   "id": "74f1a4cd-b071-4a25-bf3e-ee7bf365215b",
   "metadata": {},
   "outputs": [
    {
     "name": "stdout",
     "output_type": "stream",
     "text": [
      "{'대전': 100, '부산': 200}\n"
     ]
    }
   ],
   "source": [
    "result = {k:v for k, v in dust.items() if v>70}\n",
    "print(result)"
   ]
  },
  {
   "cell_type": "markdown",
   "id": "f074f0fc-cee5-48b1-8422-6f8c454157e0",
   "metadata": {},
   "source": [
    "### 세트 메소드 "
   ]
  },
  {
   "cell_type": "code",
   "execution_count": 115,
   "id": "821a6981-e748-472c-901b-d8df68bafbc5",
   "metadata": {},
   "outputs": [
    {
     "name": "stdout",
     "output_type": "stream",
     "text": [
      "{'melon', 'apple', 'banana'}\n"
     ]
    }
   ],
   "source": [
    "fruits = {'apple', 'banana', 'melon', 'apple'}\n",
    "print(fruits)"
   ]
  },
  {
   "cell_type": "code",
   "execution_count": 118,
   "id": "720d99f9-4651-40bd-a90d-98a8c7ad7f4e",
   "metadata": {},
   "outputs": [
    {
     "name": "stdout",
     "output_type": "stream",
     "text": [
      "{'melon', 's', 'a', 'r', 'p', 'apple', 'e', 'banana', 'g', '수박'}\n"
     ]
    }
   ],
   "source": [
    "fruits.add('수박')\n",
    "fruits.update('grapes')\n",
    "print(fruits)"
   ]
  },
  {
   "cell_type": "code",
   "execution_count": 132,
   "id": "eb3d30f7-9404-4acc-9dee-b09e5306f420",
   "metadata": {},
   "outputs": [
    {
     "name": "stdout",
     "output_type": "stream",
     "text": [
      "{'melon', 's', 'orange', 'a', 'r', 'p', 'apple', 'e', 'banana', 'g', '수박', 'grape'}\n"
     ]
    }
   ],
   "source": [
    "fruits.update({'grape', 'orange'})\n",
    "print(fruits)"
   ]
  },
  {
   "cell_type": "markdown",
   "id": "c97f4731-6d6d-4af5-a652-121e10d96710",
   "metadata": {},
   "source": [
    "### map filter zip"
   ]
  },
  {
   "cell_type": "code",
   "execution_count": 120,
   "id": "7dddc7d5-090c-4447-b826-9e6b74440be5",
   "metadata": {},
   "outputs": [
    {
     "name": "stdout",
     "output_type": "stream",
     "text": [
      "['1', '2', '3', '4', '5']\n"
     ]
    }
   ],
   "source": [
    "numbers = [1, 2, 3, 4, 5]\n",
    "result = []\n",
    "for number in numbers:\n",
    "    result.append(str(number))\n",
    "print(result)"
   ]
  },
  {
   "cell_type": "code",
   "execution_count": 121,
   "id": "dab9a8d4-c546-4867-a78d-48590ef8efc0",
   "metadata": {},
   "outputs": [
    {
     "name": "stdout",
     "output_type": "stream",
     "text": [
      "<map object at 0x00000290C5188220>\n",
      "['1', '2', '3', '4', '5']\n"
     ]
    }
   ],
   "source": [
    "result = map(str, numbers)\n",
    "print(result)\n",
    "print(list(result)\n",
    "#map 객체의 실제 값을 확인하려면 이터레이터의 모든 원소를 평가(evaluate)하여 리스트나 \n",
    "#다른 자료형으로 변환해야 합니다. \n",
    "#list(result)를 사용하면 map 객체의 모든 원소를 리스트로 변환하여 쉽게 확인할 수 있습니다."
   ]
  },
  {
   "cell_type": "code",
   "execution_count": 122,
   "id": "c2244e45-516e-4d2d-b0b2-849cb7cea891",
   "metadata": {},
   "outputs": [
    {
     "name": "stdout",
     "output_type": "stream",
     "text": [
      "[1, 8, 27, 64, 125]\n"
     ]
    }
   ],
   "source": [
    "result=[]\n",
    "for number in numbers:\n",
    "    result.append(number **3)\n",
    "print(result)"
   ]
  },
  {
   "cell_type": "code",
   "execution_count": 126,
   "id": "9a402811-7123-4c6a-a48f-79869a66cecf",
   "metadata": {},
   "outputs": [
    {
     "name": "stdout",
     "output_type": "stream",
     "text": [
      "[1, 2, 3, 4]\n"
     ]
    }
   ],
   "source": [
    "test_input = '1 2 3 4'\n",
    "print(list(map(int, test_input.split())))\n",
    "#문제 풀때 텍스트로 주어지면 숫자로 바꿔서 계산할 때 많이 쓰이는 코드 "
   ]
  },
  {
   "cell_type": "code",
   "execution_count": 128,
   "id": "4dabc061-37c2-479e-bfdd-76e15134b050",
   "metadata": {},
   "outputs": [],
   "source": [
    "def is_odd(x)\n",
    "    return x % 2"
   ]
  },
  {
   "cell_type": "code",
   "execution_count": 130,
   "id": "1388b797-a8bd-479e-843a-b67c02a794ee",
   "metadata": {},
   "outputs": [
    {
     "name": "stdout",
     "output_type": "stream",
     "text": [
      "[1, 3, 5]\n"
     ]
    }
   ],
   "source": [
    "numbers = [1, 2, 3, 4, 5]\n",
    "\n",
    "result = []\n",
    "for number in numbers:\n",
    "    if number % 2:\n",
    "        result.append(number)\n",
    "print(result)"
   ]
  },
  {
   "cell_type": "code",
   "execution_count": 129,
   "id": "b059d82e-ad75-4f65-b85d-a4f9609d72ed",
   "metadata": {},
   "outputs": [
    {
     "name": "stdout",
     "output_type": "stream",
     "text": [
      "[1, 3, 5]\n"
     ]
    }
   ],
   "source": [
    "numbers = [1, 2, 3, 4, 5]\n",
    "result = filter(is_odd, numbers)\n",
    "print(list(result))"
   ]
  },
  {
   "cell_type": "code",
   "execution_count": 131,
   "id": "da5bee76-2e58-4c52-82fc-1dd70379c594",
   "metadata": {},
   "outputs": [
    {
     "name": "stdout",
     "output_type": "stream",
     "text": [
      "<zip object at 0x00000290C56727C0>\n",
      "[(1, 100), (2, 200), (3, 300)]\n"
     ]
    }
   ],
   "source": [
    "a = [1, 2, 3]\n",
    "b = [100, 200, 300, 400, 500]\n",
    "\n",
    "result = zip(a, b)\n",
    "print(result)\n",
    "print(list(result))"
   ]
  }
 ],
 "metadata": {
  "kernelspec": {
   "display_name": "Python 3 (ipykernel)",
   "language": "python",
   "name": "python3"
  },
  "language_info": {
   "codemirror_mode": {
    "name": "ipython",
    "version": 3
   },
   "file_extension": ".py",
   "mimetype": "text/x-python",
   "name": "python",
   "nbconvert_exporter": "python",
   "pygments_lexer": "ipython3",
   "version": "3.12.4"
  }
 },
 "nbformat": 4,
 "nbformat_minor": 5
}
